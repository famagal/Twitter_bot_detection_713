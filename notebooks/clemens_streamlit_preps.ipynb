{
 "cells": [
  {
   "cell_type": "code",
   "execution_count": 1,
   "id": "c975c845",
   "metadata": {},
   "outputs": [],
   "source": [
    "%load_ext autoreload\n",
    "%autoreload 2\n",
    "import pandas as pd\n",
    "import seaborn as sns\n",
    "import matplotlib.pyplot as plt\n",
    "import numpy as np\n",
    "from Twitter_bot_detection_713.data_prep import tweet_df_cleaner, user_df_cleaner, get_final_tweet_data, get_user_training_data"
   ]
  },
  {
   "cell_type": "code",
   "execution_count": 18,
   "id": "462a5e82",
   "metadata": {},
   "outputs": [],
   "source": [
    "X_train_user, x_test_user, y_train_user, y_test_user = get_user_training_data()"
   ]
  },
  {
   "cell_type": "code",
   "execution_count": 23,
   "id": "2d58d0d9",
   "metadata": {},
   "outputs": [
    {
     "data": {
      "text/html": [
       "<div>\n",
       "<style scoped>\n",
       "    .dataframe tbody tr th:only-of-type {\n",
       "        vertical-align: middle;\n",
       "    }\n",
       "\n",
       "    .dataframe tbody tr th {\n",
       "        vertical-align: top;\n",
       "    }\n",
       "\n",
       "    .dataframe thead th {\n",
       "        text-align: right;\n",
       "    }\n",
       "</style>\n",
       "<table border=\"1\" class=\"dataframe\">\n",
       "  <thead>\n",
       "    <tr style=\"text-align: right;\">\n",
       "      <th></th>\n",
       "      <th>author_id</th>\n",
       "      <th>username</th>\n",
       "      <th>user_display_name</th>\n",
       "      <th>user_desc</th>\n",
       "      <th>user_created_at</th>\n",
       "      <th>user_verified</th>\n",
       "      <th>user_private</th>\n",
       "      <th>user_followers_cnt</th>\n",
       "      <th>user_following_cnt</th>\n",
       "      <th>user_tweet_count</th>\n",
       "      <th>user_list_count</th>\n",
       "    </tr>\n",
       "  </thead>\n",
       "  <tbody>\n",
       "    <tr>\n",
       "      <th>14200</th>\n",
       "      <td>377591138</td>\n",
       "      <td>D_smallwood54</td>\n",
       "      <td>The_Gerber_Baby</td>\n",
       "      <td>#Team2014 | #TeamMossyOak | #TeamSkoal | #Team...</td>\n",
       "      <td>2011-09-21 20:25:27+00:00</td>\n",
       "      <td>False</td>\n",
       "      <td>False</td>\n",
       "      <td>263</td>\n",
       "      <td>0</td>\n",
       "      <td>8807</td>\n",
       "      <td>3</td>\n",
       "    </tr>\n",
       "    <tr>\n",
       "      <th>10437</th>\n",
       "      <td>2178230389</td>\n",
       "      <td>hernanes</td>\n",
       "      <td>Hernanes</td>\n",
       "      <td>A confiança é a luz do pensamento!</td>\n",
       "      <td>2013-11-06 14:53:54+00:00</td>\n",
       "      <td>True</td>\n",
       "      <td>False</td>\n",
       "      <td>1144855</td>\n",
       "      <td>175</td>\n",
       "      <td>296</td>\n",
       "      <td>721</td>\n",
       "    </tr>\n",
       "    <tr>\n",
       "      <th>19535</th>\n",
       "      <td>2555521162</td>\n",
       "      <td>TransferNews42</td>\n",
       "      <td>TransferNews42</td>\n",
       "      <td>Bringing the latest transfer news and rumours ...</td>\n",
       "      <td>2014-05-20 15:27:22+00:00</td>\n",
       "      <td>False</td>\n",
       "      <td>False</td>\n",
       "      <td>91</td>\n",
       "      <td>0</td>\n",
       "      <td>64</td>\n",
       "      <td>1</td>\n",
       "    </tr>\n",
       "    <tr>\n",
       "      <th>16084</th>\n",
       "      <td>619373442</td>\n",
       "      <td>yvette_mier</td>\n",
       "      <td>yvette mier</td>\n",
       "      <td>To follow Jesus is the greatest adventure of t...</td>\n",
       "      <td>2012-06-26 18:04:39+00:00</td>\n",
       "      <td>False</td>\n",
       "      <td>False</td>\n",
       "      <td>13</td>\n",
       "      <td>0</td>\n",
       "      <td>2813</td>\n",
       "      <td>0</td>\n",
       "    </tr>\n",
       "    <tr>\n",
       "      <th>32291</th>\n",
       "      <td>18583283</td>\n",
       "      <td>awrightolsen</td>\n",
       "      <td>Amy Wright-Olsen</td>\n",
       "      <td>BBC watcher / animal lover / eclectic friend c...</td>\n",
       "      <td>2009-01-03 18:01:52+00:00</td>\n",
       "      <td>False</td>\n",
       "      <td>False</td>\n",
       "      <td>120</td>\n",
       "      <td>301</td>\n",
       "      <td>1843</td>\n",
       "      <td>8</td>\n",
       "    </tr>\n",
       "    <tr>\n",
       "      <th>...</th>\n",
       "      <td>...</td>\n",
       "      <td>...</td>\n",
       "      <td>...</td>\n",
       "      <td>...</td>\n",
       "      <td>...</td>\n",
       "      <td>...</td>\n",
       "      <td>...</td>\n",
       "      <td>...</td>\n",
       "      <td>...</td>\n",
       "      <td>...</td>\n",
       "      <td>...</td>\n",
       "    </tr>\n",
       "    <tr>\n",
       "      <th>13871</th>\n",
       "      <td>402754479</td>\n",
       "      <td>ABJevents</td>\n",
       "      <td>abjevents</td>\n",
       "      <td>Keep track of top local events and who's who i...</td>\n",
       "      <td>2011-11-01 14:42:24+00:00</td>\n",
       "      <td>False</td>\n",
       "      <td>False</td>\n",
       "      <td>865</td>\n",
       "      <td>566</td>\n",
       "      <td>1088</td>\n",
       "      <td>37</td>\n",
       "    </tr>\n",
       "    <tr>\n",
       "      <th>23071</th>\n",
       "      <td>877608082980966405</td>\n",
       "      <td>ReggieWilson_</td>\n",
       "      <td>Reggie Wilson</td>\n",
       "      <td>Award-Winning Sports Anchor/Reporter. #Mizzou ...</td>\n",
       "      <td>2017-06-21 19:24:06+00:00</td>\n",
       "      <td>False</td>\n",
       "      <td>False</td>\n",
       "      <td>1022</td>\n",
       "      <td>247</td>\n",
       "      <td>7560</td>\n",
       "      <td>6</td>\n",
       "    </tr>\n",
       "    <tr>\n",
       "      <th>25646</th>\n",
       "      <td>118936984</td>\n",
       "      <td>sharonasoks</td>\n",
       "      <td>Sharona, PhD, MPH</td>\n",
       "      <td>Science Communicator; PhD in Public Health. Fo...</td>\n",
       "      <td>2010-03-02 04:41:13+00:00</td>\n",
       "      <td>False</td>\n",
       "      <td>False</td>\n",
       "      <td>252</td>\n",
       "      <td>888</td>\n",
       "      <td>4744</td>\n",
       "      <td>9</td>\n",
       "    </tr>\n",
       "    <tr>\n",
       "      <th>406</th>\n",
       "      <td>351799946</td>\n",
       "      <td>mrBrehm860</td>\n",
       "      <td>LiL tErpy</td>\n",
       "      <td>prolly somewhere dabbin</td>\n",
       "      <td>2011-08-09 19:07:11+00:00</td>\n",
       "      <td>False</td>\n",
       "      <td>False</td>\n",
       "      <td>354</td>\n",
       "      <td>0</td>\n",
       "      <td>25950</td>\n",
       "      <td>7</td>\n",
       "    </tr>\n",
       "    <tr>\n",
       "      <th>32833</th>\n",
       "      <td>834757356101763072</td>\n",
       "      <td>NDcxyCpUdF5f0Ry</td>\n",
       "      <td>Allsun</td>\n",
       "      <td>Science is not a sacred cow. science is a hors...</td>\n",
       "      <td>2017-02-23 13:30:37+00:00</td>\n",
       "      <td>False</td>\n",
       "      <td>False</td>\n",
       "      <td>0</td>\n",
       "      <td>28</td>\n",
       "      <td>196</td>\n",
       "      <td>1</td>\n",
       "    </tr>\n",
       "  </tbody>\n",
       "</table>\n",
       "<p>7247 rows × 11 columns</p>\n",
       "</div>"
      ],
      "text/plain": [
       "                author_id         username  ... user_tweet_count user_list_count\n",
       "14200           377591138    D_smallwood54  ...             8807               3\n",
       "10437          2178230389         hernanes  ...              296             721\n",
       "19535          2555521162   TransferNews42  ...               64               1\n",
       "16084           619373442      yvette_mier  ...             2813               0\n",
       "32291            18583283     awrightolsen  ...             1843               8\n",
       "...                   ...              ...  ...              ...             ...\n",
       "13871           402754479        ABJevents  ...             1088              37\n",
       "23071  877608082980966405    ReggieWilson_  ...             7560               6\n",
       "25646           118936984      sharonasoks  ...             4744               9\n",
       "406             351799946       mrBrehm860  ...            25950               7\n",
       "32833  834757356101763072  NDcxyCpUdF5f0Ry  ...              196               1\n",
       "\n",
       "[7247 rows x 11 columns]"
      ]
     },
     "execution_count": 23,
     "metadata": {},
     "output_type": "execute_result"
    }
   ],
   "source": [
    "x_test_user"
   ]
  },
  {
   "cell_type": "code",
   "execution_count": 24,
   "id": "b24a2229",
   "metadata": {},
   "outputs": [],
   "source": [
    "user_df = pd.read_csv('../raw_data/users_data.csv',\n",
    "                          sep='\\t',\n",
    "                          lineterminator='\\n')"
   ]
  },
  {
   "cell_type": "code",
   "execution_count": 25,
   "id": "d6eb6e47",
   "metadata": {},
   "outputs": [],
   "source": [
    "df = user_df_cleaner(user_df)"
   ]
  },
  {
   "cell_type": "code",
   "execution_count": 26,
   "id": "1e913fc9",
   "metadata": {},
   "outputs": [
    {
     "data": {
      "text/html": [
       "<div>\n",
       "<style scoped>\n",
       "    .dataframe tbody tr th:only-of-type {\n",
       "        vertical-align: middle;\n",
       "    }\n",
       "\n",
       "    .dataframe tbody tr th {\n",
       "        vertical-align: top;\n",
       "    }\n",
       "\n",
       "    .dataframe thead th {\n",
       "        text-align: right;\n",
       "    }\n",
       "</style>\n",
       "<table border=\"1\" class=\"dataframe\">\n",
       "  <thead>\n",
       "    <tr style=\"text-align: right;\">\n",
       "      <th></th>\n",
       "      <th>author_id</th>\n",
       "      <th>username</th>\n",
       "      <th>user_display_name</th>\n",
       "      <th>user_desc</th>\n",
       "      <th>user_created_at</th>\n",
       "      <th>user_verified</th>\n",
       "      <th>user_private</th>\n",
       "      <th>user_followers_cnt</th>\n",
       "      <th>user_following_cnt</th>\n",
       "      <th>user_tweet_count</th>\n",
       "      <th>user_list_count</th>\n",
       "      <th>target</th>\n",
       "    </tr>\n",
       "  </thead>\n",
       "  <tbody>\n",
       "    <tr>\n",
       "      <th>0</th>\n",
       "      <td>787405734442958848</td>\n",
       "      <td>best_in_dumbest</td>\n",
       "      <td>The Best In Dumbest</td>\n",
       "      <td>Blame @xaiax, Inspired by @MakingInvisible, us...</td>\n",
       "      <td>2016-10-15 21:32:11+00:00</td>\n",
       "      <td>False</td>\n",
       "      <td>False</td>\n",
       "      <td>1848</td>\n",
       "      <td>5</td>\n",
       "      <td>14542</td>\n",
       "      <td>0</td>\n",
       "      <td>bot</td>\n",
       "    </tr>\n",
       "    <tr>\n",
       "      <th>1</th>\n",
       "      <td>796216118331310080</td>\n",
       "      <td>CJRubinPhoto</td>\n",
       "      <td>CJ Rubin</td>\n",
       "      <td>Photographing the American West since 1980. I ...</td>\n",
       "      <td>2016-11-09 05:01:30+00:00</td>\n",
       "      <td>False</td>\n",
       "      <td>False</td>\n",
       "      <td>812</td>\n",
       "      <td>845</td>\n",
       "      <td>251</td>\n",
       "      <td>5</td>\n",
       "      <td>human</td>\n",
       "    </tr>\n",
       "    <tr>\n",
       "      <th>2</th>\n",
       "      <td>875949740503859204</td>\n",
       "      <td>SVGEGENT</td>\n",
       "      <td>🔥𝖙𝖍𝖊 𝖘𝖆𝖛𝖆𝖌𝖊 𝖌𝖊𝖓𝖙𝖑𝖊𝖒𝖆𝖓🔥</td>\n",
       "      <td>Part savage all gentleman                     ...</td>\n",
       "      <td>2017-06-17 05:34:27+00:00</td>\n",
       "      <td>False</td>\n",
       "      <td>False</td>\n",
       "      <td>182</td>\n",
       "      <td>885</td>\n",
       "      <td>1288</td>\n",
       "      <td>2</td>\n",
       "      <td>human</td>\n",
       "    </tr>\n",
       "    <tr>\n",
       "      <th>3</th>\n",
       "      <td>756119643622735875</td>\n",
       "      <td>TinkerVHECHK5</td>\n",
       "      <td>Danielle Tinker</td>\n",
       "      <td>Wife.Godmother.Friend.Feline Fanatic! Principa...</td>\n",
       "      <td>2016-07-21 13:32:25+00:00</td>\n",
       "      <td>False</td>\n",
       "      <td>False</td>\n",
       "      <td>657</td>\n",
       "      <td>747</td>\n",
       "      <td>1920</td>\n",
       "      <td>2</td>\n",
       "      <td>human</td>\n",
       "    </tr>\n",
       "    <tr>\n",
       "      <th>4</th>\n",
       "      <td>464781334</td>\n",
       "      <td>JoleonLescott</td>\n",
       "      <td>Joleon Lescott</td>\n",
       "      <td>England U21 Assistant Coach | @pumafootball Am...</td>\n",
       "      <td>2012-01-15 16:32:35+00:00</td>\n",
       "      <td>True</td>\n",
       "      <td>False</td>\n",
       "      <td>739915</td>\n",
       "      <td>120</td>\n",
       "      <td>4459</td>\n",
       "      <td>1800</td>\n",
       "      <td>human</td>\n",
       "    </tr>\n",
       "    <tr>\n",
       "      <th>...</th>\n",
       "      <td>...</td>\n",
       "      <td>...</td>\n",
       "      <td>...</td>\n",
       "      <td>...</td>\n",
       "      <td>...</td>\n",
       "      <td>...</td>\n",
       "      <td>...</td>\n",
       "      <td>...</td>\n",
       "      <td>...</td>\n",
       "      <td>...</td>\n",
       "      <td>...</td>\n",
       "      <td>...</td>\n",
       "    </tr>\n",
       "    <tr>\n",
       "      <th>36229</th>\n",
       "      <td>63963107</td>\n",
       "      <td>butchsekab</td>\n",
       "      <td>Rosemary Pearman nee Bakes</td>\n",
       "      <td>Unemployed! Retail Assistant, Stocktaker, Dry ...</td>\n",
       "      <td>2009-08-08 13:11:15+00:00</td>\n",
       "      <td>False</td>\n",
       "      <td>False</td>\n",
       "      <td>152</td>\n",
       "      <td>1219</td>\n",
       "      <td>487</td>\n",
       "      <td>3</td>\n",
       "      <td>human</td>\n",
       "    </tr>\n",
       "    <tr>\n",
       "      <th>36230</th>\n",
       "      <td>1064042478</td>\n",
       "      <td>Mathieu_Era</td>\n",
       "      <td>Tyrann Mathieu</td>\n",
       "      <td>FOLLOW ME ON IG.</td>\n",
       "      <td>2013-01-05 21:35:37+00:00</td>\n",
       "      <td>True</td>\n",
       "      <td>False</td>\n",
       "      <td>1237990</td>\n",
       "      <td>799</td>\n",
       "      <td>27326</td>\n",
       "      <td>1475</td>\n",
       "      <td>human</td>\n",
       "    </tr>\n",
       "    <tr>\n",
       "      <th>36231</th>\n",
       "      <td>1089732602</td>\n",
       "      <td>SDalmaoficial</td>\n",
       "      <td>Sergio Dalma</td>\n",
       "      <td>Bienvenid@s al Twitter Oficial de Sergio Dalma...</td>\n",
       "      <td>2013-01-14 18:05:54+00:00</td>\n",
       "      <td>True</td>\n",
       "      <td>False</td>\n",
       "      <td>85615</td>\n",
       "      <td>189</td>\n",
       "      <td>6640</td>\n",
       "      <td>270</td>\n",
       "      <td>human</td>\n",
       "    </tr>\n",
       "    <tr>\n",
       "      <th>36232</th>\n",
       "      <td>815529979</td>\n",
       "      <td>VinceYearly</td>\n",
       "      <td>Mr. Vance</td>\n",
       "      <td>Just a good guy wrapped up in a bad system.\\nA...</td>\n",
       "      <td>2012-09-10 16:12:02+00:00</td>\n",
       "      <td>False</td>\n",
       "      <td>False</td>\n",
       "      <td>137</td>\n",
       "      <td>166</td>\n",
       "      <td>1040</td>\n",
       "      <td>3</td>\n",
       "      <td>human</td>\n",
       "    </tr>\n",
       "    <tr>\n",
       "      <th>36233</th>\n",
       "      <td>434896892</td>\n",
       "      <td>zhemcom</td>\n",
       "      <td>zhemcom</td>\n",
       "      <td>你好！中国</td>\n",
       "      <td>2011-12-12 12:59:28+00:00</td>\n",
       "      <td>False</td>\n",
       "      <td>False</td>\n",
       "      <td>3</td>\n",
       "      <td>0</td>\n",
       "      <td>1521</td>\n",
       "      <td>0</td>\n",
       "      <td>bot</td>\n",
       "    </tr>\n",
       "  </tbody>\n",
       "</table>\n",
       "<p>36234 rows × 12 columns</p>\n",
       "</div>"
      ],
      "text/plain": [
       "                author_id         username  ... user_list_count target\n",
       "0      787405734442958848  best_in_dumbest  ...               0    bot\n",
       "1      796216118331310080     CJRubinPhoto  ...               5  human\n",
       "2      875949740503859204         SVGEGENT  ...               2  human\n",
       "3      756119643622735875    TinkerVHECHK5  ...               2  human\n",
       "4               464781334    JoleonLescott  ...            1800  human\n",
       "...                   ...              ...  ...             ...    ...\n",
       "36229            63963107       butchsekab  ...               3  human\n",
       "36230          1064042478      Mathieu_Era  ...            1475  human\n",
       "36231          1089732602    SDalmaoficial  ...             270  human\n",
       "36232           815529979      VinceYearly  ...               3  human\n",
       "36233           434896892          zhemcom  ...               0    bot\n",
       "\n",
       "[36234 rows x 12 columns]"
      ]
     },
     "execution_count": 26,
     "metadata": {},
     "output_type": "execute_result"
    }
   ],
   "source": [
    "df"
   ]
  },
  {
   "cell_type": "code",
   "execution_count": 41,
   "id": "1a4b6f73",
   "metadata": {},
   "outputs": [
    {
     "data": {
      "text/plain": [
       "<AxesSubplot:xlabel='user_followers_cnt', ylabel='user_tweet_count'>"
      ]
     },
     "execution_count": 41,
     "metadata": {},
     "output_type": "execute_result"
    },
    {
     "data": {
      "image/png": "[encoded data removed]",
      "text/plain": [
       "<Figure size 432x288 with 1 Axes>"
      ]
     },
     "metadata": {
      "needs_background": "light"
     },
     "output_type": "display_data"
    }
   ],
   "source": [
    "sns.scatterplot(data=df ,x='user_followers_cnt', y='user_tweet_count', hue='target')"
   ]
  },
  {
   "cell_type": "code",
   "execution_count": 50,
   "id": "53a6b756",
   "metadata": {},
   "outputs": [
    {
     "ename": "KeyboardInterrupt",
     "evalue": "",
     "output_type": "error",
     "traceback": [
      "\u001b[0;31m---------------------------------------------------------------------------\u001b[0m",
      "\u001b[0;31mKeyboardInterrupt\u001b[0m                         Traceback (most recent call last)",
      "\u001b[0;32m/tmp/ipykernel_10533/362542410.py\u001b[0m in \u001b[0;36m<module>\u001b[0;34m\u001b[0m\n\u001b[0;32m----> 1\u001b[0;31m \u001b[0msns\u001b[0m\u001b[0;34m.\u001b[0m\u001b[0mhistplot\u001b[0m\u001b[0;34m(\u001b[0m\u001b[0mdata\u001b[0m\u001b[0;34m=\u001b[0m\u001b[0mdf\u001b[0m \u001b[0;34m,\u001b[0m\u001b[0mx\u001b[0m\u001b[0;34m=\u001b[0m\u001b[0;34m'user_followers_cnt'\u001b[0m\u001b[0;34m,\u001b[0m \u001b[0my\u001b[0m\u001b[0;34m=\u001b[0m\u001b[0;34m'user_tweet_count'\u001b[0m\u001b[0;34m,\u001b[0m \u001b[0mhue\u001b[0m\u001b[0;34m=\u001b[0m\u001b[0;34m'target'\u001b[0m\u001b[0;34m)\u001b[0m\u001b[0;34m\u001b[0m\u001b[0;34m\u001b[0m\u001b[0m\n\u001b[0m",
      "\u001b[0;32m~/.pyenv/versions/3.8.12/envs/lewagon/lib/python3.8/site-packages/seaborn/distributions.py\u001b[0m in \u001b[0;36mhistplot\u001b[0;34m(data, x, y, hue, weights, stat, bins, binwidth, binrange, discrete, cumulative, common_bins, common_norm, multiple, element, fill, shrink, kde, kde_kws, line_kws, thresh, pthresh, pmax, cbar, cbar_ax, cbar_kws, palette, hue_order, hue_norm, color, log_scale, legend, ax, **kwargs)\u001b[0m\n\u001b[1;32m   1478\u001b[0m     \u001b[0;32melse\u001b[0m\u001b[0;34m:\u001b[0m\u001b[0;34m\u001b[0m\u001b[0;34m\u001b[0m\u001b[0m\n\u001b[1;32m   1479\u001b[0m \u001b[0;34m\u001b[0m\u001b[0m\n\u001b[0;32m-> 1480\u001b[0;31m         p.plot_bivariate_histogram(\n\u001b[0m\u001b[1;32m   1481\u001b[0m             \u001b[0mcommon_bins\u001b[0m\u001b[0;34m=\u001b[0m\u001b[0mcommon_bins\u001b[0m\u001b[0;34m,\u001b[0m\u001b[0;34m\u001b[0m\u001b[0;34m\u001b[0m\u001b[0m\n\u001b[1;32m   1482\u001b[0m             \u001b[0mcommon_norm\u001b[0m\u001b[0;34m=\u001b[0m\u001b[0mcommon_norm\u001b[0m\u001b[0;34m,\u001b[0m\u001b[0;34m\u001b[0m\u001b[0;34m\u001b[0m\u001b[0m\n",
      "\u001b[0;32m~/.pyenv/versions/3.8.12/envs/lewagon/lib/python3.8/site-packages/seaborn/distributions.py\u001b[0m in \u001b[0;36mplot_bivariate_histogram\u001b[0;34m(self, common_bins, common_norm, thresh, pthresh, pmax, color, legend, cbar, cbar_ax, cbar_kws, estimate_kws, **plot_kws)\u001b[0m\n\u001b[1;32m    764\u001b[0m         \u001b[0;32mfor\u001b[0m \u001b[0m_\u001b[0m\u001b[0;34m,\u001b[0m \u001b[0msub_data\u001b[0m \u001b[0;32min\u001b[0m \u001b[0mself\u001b[0m\u001b[0;34m.\u001b[0m\u001b[0miter_data\u001b[0m\u001b[0;34m(\u001b[0m\u001b[0mfrom_comp_data\u001b[0m\u001b[0;34m=\u001b[0m\u001b[0;32mTrue\u001b[0m\u001b[0;34m)\u001b[0m\u001b[0;34m:\u001b[0m\u001b[0;34m\u001b[0m\u001b[0;34m\u001b[0m\u001b[0m\n\u001b[1;32m    765\u001b[0m             \u001b[0msub_data\u001b[0m \u001b[0;34m=\u001b[0m \u001b[0msub_data\u001b[0m\u001b[0;34m.\u001b[0m\u001b[0mdropna\u001b[0m\u001b[0;34m(\u001b[0m\u001b[0;34m)\u001b[0m\u001b[0;34m\u001b[0m\u001b[0;34m\u001b[0m\u001b[0m\n\u001b[0;32m--> 766\u001b[0;31m             sub_heights, _ = estimator(\n\u001b[0m\u001b[1;32m    767\u001b[0m                 \u001b[0msub_data\u001b[0m\u001b[0;34m[\u001b[0m\u001b[0;34m\"x\"\u001b[0m\u001b[0;34m]\u001b[0m\u001b[0;34m,\u001b[0m \u001b[0msub_data\u001b[0m\u001b[0;34m[\u001b[0m\u001b[0;34m\"y\"\u001b[0m\u001b[0;34m]\u001b[0m\u001b[0;34m,\u001b[0m \u001b[0msub_data\u001b[0m\u001b[0;34m.\u001b[0m\u001b[0mget\u001b[0m\u001b[0;34m(\u001b[0m\u001b[0;34m\"weights\"\u001b[0m\u001b[0;34m,\u001b[0m \u001b[0;32mNone\u001b[0m\u001b[0;34m)\u001b[0m\u001b[0;34m\u001b[0m\u001b[0;34m\u001b[0m\u001b[0m\n\u001b[1;32m    768\u001b[0m             )\n",
      "\u001b[0;32m~/.pyenv/versions/3.8.12/envs/lewagon/lib/python3.8/site-packages/seaborn/_statistics.py\u001b[0m in \u001b[0;36m__call__\u001b[0;34m(self, x1, x2, weights)\u001b[0m\n\u001b[1;32m    386\u001b[0m             \u001b[0;32mreturn\u001b[0m \u001b[0mself\u001b[0m\u001b[0;34m.\u001b[0m\u001b[0m_eval_univariate\u001b[0m\u001b[0;34m(\u001b[0m\u001b[0mx1\u001b[0m\u001b[0;34m,\u001b[0m \u001b[0mweights\u001b[0m\u001b[0;34m)\u001b[0m\u001b[0;34m\u001b[0m\u001b[0;34m\u001b[0m\u001b[0m\n\u001b[1;32m    387\u001b[0m         \u001b[0;32melse\u001b[0m\u001b[0;34m:\u001b[0m\u001b[0;34m\u001b[0m\u001b[0;34m\u001b[0m\u001b[0m\n\u001b[0;32m--> 388\u001b[0;31m             \u001b[0;32mreturn\u001b[0m \u001b[0mself\u001b[0m\u001b[0;34m.\u001b[0m\u001b[0m_eval_bivariate\u001b[0m\u001b[0;34m(\u001b[0m\u001b[0mx1\u001b[0m\u001b[0;34m,\u001b[0m \u001b[0mx2\u001b[0m\u001b[0;34m,\u001b[0m \u001b[0mweights\u001b[0m\u001b[0;34m)\u001b[0m\u001b[0;34m\u001b[0m\u001b[0;34m\u001b[0m\u001b[0m\n\u001b[0m\u001b[1;32m    389\u001b[0m \u001b[0;34m\u001b[0m\u001b[0m\n\u001b[1;32m    390\u001b[0m \u001b[0;34m\u001b[0m\u001b[0m\n",
      "\u001b[0;32m~/.pyenv/versions/3.8.12/envs/lewagon/lib/python3.8/site-packages/seaborn/_statistics.py\u001b[0m in \u001b[0;36m_eval_bivariate\u001b[0;34m(self, x1, x2, weights)\u001b[0m\n\u001b[1;32m    331\u001b[0m         \u001b[0mdensity\u001b[0m \u001b[0;34m=\u001b[0m \u001b[0mself\u001b[0m\u001b[0;34m.\u001b[0m\u001b[0mstat\u001b[0m \u001b[0;34m==\u001b[0m \u001b[0;34m\"density\"\u001b[0m\u001b[0;34m\u001b[0m\u001b[0;34m\u001b[0m\u001b[0m\n\u001b[1;32m    332\u001b[0m \u001b[0;34m\u001b[0m\u001b[0m\n\u001b[0;32m--> 333\u001b[0;31m         hist, *bin_edges = np.histogram2d(\n\u001b[0m\u001b[1;32m    334\u001b[0m             \u001b[0mx1\u001b[0m\u001b[0;34m,\u001b[0m \u001b[0mx2\u001b[0m\u001b[0;34m,\u001b[0m \u001b[0;34m**\u001b[0m\u001b[0mbin_kws\u001b[0m\u001b[0;34m,\u001b[0m \u001b[0mweights\u001b[0m\u001b[0;34m=\u001b[0m\u001b[0mweights\u001b[0m\u001b[0;34m,\u001b[0m \u001b[0mdensity\u001b[0m\u001b[0;34m=\u001b[0m\u001b[0mdensity\u001b[0m\u001b[0;34m\u001b[0m\u001b[0;34m\u001b[0m\u001b[0m\n\u001b[1;32m    335\u001b[0m         )\n",
      "\u001b[0;32m<__array_function__ internals>\u001b[0m in \u001b[0;36mhistogram2d\u001b[0;34m(*args, **kwargs)\u001b[0m\n",
      "\u001b[0;32m~/.pyenv/versions/3.8.12/envs/lewagon/lib/python3.8/site-packages/numpy/lib/twodim_base.py\u001b[0m in \u001b[0;36mhistogram2d\u001b[0;34m(x, y, bins, range, normed, weights, density)\u001b[0m\n\u001b[1;32m    713\u001b[0m         \u001b[0mxedges\u001b[0m \u001b[0;34m=\u001b[0m \u001b[0myedges\u001b[0m \u001b[0;34m=\u001b[0m \u001b[0masarray\u001b[0m\u001b[0;34m(\u001b[0m\u001b[0mbins\u001b[0m\u001b[0;34m)\u001b[0m\u001b[0;34m\u001b[0m\u001b[0;34m\u001b[0m\u001b[0m\n\u001b[1;32m    714\u001b[0m         \u001b[0mbins\u001b[0m \u001b[0;34m=\u001b[0m \u001b[0;34m[\u001b[0m\u001b[0mxedges\u001b[0m\u001b[0;34m,\u001b[0m \u001b[0myedges\u001b[0m\u001b[0;34m]\u001b[0m\u001b[0;34m\u001b[0m\u001b[0;34m\u001b[0m\u001b[0m\n\u001b[0;32m--> 715\u001b[0;31m     \u001b[0mhist\u001b[0m\u001b[0;34m,\u001b[0m \u001b[0medges\u001b[0m \u001b[0;34m=\u001b[0m \u001b[0mhistogramdd\u001b[0m\u001b[0;34m(\u001b[0m\u001b[0;34m[\u001b[0m\u001b[0mx\u001b[0m\u001b[0;34m,\u001b[0m \u001b[0my\u001b[0m\u001b[0;34m]\u001b[0m\u001b[0;34m,\u001b[0m \u001b[0mbins\u001b[0m\u001b[0;34m,\u001b[0m \u001b[0mrange\u001b[0m\u001b[0;34m,\u001b[0m \u001b[0mnormed\u001b[0m\u001b[0;34m,\u001b[0m \u001b[0mweights\u001b[0m\u001b[0;34m,\u001b[0m \u001b[0mdensity\u001b[0m\u001b[0;34m)\u001b[0m\u001b[0;34m\u001b[0m\u001b[0;34m\u001b[0m\u001b[0m\n\u001b[0m\u001b[1;32m    716\u001b[0m     \u001b[0;32mreturn\u001b[0m \u001b[0mhist\u001b[0m\u001b[0;34m,\u001b[0m \u001b[0medges\u001b[0m\u001b[0;34m[\u001b[0m\u001b[0;36m0\u001b[0m\u001b[0;34m]\u001b[0m\u001b[0;34m,\u001b[0m \u001b[0medges\u001b[0m\u001b[0;34m[\u001b[0m\u001b[0;36m1\u001b[0m\u001b[0;34m]\u001b[0m\u001b[0;34m\u001b[0m\u001b[0;34m\u001b[0m\u001b[0m\n\u001b[1;32m    717\u001b[0m \u001b[0;34m\u001b[0m\u001b[0m\n",
      "\u001b[0;32m<__array_function__ internals>\u001b[0m in \u001b[0;36mhistogramdd\u001b[0;34m(*args, **kwargs)\u001b[0m\n",
      "\u001b[0;32m~/.pyenv/versions/3.8.12/envs/lewagon/lib/python3.8/site-packages/numpy/lib/histograms.py\u001b[0m in \u001b[0;36mhistogramdd\u001b[0;34m(sample, bins, range, normed, weights, density)\u001b[0m\n\u001b[1;32m   1093\u001b[0m \u001b[0;34m\u001b[0m\u001b[0m\n\u001b[1;32m   1094\u001b[0m     \u001b[0;31m# This preserves the (bad) behavior observed in gh-7845, for now.\u001b[0m\u001b[0;34m\u001b[0m\u001b[0;34m\u001b[0m\u001b[0;34m\u001b[0m\u001b[0m\n\u001b[0;32m-> 1095\u001b[0;31m     \u001b[0mhist\u001b[0m \u001b[0;34m=\u001b[0m \u001b[0mhist\u001b[0m\u001b[0;34m.\u001b[0m\u001b[0mastype\u001b[0m\u001b[0;34m(\u001b[0m\u001b[0mfloat\u001b[0m\u001b[0;34m,\u001b[0m \u001b[0mcasting\u001b[0m\u001b[0;34m=\u001b[0m\u001b[0;34m'safe'\u001b[0m\u001b[0;34m)\u001b[0m\u001b[0;34m\u001b[0m\u001b[0;34m\u001b[0m\u001b[0m\n\u001b[0m\u001b[1;32m   1096\u001b[0m \u001b[0;34m\u001b[0m\u001b[0m\n\u001b[1;32m   1097\u001b[0m     \u001b[0;31m# Remove outliers (indices 0 and -1 for each dimension).\u001b[0m\u001b[0;34m\u001b[0m\u001b[0;34m\u001b[0m\u001b[0;34m\u001b[0m\u001b[0m\n",
      "\u001b[0;31mKeyboardInterrupt\u001b[0m: "
     ]
    },
    {
     "data": {
      "image/png": "[encoded data removed]",
      "text/plain": [
       "<Figure size 432x288 with 1 Axes>"
      ]
     },
     "metadata": {
      "needs_background": "light"
     },
     "output_type": "display_data"
    }
   ],
   "source": [
    "sns.histplot(data=df ,x='user_followers_cnt', y='user_tweet_count', hue='target')"
   ]
  },
  {
   "cell_type": "code",
   "execution_count": 49,
   "id": "2dcb4236",
   "metadata": {},
   "outputs": [
    {
     "data": {
      "text/plain": [
       "<AxesSubplot:xlabel='target', ylabel='user_followers_cnt'>"
      ]
     },
     "execution_count": 49,
     "metadata": {},
     "output_type": "execute_result"
    },
    {
     "data": {
      "image/png": "[encoded data removed]",
      "text/plain": [
       "<Figure size 432x288 with 1 Axes>"
      ]
     },
     "metadata": {
      "needs_background": "light"
     },
     "output_type": "display_data"
    }
   ],
   "source": [
    "sns.barplot(data=df, x='target', y='user_followers_cnt')"
   ]
  },
  {
   "cell_type": "code",
   "execution_count": 58,
   "id": "e5bcd8e7",
   "metadata": {},
   "outputs": [
    {
     "data": {
      "text/plain": [
       "<seaborn.axisgrid.FacetGrid at 0x7f17512f5c10>"
      ]
     },
     "execution_count": 58,
     "metadata": {},
     "output_type": "execute_result"
    },
    {
     "data": {
      "image/png": "[encoded data removed]",
      "text/plain": [
       "<Figure size 360x360 with 1 Axes>"
      ]
     },
     "metadata": {
      "needs_background": "light"
     },
     "output_type": "display_data"
    }
   ],
   "source": [
    "sns.displot(data=df, x='target', y='user_followers_cnt')"
   ]
  },
  {
   "cell_type": "code",
   "execution_count": 60,
   "id": "84e461e8",
   "metadata": {},
   "outputs": [
    {
     "data": {
      "text/html": [
       "<div>\n",
       "<style scoped>\n",
       "    .dataframe tbody tr th:only-of-type {\n",
       "        vertical-align: middle;\n",
       "    }\n",
       "\n",
       "    .dataframe tbody tr th {\n",
       "        vertical-align: top;\n",
       "    }\n",
       "\n",
       "    .dataframe thead tr th {\n",
       "        text-align: left;\n",
       "    }\n",
       "\n",
       "    .dataframe thead tr:last-of-type th {\n",
       "        text-align: right;\n",
       "    }\n",
       "</style>\n",
       "<table border=\"1\" class=\"dataframe\">\n",
       "  <thead>\n",
       "    <tr>\n",
       "      <th></th>\n",
       "      <th colspan=\"5\" halign=\"left\">user_followers_cnt</th>\n",
       "    </tr>\n",
       "    <tr>\n",
       "      <th></th>\n",
       "      <th>mean</th>\n",
       "      <th>max</th>\n",
       "      <th>min</th>\n",
       "      <th>median</th>\n",
       "      <th>std</th>\n",
       "    </tr>\n",
       "    <tr>\n",
       "      <th>target</th>\n",
       "      <th></th>\n",
       "      <th></th>\n",
       "      <th></th>\n",
       "      <th></th>\n",
       "      <th></th>\n",
       "    </tr>\n",
       "  </thead>\n",
       "  <tbody>\n",
       "    <tr>\n",
       "      <th>bot</th>\n",
       "      <td>80109.478684</td>\n",
       "      <td>55384098</td>\n",
       "      <td>0</td>\n",
       "      <td>25.0</td>\n",
       "      <td>1.182795e+06</td>\n",
       "    </tr>\n",
       "    <tr>\n",
       "      <th>human</th>\n",
       "      <td>541998.321061</td>\n",
       "      <td>130221053</td>\n",
       "      <td>0</td>\n",
       "      <td>1097.0</td>\n",
       "      <td>3.012221e+06</td>\n",
       "    </tr>\n",
       "  </tbody>\n",
       "</table>\n",
       "</div>"
      ],
      "text/plain": [
       "       user_followers_cnt                                     \n",
       "                     mean        max min  median           std\n",
       "target                                                        \n",
       "bot          80109.478684   55384098   0    25.0  1.182795e+06\n",
       "human       541998.321061  130221053   0  1097.0  3.012221e+06"
      ]
     },
     "execution_count": 60,
     "metadata": {},
     "output_type": "execute_result"
    }
   ],
   "source": [
    "df[['target', 'user_followers_cnt']].groupby('target').aggregate(['mean', 'max', 'min', 'median', 'std'])"
   ]
  },
  {
   "cell_type": "code",
   "execution_count": 61,
   "id": "904c51a7",
   "metadata": {},
   "outputs": [
    {
     "data": {
      "text/html": [
       "<div>\n",
       "<style scoped>\n",
       "    .dataframe tbody tr th:only-of-type {\n",
       "        vertical-align: middle;\n",
       "    }\n",
       "\n",
       "    .dataframe tbody tr th {\n",
       "        vertical-align: top;\n",
       "    }\n",
       "\n",
       "    .dataframe thead th {\n",
       "        text-align: right;\n",
       "    }\n",
       "</style>\n",
       "<table border=\"1\" class=\"dataframe\">\n",
       "  <thead>\n",
       "    <tr style=\"text-align: right;\">\n",
       "      <th></th>\n",
       "      <th>author_id</th>\n",
       "      <th>user_verified</th>\n",
       "      <th>user_private</th>\n",
       "      <th>user_followers_cnt</th>\n",
       "      <th>user_following_cnt</th>\n",
       "      <th>user_tweet_count</th>\n",
       "      <th>user_list_count</th>\n",
       "    </tr>\n",
       "  </thead>\n",
       "  <tbody>\n",
       "    <tr>\n",
       "      <th>author_id</th>\n",
       "      <td>1.000000</td>\n",
       "      <td>-0.190439</td>\n",
       "      <td>-0.020886</td>\n",
       "      <td>-0.060127</td>\n",
       "      <td>-0.028258</td>\n",
       "      <td>-0.080968</td>\n",
       "      <td>-0.021223</td>\n",
       "    </tr>\n",
       "    <tr>\n",
       "      <th>user_verified</th>\n",
       "      <td>-0.190439</td>\n",
       "      <td>1.000000</td>\n",
       "      <td>-0.097733</td>\n",
       "      <td>0.272780</td>\n",
       "      <td>0.055422</td>\n",
       "      <td>0.085715</td>\n",
       "      <td>0.095118</td>\n",
       "    </tr>\n",
       "    <tr>\n",
       "      <th>user_private</th>\n",
       "      <td>-0.020886</td>\n",
       "      <td>-0.097733</td>\n",
       "      <td>1.000000</td>\n",
       "      <td>-0.030872</td>\n",
       "      <td>-0.012360</td>\n",
       "      <td>-0.010292</td>\n",
       "      <td>-0.010710</td>\n",
       "    </tr>\n",
       "    <tr>\n",
       "      <th>user_followers_cnt</th>\n",
       "      <td>-0.060127</td>\n",
       "      <td>0.272780</td>\n",
       "      <td>-0.030872</td>\n",
       "      <td>1.000000</td>\n",
       "      <td>0.049412</td>\n",
       "      <td>0.035157</td>\n",
       "      <td>0.245892</td>\n",
       "    </tr>\n",
       "    <tr>\n",
       "      <th>user_following_cnt</th>\n",
       "      <td>-0.028258</td>\n",
       "      <td>0.055422</td>\n",
       "      <td>-0.012360</td>\n",
       "      <td>0.049412</td>\n",
       "      <td>1.000000</td>\n",
       "      <td>0.073782</td>\n",
       "      <td>0.018818</td>\n",
       "    </tr>\n",
       "    <tr>\n",
       "      <th>user_tweet_count</th>\n",
       "      <td>-0.080968</td>\n",
       "      <td>0.085715</td>\n",
       "      <td>-0.010292</td>\n",
       "      <td>0.035157</td>\n",
       "      <td>0.073782</td>\n",
       "      <td>1.000000</td>\n",
       "      <td>0.024108</td>\n",
       "    </tr>\n",
       "    <tr>\n",
       "      <th>user_list_count</th>\n",
       "      <td>-0.021223</td>\n",
       "      <td>0.095118</td>\n",
       "      <td>-0.010710</td>\n",
       "      <td>0.245892</td>\n",
       "      <td>0.018818</td>\n",
       "      <td>0.024108</td>\n",
       "      <td>1.000000</td>\n",
       "    </tr>\n",
       "  </tbody>\n",
       "</table>\n",
       "</div>"
      ],
      "text/plain": [
       "                    author_id  user_verified  ...  user_tweet_count  user_list_count\n",
       "author_id            1.000000      -0.190439  ...         -0.080968        -0.021223\n",
       "user_verified       -0.190439       1.000000  ...          0.085715         0.095118\n",
       "user_private        -0.020886      -0.097733  ...         -0.010292        -0.010710\n",
       "user_followers_cnt  -0.060127       0.272780  ...          0.035157         0.245892\n",
       "user_following_cnt  -0.028258       0.055422  ...          0.073782         0.018818\n",
       "user_tweet_count    -0.080968       0.085715  ...          1.000000         0.024108\n",
       "user_list_count     -0.021223       0.095118  ...          0.024108         1.000000\n",
       "\n",
       "[7 rows x 7 columns]"
      ]
     },
     "execution_count": 61,
     "metadata": {},
     "output_type": "execute_result"
    }
   ],
   "source": [
    "df.corr()"
   ]
  },
  {
   "cell_type": "code",
   "execution_count": null,
   "id": "ec2b2e02",
   "metadata": {},
   "outputs": [],
   "source": [
    "sns.displot(df[df['target'] == 'bot'], x='user_followers_cnt')"
   ]
  },
  {
   "cell_type": "code",
   "execution_count": 48,
   "id": "7892927b",
   "metadata": {},
   "outputs": [
    {
     "data": {
      "text/plain": [
       "<AxesSubplot:xlabel='target', ylabel='user_following_cnt'>"
      ]
     },
     "execution_count": 48,
     "metadata": {},
     "output_type": "execute_result"
    },
    {
     "data": {
      "image/png": "[encoded data removed]",
      "text/plain": [
       "<Figure size 432x288 with 1 Axes>"
      ]
     },
     "metadata": {
      "needs_background": "light"
     },
     "output_type": "display_data"
    }
   ],
   "source": [
    "sns.barplot(data=df, x='target', y='user_following_cnt')"
   ]
  },
  {
   "cell_type": "code",
   "execution_count": 51,
   "id": "42e25b70",
   "metadata": {},
   "outputs": [
    {
     "data": {
      "text/plain": [
       "<AxesSubplot:xlabel='target', ylabel='user_tweet_count'>"
      ]
     },
     "execution_count": 51,
     "metadata": {},
     "output_type": "execute_result"
    },
    {
     "data": {
      "image/png": "[encoded data removed]",
      "text/plain": [
       "<Figure size 432x288 with 1 Axes>"
      ]
     },
     "metadata": {
      "needs_background": "light"
     },
     "output_type": "display_data"
    }
   ],
   "source": [
    "sns.barplot(data=df, x='target', y='user_tweet_count')"
   ]
  },
  {
   "cell_type": "code",
   "execution_count": 52,
   "id": "40e14a89",
   "metadata": {},
   "outputs": [
    {
     "data": {
      "text/plain": [
       "<AxesSubplot:xlabel='target', ylabel='user_list_count'>"
      ]
     },
     "execution_count": 52,
     "metadata": {},
     "output_type": "execute_result"
    },
    {
     "data": {
      "image/png": "[encoded data removed]",
      "text/plain": [
       "<Figure size 432x288 with 1 Axes>"
      ]
     },
     "metadata": {
      "needs_background": "light"
     },
     "output_type": "display_data"
    }
   ],
   "source": [
    "sns.barplot(data=df, x='target', y='user_list_count')"
   ]
  },
  {
   "cell_type": "code",
   "execution_count": 56,
   "id": "3418f2a9",
   "metadata": {},
   "outputs": [
    {
     "data": {
      "text/plain": [
       "Text(0.5, 1.0, 'Num')"
      ]
     },
     "execution_count": 56,
     "metadata": {},
     "output_type": "execute_result"
    },
    {
     "data": {
      "image/png": "[encoded data removed]",
      "text/plain": [
       "<Figure size 432x288 with 4 Axes>"
      ]
     },
     "metadata": {
      "needs_background": "light"
     },
     "output_type": "display_data"
    }
   ],
   "source": [
    "plt.subplot(2,2,1)\n",
    "sns.barplot(data=df, x='target', y='user_followers_cnt')\n",
    "plt.title('Number of followers')\n",
    "plt.subplot(2,2,2)\n",
    "sns.barplot(data=df, x='target', y='user_following_cnt')\n",
    "plt.title('Number of people following')\n",
    "plt.subplot(2,2,3)\n",
    "sns.barplot(data=df, x='target', y='user_tweet_count')\n",
    "plt.title('Number of tweets/user')\n",
    "plt.subplot(2,2,4)\n",
    "sns.barplot(data=df, x='target', y='user_list_count')\n",
    "plt.title('Number of users')"
   ]
  },
  {
   "cell_type": "code",
   "execution_count": null,
   "id": "13305019",
   "metadata": {},
   "outputs": [],
   "source": []
  }
 ],
 "metadata": {
  "kernelspec": {
   "display_name": "Python 3 (ipykernel)",
   "language": "python",
   "name": "python3"
  },
  "language_info": {
   "codemirror_mode": {
    "name": "ipython",
    "version": 3
   },
   "file_extension": ".py",
   "mimetype": "text/x-python",
   "name": "python",
   "nbconvert_exporter": "python",
   "pygments_lexer": "ipython3",
   "version": "3.8.12"
  },
  "toc": {
   "base_numbering": 1,
   "nav_menu": {},
   "number_sections": true,
   "sideBar": true,
   "skip_h1_title": false,
   "title_cell": "Table of Contents",
   "title_sidebar": "Contents",
   "toc_cell": false,
   "toc_position": {},
   "toc_section_display": true,
   "toc_window_display": false
  }
 },
 "nbformat": 4,
 "nbformat_minor": 5
}
