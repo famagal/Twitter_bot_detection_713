{
 "cells": [
  {
   "cell_type": "code",
   "execution_count": 1,
   "id": "0fcf792c",
   "metadata": {},
   "outputs": [],
   "source": [
    "import pandas as pd\n",
    "import pickle\n",
    "from tensorflow.keras.preprocessing.sequence import pad_sequences\n",
    "from tensorflow.keras import models\n",
    "from tensorflow.keras import layers, Sequential\n",
    "from tensorflow.keras.callbacks import EarlyStopping\n",
    "from tensorflow.keras.layers import Bidirectional, LSTM\n",
    "import numpy as np"
   ]
  },
  {
   "cell_type": "code",
   "execution_count": 2,
   "id": "decb8f0c",
   "metadata": {},
   "outputs": [],
   "source": [
    "pickle_in1 = open('X_train_embed_25.pickle', \"rb\")\n",
    "X_train_embed = pickle.load(pickle_in1)\n",
    "pickle_in2 = open(\"X_test_embed_25.pickle\", \"rb\")\n",
    "X_test_embed = pickle.load(pickle_in2)\n",
    "pickle_in3 = open(\"y_train_25.pickle\", \"rb\")\n",
    "y_train = pickle.load(pickle_in3)\n",
    "pickle_in4= open(\"y_train_25.pickle\", \"rb\")\n",
    "y_test = pickle.load(pickle_in4)"
   ]
  },
  {
   "cell_type": "code",
   "execution_count": 3,
   "id": "54759cc0",
   "metadata": {},
   "outputs": [],
   "source": [
    "X_test_pad = pad_sequences(X_test_embed,\n",
    "                               dtype='float32',\n",
    "                               padding='post',\n",
    "                               maxlen=60)\n",
    "X_train_pad = pad_sequences(X_train_embed,\n",
    "                                dtype='float32',\n",
    "                                padding='post',\n",
    "                                maxlen=60)"
   ]
  },
  {
   "cell_type": "code",
   "execution_count": 4,
   "id": "a2106c54",
   "metadata": {},
   "outputs": [],
   "source": [
    "def initialize_model_rnn2():\n",
    "\n",
    "    model = Sequential()\n",
    "\n",
    "    model.add(layers.Masking(mask_value=0.0, input_shape=(60, 25)))\n",
    "\n",
    "    model.add(Bidirectional(LSTM(20, return_sequences=True)))\n",
    "\n",
    "    model.add(Bidirectional(LSTM(20, return_sequences=True)))\n",
    "\n",
    "    model.add(Bidirectional(LSTM(20, return_sequences=False)))\n",
    "\n",
    "    model.add(layers.Dense(1, activation='sigmoid'))\n",
    "\n",
    "    model.compile(loss='binary_crossentropy',\n",
    "                  optimizer='adam',\n",
    "                  metrics=['accuracy', 'Precision', 'Recall'])\n",
    "    return model"
   ]
  },
  {
   "cell_type": "code",
   "execution_count": 5,
   "id": "d934d3c6",
   "metadata": {},
   "outputs": [
    {
     "name": "stderr",
     "output_type": "stream",
     "text": [
      "2021-11-29 22:33:35.906519: I tensorflow/core/platform/cpu_feature_guard.cc:142] This TensorFlow binary is optimized with oneAPI Deep Neural Network Library (oneDNN) to use the following CPU instructions in performance-critical operations:  SSE4.2\n",
      "To enable them in other operations, rebuild TensorFlow with the appropriate compiler flags.\n"
     ]
    }
   ],
   "source": [
    "text_model = initialize_model_rnn2()"
   ]
  },
  {
   "cell_type": "code",
   "execution_count": 6,
   "id": "6df80622",
   "metadata": {},
   "outputs": [
    {
     "name": "stdout",
     "output_type": "stream",
     "text": [
      "Model: \"sequential\"\n",
      "_________________________________________________________________\n",
      "Layer (type)                 Output Shape              Param #   \n",
      "=================================================================\n",
      "masking (Masking)            (None, 60, 25)            0         \n",
      "_________________________________________________________________\n",
      "bidirectional (Bidirectional (None, 60, 40)            7360      \n",
      "_________________________________________________________________\n",
      "bidirectional_1 (Bidirection (None, 60, 40)            9760      \n",
      "_________________________________________________________________\n",
      "bidirectional_2 (Bidirection (None, 40)                9760      \n",
      "_________________________________________________________________\n",
      "dense (Dense)                (None, 1)                 41        \n",
      "=================================================================\n",
      "Total params: 26,921\n",
      "Trainable params: 26,921\n",
      "Non-trainable params: 0\n",
      "_________________________________________________________________\n"
     ]
    }
   ],
   "source": [
    "text_model.summary()"
   ]
  },
  {
   "cell_type": "code",
   "execution_count": null,
   "id": "a0832a1b",
   "metadata": {},
   "outputs": [
    {
     "name": "stderr",
     "output_type": "stream",
     "text": [
      "2021-11-29 22:33:44.652494: I tensorflow/compiler/mlir/mlir_graph_optimization_pass.cc:185] None of the MLIR Optimization Passes are enabled (registered 2)\n"
     ]
    },
    {
     "name": "stdout",
     "output_type": "stream",
     "text": [
      "Epoch 1/30\n"
     ]
    }
   ],
   "source": [
    "es = EarlyStopping(patience=5, restore_best_weights=True)\n",
    "history = text_model.fit(X_train_pad,\n",
    "                                    y_train,\n",
    "                                    epochs=30,\n",
    "                                    batch_size=128,\n",
    "                                    validation_split=0.3,\n",
    "                                    callbacks=[es])"
   ]
  },
  {
   "cell_type": "code",
   "execution_count": null,
   "id": "f6f0c8fd",
   "metadata": {},
   "outputs": [],
   "source": []
  }
 ],
 "metadata": {
  "kernelspec": {
   "display_name": "Python 3 (ipykernel)",
   "language": "python",
   "name": "python3"
  },
  "language_info": {
   "codemirror_mode": {
    "name": "ipython",
    "version": 3
   },
   "file_extension": ".py",
   "mimetype": "text/x-python",
   "name": "python",
   "nbconvert_exporter": "python",
   "pygments_lexer": "ipython3",
   "version": "3.8.12"
  },
  "toc": {
   "base_numbering": 1,
   "nav_menu": {},
   "number_sections": true,
   "sideBar": true,
   "skip_h1_title": false,
   "title_cell": "Table of Contents",
   "title_sidebar": "Contents",
   "toc_cell": false,
   "toc_position": {},
   "toc_section_display": true,
   "toc_window_display": false
  },
  "varInspector": {
   "cols": {
    "lenName": 16,
    "lenType": 16,
    "lenVar": 40
   },
   "kernels_config": {
    "python": {
     "delete_cmd_postfix": "",
     "delete_cmd_prefix": "del ",
     "library": "var_list.py",
     "varRefreshCmd": "print(var_dic_list())"
    },
    "r": {
     "delete_cmd_postfix": ") ",
     "delete_cmd_prefix": "rm(",
     "library": "var_list.r",
     "varRefreshCmd": "cat(var_dic_list()) "
    }
   },
   "types_to_exclude": [
    "module",
    "function",
    "builtin_function_or_method",
    "instance",
    "_Feature"
   ],
   "window_display": false
  }
 },
 "nbformat": 4,
 "nbformat_minor": 5
}
