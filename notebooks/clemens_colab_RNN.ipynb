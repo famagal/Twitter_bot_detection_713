{
  "nbformat": 4,
  "nbformat_minor": 0,
  "metadata": {
    "colab": {
      "name": "clemens_colab_RNN.ipynb",
      "provenance": []
    },
    "kernelspec": {
      "name": "python3",
      "display_name": "Python 3"
    },
    "language_info": {
      "name": "python"
    },
    "accelerator": "GPU"
  },
  "cells": [
    {
      "cell_type": "code",
      "metadata": {
        "colab": {
          "base_uri": "https://localhost:8080/"
        },
        "id": "-ekvbuHq7CAg",
        "outputId": "3d8c543c-8c3a-4347-e265-c21030169271"
      },
      "source": [
        "from google.colab import drive\n",
        "drive.mount('/content/drive')"
      ],
      "execution_count": 4,
      "outputs": [
        {
          "output_type": "stream",
          "name": "stdout",
          "text": [
            "Mounted at /content/drive\n"
          ]
        }
      ]
    },
    {
      "cell_type": "code",
      "metadata": {
        "id": "Iz5w5Mjz8cp7"
      },
      "source": [
        "import pandas as pd\n",
        "from sklearn.model_selection import train_test_split"
      ],
      "execution_count": 5,
      "outputs": []
    },
    {
      "cell_type": "code",
      "metadata": {
        "id": "tmqlG-yk8Rhq"
      },
      "source": [
        "data_path = '/content/drive/My Drive/Colab Notebooks/data/'\n",
        "df = pd.read_parquet(data_path + 'clean_text.parquet')"
      ],
      "execution_count": 6,
      "outputs": []
    },
    {
      "cell_type": "code",
      "metadata": {
        "id": "LFcr6VNe8sys"
      },
      "source": [
        "import matplotlib.pyplot as plt\n",
        "import seaborn as sns\n",
        "import numpy as np\n",
        "from tensorflow.keras.preprocessing.sequence import pad_sequences\n",
        "from tensorflow.keras.preprocessing.text import Tokenizer\n",
        "from tensorflow.keras.preprocessing.text import text_to_word_sequence\n",
        "from tensorflow.keras.preprocessing.sequence import pad_sequences\n",
        "from tensorflow.keras import models\n",
        "from tensorflow.keras import layers, Sequential\n",
        "from tensorflow.keras.callbacks import EarlyStopping"
      ],
      "execution_count": 8,
      "outputs": []
    },
    {
      "cell_type": "code",
      "metadata": {
        "id": "jXWzTiJw8zrg"
      },
      "source": [
        "X = df.clean_text\n",
        "\n",
        "y = df['target'].map(lambda x: 1 if x == 'bot' else 0)"
      ],
      "execution_count": 9,
      "outputs": []
    },
    {
      "cell_type": "code",
      "metadata": {
        "id": "DM054KQG9Mjf"
      },
      "source": [
        "X_train, X_test, y_train, y_test = train_test_split(X, y, test_size=0.2, random_state=0)"
      ],
      "execution_count": 10,
      "outputs": []
    },
    {
      "cell_type": "code",
      "metadata": {
        "id": "sLXN1PTi9PeP"
      },
      "source": [
        "X_train = [text_to_word_sequence(i) for i in X_train]\n",
        "X_test = [text_to_word_sequence(i) for i in X_test]"
      ],
      "execution_count": 11,
      "outputs": []
    },
    {
      "cell_type": "code",
      "metadata": {
        "id": "ZRaKS9389RuY"
      },
      "source": [
        "##Tokenizing\n",
        "\n",
        "tk = Tokenizer()\n",
        "\n",
        "tk.fit_on_texts(X_train)\n",
        "\n",
        "# We apply the tokenization to the train and test set\n",
        "X_train_token = tk.texts_to_sequences(X_train)\n",
        "X_test_token = tk.texts_to_sequences(X_test)"
      ],
      "execution_count": 12,
      "outputs": []
    },
    {
      "cell_type": "code",
      "metadata": {
        "colab": {
          "base_uri": "https://localhost:8080/"
        },
        "id": "GlYJlgIf9VGx",
        "outputId": "db5b615a-6877-4e64-fbf8-23166cc8e295"
      },
      "source": [
        "vocab_size = len(tk.word_index)\n",
        "vocab_size"
      ],
      "execution_count": 13,
      "outputs": [
        {
          "output_type": "execute_result",
          "data": {
            "text/plain": [
              "471139"
            ]
          },
          "metadata": {},
          "execution_count": 13
        }
      ]
    },
    {
      "cell_type": "code",
      "metadata": {
        "colab": {
          "base_uri": "https://localhost:8080/",
          "height": 334
        },
        "id": "BF3XQyro9X2P",
        "outputId": "3a966616-bb97-4c20-bfc9-c03bbfdee7f2"
      },
      "source": [
        "###Padding - checking for how to pad\n",
        "\n",
        "list_len_Xt = [len(i) for i in X_train]\n",
        "plt.hist(list_len_Xt)"
      ],
      "execution_count": 14,
      "outputs": [
        {
          "output_type": "execute_result",
          "data": {
            "text/plain": [
              "(array([6.27893e+05, 3.62958e+05, 1.57041e+05, 1.00351e+05, 3.88840e+04,\n",
              "        3.11400e+03, 1.31000e+02, 1.00000e+01, 1.00000e+00, 1.00000e+00]),\n",
              " array([ 0. ,  6.1, 12.2, 18.3, 24.4, 30.5, 36.6, 42.7, 48.8, 54.9, 61. ]),\n",
              " <a list of 10 Patch objects>)"
            ]
          },
          "metadata": {},
          "execution_count": 14
        },
        {
          "output_type": "display_data",
          "data": {
            "image/png": "[encoded data removed]",
            "text/plain": [
              "<Figure size 432x288 with 1 Axes>"
            ]
          },
          "metadata": {
            "needs_background": "light"
          }
        }
      ]
    },
    {
      "cell_type": "code",
      "metadata": {
        "id": "v0Rjdzmf9aHG"
      },
      "source": [
        "X_train_pad = pad_sequences(X_train_token, dtype='float32', padding='post', maxlen=25)\n",
        "X_test_pad = pad_sequences(X_test_token, dtype='float32', padding='post', maxlen=25)"
      ],
      "execution_count": 15,
      "outputs": []
    },
    {
      "cell_type": "code",
      "metadata": {
        "id": "UEjNbbsw9cpH"
      },
      "source": [
        "embedding_size = 10\n",
        "\n",
        "def initialize_model():\n",
        "    \n",
        "    model = Sequential()\n",
        "    \n",
        "    model.add(layers.Embedding(input_dim=vocab_size+1,output_dim=embedding_size, mask_zero=True, input_length=25))\n",
        "    \n",
        "    model.add(layers.LSTM(20))\n",
        "    \n",
        "    model.add(layers.Dense(10, activation='relu'))\n",
        "    \n",
        "    model.add(layers.Dense(1, activation='sigmoid'))\n",
        "    \n",
        "    model.compile(loss='binary_crossentropy',\n",
        "                 optimizer='adam',\n",
        "                  metrics=['accuracy','Precision','Recall']\n",
        "                 )\n",
        "    return model"
      ],
      "execution_count": 16,
      "outputs": []
    },
    {
      "cell_type": "code",
      "metadata": {
        "colab": {
          "base_uri": "https://localhost:8080/"
        },
        "id": "WTwHQyUb9fiw",
        "outputId": "10c65fa5-8fd0-4ce9-e02d-803124d310c5"
      },
      "source": [
        "rnn = initialize_model()\n",
        "\n",
        "rnn.summary()"
      ],
      "execution_count": 17,
      "outputs": [
        {
          "output_type": "stream",
          "name": "stdout",
          "text": [
            "Model: \"sequential\"\n",
            "_________________________________________________________________\n",
            " Layer (type)                Output Shape              Param #   \n",
            "=================================================================\n",
            " embedding (Embedding)       (None, 25, 10)            4711400   \n",
            "                                                                 \n",
            " lstm (LSTM)                 (None, 20)                2480      \n",
            "                                                                 \n",
            " dense (Dense)               (None, 10)                210       \n",
            "                                                                 \n",
            " dense_1 (Dense)             (None, 1)                 11        \n",
            "                                                                 \n",
            "=================================================================\n",
            "Total params: 4,714,101\n",
            "Trainable params: 4,714,101\n",
            "Non-trainable params: 0\n",
            "_________________________________________________________________\n"
          ]
        }
      ]
    },
    {
      "cell_type": "code",
      "metadata": {
        "colab": {
          "base_uri": "https://localhost:8080/"
        },
        "id": "58NlsDyt9j0s",
        "outputId": "b57d4dcd-1b6d-44b7-b3d3-01913e435445"
      },
      "source": [
        "###Model architecture works, but it would take ages to complete. Will export files to colab and try to run the model there\n",
        "\n",
        "es = EarlyStopping(patience=5, restore_best_weights=True)\n",
        "\n",
        "history = rnn.fit(X_train_pad, y_train, \n",
        "          epochs=500, \n",
        "          batch_size=64,\n",
        "          validation_split=0.3,\n",
        "          callbacks=[es]\n",
        "         )"
      ],
      "execution_count": 19,
      "outputs": [
        {
          "output_type": "stream",
          "name": "stdout",
          "text": [
            "Epoch 1/500\n",
            "14114/14114 [==============================] - 860s 60ms/step - loss: 0.3271 - accuracy: 0.8872 - precision: 0.7899 - recall: 0.2237 - val_loss: 0.3044 - val_accuracy: 0.8958 - val_precision: 0.8322 - val_recall: 0.2811\n",
            "Epoch 2/500\n",
            "14114/14114 [==============================] - 849s 60ms/step - loss: 0.2713 - accuracy: 0.9067 - precision: 0.8370 - recall: 0.3828 - val_loss: 0.3022 - val_accuracy: 0.8971 - val_precision: 0.7576 - val_recall: 0.3440\n",
            "Epoch 3/500\n",
            "14114/14114 [==============================] - 833s 59ms/step - loss: 0.2308 - accuracy: 0.9232 - precision: 0.8754 - recall: 0.5019 - val_loss: 0.3215 - val_accuracy: 0.8882 - val_precision: 0.6363 - val_recall: 0.3928\n",
            "Epoch 4/500\n",
            "14114/14114 [==============================] - 837s 59ms/step - loss: 0.2056 - accuracy: 0.9326 - precision: 0.9082 - recall: 0.5567 - val_loss: 0.3404 - val_accuracy: 0.8814 - val_precision: 0.5817 - val_recall: 0.4183\n",
            "Epoch 5/500\n",
            "14114/14114 [==============================] - 830s 59ms/step - loss: 0.1896 - accuracy: 0.9375 - precision: 0.9200 - recall: 0.5879 - val_loss: 0.3379 - val_accuracy: 0.8862 - val_precision: 0.6183 - val_recall: 0.4005\n",
            "Epoch 6/500\n",
            "14114/14114 [==============================] - 826s 59ms/step - loss: 0.1773 - accuracy: 0.9414 - precision: 0.9276 - recall: 0.6136 - val_loss: 0.3820 - val_accuracy: 0.8699 - val_precision: 0.5192 - val_recall: 0.4349\n",
            "Epoch 7/500\n",
            "14114/14114 [==============================] - 826s 59ms/step - loss: 0.1680 - accuracy: 0.9441 - precision: 0.9296 - recall: 0.6340 - val_loss: 0.3807 - val_accuracy: 0.8745 - val_precision: 0.5432 - val_recall: 0.4133\n"
          ]
        }
      ]
    },
    {
      "cell_type": "code",
      "metadata": {
        "colab": {
          "base_uri": "https://localhost:8080/"
        },
        "id": "vKCf4cGDVhKv",
        "outputId": "96447537-7e31-4ce3-953e-2c8818c6f82c"
      },
      "source": [
        "rnn.evaluate(X_test_pad, y_test)"
      ],
      "execution_count": 21,
      "outputs": [
        {
          "output_type": "stream",
          "name": "stdout",
          "text": [
            "10082/10082 [==============================] - 92s 9ms/step - loss: 0.3010 - accuracy: 0.8991 - precision: 0.8115 - recall: 0.3275\n"
          ]
        },
        {
          "output_type": "execute_result",
          "data": {
            "text/plain": [
              "[0.3010481297969818, 0.899127721786499, 0.8114669919013977, 0.3275286853313446]"
            ]
          },
          "metadata": {},
          "execution_count": 21
        }
      ]
    },
    {
      "cell_type": "code",
      "metadata": {
        "id": "MTEl1VGG1m9a"
      },
      "source": [
        ""
      ],
      "execution_count": null,
      "outputs": []
    }
  ]
}