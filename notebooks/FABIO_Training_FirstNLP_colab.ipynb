{
 "cells": [
  {
   "cell_type": "code",
   "execution_count": 8,
   "metadata": {
    "id": "P5q5T0PnkhTI"
   },
   "outputs": [],
   "source": [
    "import matplotlib.pyplot as plt\n",
    "import seaborn as sns\n",
    "import numpy as np\n",
    "import pandas as pd\n",
    "from tensorflow.keras.preprocessing.sequence import pad_sequences\n",
    "from tensorflow.keras.preprocessing.text import Tokenizer\n",
    "from tensorflow.keras.preprocessing.text import text_to_word_sequence\n",
    "from tensorflow.keras.preprocessing.sequence import pad_sequences\n",
    "from tensorflow.keras import models\n",
    "from tensorflow.keras import layers, Sequential\n",
    "from tensorflow.keras.callbacks import EarlyStopping\n",
    "from sklearn.model_selection import train_test_split"
   ]
  },
  {
   "cell_type": "code",
   "execution_count": 2,
   "metadata": {
    "colab": {
     "base_uri": "https://localhost:8080/"
    },
    "id": "BO1ZDldQoHTq",
    "outputId": "4294c050-be52-4424-d4a3-8be664b963ef"
   },
   "outputs": [
    {
     "name": "stdout",
     "output_type": "stream",
     "text": [
      "Mounted at /content/drive\n"
     ]
    }
   ],
   "source": [
    "from google.colab import drive\n",
    "drive.mount('/content/drive')"
   ]
  },
  {
   "cell_type": "code",
   "execution_count": 3,
   "metadata": {
    "id": "tagx5iLyoU7t"
   },
   "outputs": [],
   "source": [
    "data_path = '/content/drive/My Drive/Colab Notebooks/data/'"
   ]
  },
  {
   "cell_type": "code",
   "execution_count": 4,
   "metadata": {
    "id": "nf31PJAGnszM"
   },
   "outputs": [],
   "source": [
    "df = pd.read_parquet(data_path + \"clean_text.parquet\")"
   ]
  },
  {
   "cell_type": "code",
   "execution_count": 5,
   "metadata": {
    "colab": {
     "base_uri": "https://localhost:8080/",
     "height": 419
    },
    "id": "hBEim6HYohNJ",
    "outputId": "99623131-5f08-4608-f33c-ee33bc537bc2"
   },
   "outputs": [
    {
     "data": {
      "text/html": [
       "<div>\n",
       "<style scoped>\n",
       "    .dataframe tbody tr th:only-of-type {\n",
       "        vertical-align: middle;\n",
       "    }\n",
       "\n",
       "    .dataframe tbody tr th {\n",
       "        vertical-align: top;\n",
       "    }\n",
       "\n",
       "    .dataframe thead th {\n",
       "        text-align: right;\n",
       "    }\n",
       "</style>\n",
       "<table border=\"1\" class=\"dataframe\">\n",
       "  <thead>\n",
       "    <tr style=\"text-align: right;\">\n",
       "      <th></th>\n",
       "      <th>clean_text</th>\n",
       "      <th>target</th>\n",
       "    </tr>\n",
       "  </thead>\n",
       "  <tbody>\n",
       "    <tr>\n",
       "      <th>13</th>\n",
       "      <td>best pate everhave searching taste since</td>\n",
       "      <td>human</td>\n",
       "    </tr>\n",
       "    <tr>\n",
       "      <th>14</th>\n",
       "      <td>pcc great examplereach elected official</td>\n",
       "      <td>human</td>\n",
       "    </tr>\n",
       "    <tr>\n",
       "      <th>15</th>\n",
       "      <td>theorem conclusion</td>\n",
       "      <td>human</td>\n",
       "    </tr>\n",
       "    <tr>\n",
       "      <th>16</th>\n",
       "      <td>theyre learning best</td>\n",
       "      <td>human</td>\n",
       "    </tr>\n",
       "    <tr>\n",
       "      <th>17</th>\n",
       "      <td>thread</td>\n",
       "      <td>human</td>\n",
       "    </tr>\n",
       "    <tr>\n",
       "      <th>...</th>\n",
       "      <td>...</td>\n",
       "      <td>...</td>\n",
       "    </tr>\n",
       "    <tr>\n",
       "      <th>2353366</th>\n",
       "      <td>ruined everything goodalways said misunderstoo...</td>\n",
       "      <td>human</td>\n",
       "    </tr>\n",
       "    <tr>\n",
       "      <th>2353367</th>\n",
       "      <td>every question</td>\n",
       "      <td>human</td>\n",
       "    </tr>\n",
       "    <tr>\n",
       "      <th>2353369</th>\n",
       "      <td>song wish someone wrote pt</td>\n",
       "      <td>human</td>\n",
       "    </tr>\n",
       "    <tr>\n",
       "      <th>2353371</th>\n",
       "      <td>song wish someone wrote pt</td>\n",
       "      <td>human</td>\n",
       "    </tr>\n",
       "    <tr>\n",
       "      <th>2353372</th>\n",
       "      <td>behavioral research built every journey challe...</td>\n",
       "      <td>human</td>\n",
       "    </tr>\n",
       "  </tbody>\n",
       "</table>\n",
       "<p>1612980 rows × 2 columns</p>\n",
       "</div>"
      ],
      "text/plain": [
       "                                                clean_text target\n",
       "13                best pate everhave searching taste since  human\n",
       "14                 pcc great examplereach elected official  human\n",
       "15                                      theorem conclusion  human\n",
       "16                                    theyre learning best  human\n",
       "17                                                  thread  human\n",
       "...                                                    ...    ...\n",
       "2353366  ruined everything goodalways said misunderstoo...  human\n",
       "2353367                                     every question  human\n",
       "2353369                         song wish someone wrote pt  human\n",
       "2353371                         song wish someone wrote pt  human\n",
       "2353372  behavioral research built every journey challe...  human\n",
       "\n",
       "[1612980 rows x 2 columns]"
      ]
     },
     "execution_count": 5,
     "metadata": {},
     "output_type": "execute_result"
    }
   ],
   "source": [
    "df"
   ]
  },
  {
   "cell_type": "code",
   "execution_count": 6,
   "metadata": {
    "id": "D7Ho0lJVotHu"
   },
   "outputs": [],
   "source": [
    "X = df.clean_text\n",
    "\n",
    "y = df['target'].map(lambda x: 1 if x == 'bot' else 0)"
   ]
  },
  {
   "cell_type": "code",
   "execution_count": 9,
   "metadata": {
    "id": "q1PEmyu7pP5O"
   },
   "outputs": [],
   "source": [
    "X_train, X_test, y_train, y_test = train_test_split(X, y, test_size=0.2, random_state=0)"
   ]
  },
  {
   "cell_type": "code",
   "execution_count": 10,
   "metadata": {
    "id": "ZNmBo-BVpbtT"
   },
   "outputs": [],
   "source": [
    "###transforming sentences in word sequences\n",
    "\n",
    "X_train = [text_to_word_sequence(i) for i in X_train]\n",
    "X_test = [text_to_word_sequence(i) for i in X_test]"
   ]
  },
  {
   "cell_type": "code",
   "execution_count": 11,
   "metadata": {
    "id": "JiuPe9drpkaL"
   },
   "outputs": [],
   "source": [
    "##Tokenizing\n",
    "\n",
    "tk = Tokenizer()\n",
    "\n",
    "tk.fit_on_texts(X_train)\n",
    "\n",
    "# We apply the tokenization to the train and test set\n",
    "X_train_token = tk.texts_to_sequences(X_train)\n",
    "X_test_token = tk.texts_to_sequences(X_test)"
   ]
  },
  {
   "cell_type": "code",
   "execution_count": 12,
   "metadata": {
    "colab": {
     "base_uri": "https://localhost:8080/"
    },
    "id": "KU43HKvrpxwW",
    "outputId": "e1a6b49c-4100-4dfb-b83c-fe23367bdb37"
   },
   "outputs": [
    {
     "data": {
      "text/plain": [
       "471139"
      ]
     },
     "execution_count": 12,
     "metadata": {},
     "output_type": "execute_result"
    }
   ],
   "source": [
    "vocab_size = len(tk.word_index)\n",
    "vocab_size"
   ]
  },
  {
   "cell_type": "code",
   "execution_count": 13,
   "metadata": {
    "id": "GSO7R-a7p1uO"
   },
   "outputs": [],
   "source": [
    "X_train_pad = pad_sequences(X_train_token, dtype='float32', padding='post', maxlen=25)\n",
    "X_test_pad = pad_sequences(X_test_token, dtype='float32', padding='post', maxlen=25)"
   ]
  },
  {
   "cell_type": "code",
   "execution_count": 14,
   "metadata": {
    "id": "1DAxI1Aop7aY"
   },
   "outputs": [],
   "source": [
    "embedding_size = 10\n",
    "\n",
    "def initialize_model():\n",
    "    \n",
    "    model = Sequential()\n",
    "    \n",
    "    model.add(layers.Embedding(input_dim=vocab_size+1,output_dim=embedding_size, mask_zero=True, input_length=25))\n",
    "    \n",
    "    model.add(layers.Conv1D(20, kernel_size=2))\n",
    "    \n",
    "    model.add(layers.Flatten())\n",
    "    \n",
    "    model.add(layers.Dense(10, activation='relu'))\n",
    "    \n",
    "    model.add(layers.Dense(1, activation='sigmoid'))\n",
    "    \n",
    "  model.compile(loss='binary_crossentropy',\n",
    "                 optimizer='adam',\n",
    "                 metrics=['accuracy','Precision','Recall']\n",
    "                 )\n",
    "    return model"
   ]
  },
  {
   "cell_type": "code",
   "execution_count": 15,
   "metadata": {
    "colab": {
     "base_uri": "https://localhost:8080/"
    },
    "id": "PsvQ7JiqqAYb",
    "outputId": "27c74558-79f7-4b47-8947-cf40b5a02b29"
   },
   "outputs": [
    {
     "name": "stdout",
     "output_type": "stream",
     "text": [
      "Model: \"sequential\"\n",
      "_________________________________________________________________\n",
      " Layer (type)                Output Shape              Param #   \n",
      "=================================================================\n",
      " embedding (Embedding)       (None, 25, 10)            4711400   \n",
      "                                                                 \n",
      " conv1d (Conv1D)             (None, 24, 20)            420       \n",
      "                                                                 \n",
      " flatten (Flatten)           (None, 480)               0         \n",
      "                                                                 \n",
      " dense (Dense)               (None, 10)                4810      \n",
      "                                                                 \n",
      " dense_1 (Dense)             (None, 1)                 11        \n",
      "                                                                 \n",
      "=================================================================\n",
      "Total params: 4,716,641\n",
      "Trainable params: 4,716,641\n",
      "Non-trainable params: 0\n",
      "_________________________________________________________________\n"
     ]
    }
   ],
   "source": [
    "cnn = initialize_model()\n",
    "\n",
    "cnn.summary()"
   ]
  },
  {
   "cell_type": "code",
   "execution_count": 16,
   "metadata": {
    "colab": {
     "base_uri": "https://localhost:8080/"
    },
    "id": "pEjDUkUYqCoF",
    "outputId": "0cc255cf-cd21-4408-9c2e-c13e950f10d2"
   },
   "outputs": [
    {
     "name": "stdout",
     "output_type": "stream",
     "text": [
      "Epoch 1/500\n",
      "28228/28228 [==============================] - 426s 15ms/step - loss: 0.3269 - accuracy: 0.8875 - precision: 0.8170 - recall: 0.2139 - val_loss: 0.3072 - val_accuracy: 0.8958 - val_precision: 0.8285 - val_recall: 0.2832\n",
      "Epoch 2/500\n",
      "28228/28228 [==============================] - 377s 13ms/step - loss: 0.2739 - accuracy: 0.9066 - precision: 0.8471 - recall: 0.3759 - val_loss: 0.3067 - val_accuracy: 0.8976 - val_precision: 0.7870 - val_recall: 0.3267\n",
      "Epoch 3/500\n",
      "28228/28228 [==============================] - 379s 13ms/step - loss: 0.2362 - accuracy: 0.9200 - precision: 0.8719 - recall: 0.4768 - val_loss: 0.3371 - val_accuracy: 0.8832 - val_precision: 0.5995 - val_recall: 0.3945\n",
      "Epoch 4/500\n",
      "28228/28228 [==============================] - 374s 13ms/step - loss: 0.2094 - accuracy: 0.9299 - precision: 0.8938 - recall: 0.5448 - val_loss: 0.3489 - val_accuracy: 0.8859 - val_precision: 0.6263 - val_recall: 0.3735\n",
      "Epoch 5/500\n",
      "28228/28228 [==============================] - 375s 13ms/step - loss: 0.1914 - accuracy: 0.9361 - precision: 0.9071 - recall: 0.5863 - val_loss: 0.3811 - val_accuracy: 0.8746 - val_precision: 0.5455 - val_recall: 0.4007\n",
      "Epoch 6/500\n",
      "28228/28228 [==============================] - 376s 13ms/step - loss: 0.1791 - accuracy: 0.9403 - precision: 0.9185 - recall: 0.6121 - val_loss: 0.4011 - val_accuracy: 0.8711 - val_precision: 0.5268 - val_recall: 0.4037\n",
      "Epoch 7/500\n",
      "28228/28228 [==============================] - 379s 13ms/step - loss: 0.1702 - accuracy: 0.9437 - precision: 0.9230 - recall: 0.6360 - val_loss: 0.4254 - val_accuracy: 0.8653 - val_precision: 0.4984 - val_recall: 0.4132\n"
     ]
    }
   ],
   "source": [
    "es = EarlyStopping(patience=5, restore_best_weights=True)\n",
    "\n",
    "history = cnn.fit(X_train_pad, y_train, \n",
    "          epochs=500, \n",
    "          batch_size=32,\n",
    "          validation_split=0.3,\n",
    "          callbacks=[es]\n",
    "         )"
   ]
  },
  {
   "cell_type": "code",
   "execution_count": 18,
   "metadata": {
    "colab": {
     "base_uri": "https://localhost:8080/"
    },
    "id": "tk5CfMFz1RHA",
    "outputId": "3f126360-af17-42a6-ba39-837bd361b616"
   },
   "outputs": [
    {
     "name": "stdout",
     "output_type": "stream",
     "text": [
      "10082/10082 [==============================] - 52s 5ms/step - loss: 0.3069 - accuracy: 0.8982 - precision: 0.8211 - recall: 0.3130\n"
     ]
    },
    {
     "data": {
      "text/plain": [
       "[0.306924045085907, 0.8982380628585815, 0.8210945725440979, 0.3130362629890442]"
      ]
     },
     "execution_count": 18,
     "metadata": {},
     "output_type": "execute_result"
    }
   ],
   "source": [
    "cnn.evaluate(X_test_pad,y_test)"
   ]
  }
 ],
 "metadata": {
  "accelerator": "GPU",
  "colab": {
   "name": "Untitled0.ipynb",
   "provenance": []
  },
  "kernelspec": {
   "display_name": "Python 3 (ipykernel)",
   "language": "python",
   "name": "python3"
  },
  "language_info": {
   "codemirror_mode": {
    "name": "ipython",
    "version": 3
   },
   "file_extension": ".py",
   "mimetype": "text/x-python",
   "name": "python",
   "nbconvert_exporter": "python",
   "pygments_lexer": "ipython3",
   "version": "3.8.12"
  },
  "toc": {
   "base_numbering": 1,
   "nav_menu": {},
   "number_sections": true,
   "sideBar": true,
   "skip_h1_title": false,
   "title_cell": "Table of Contents",
   "title_sidebar": "Contents",
   "toc_cell": false,
   "toc_position": {},
   "toc_section_display": true,
   "toc_window_display": false
  },
  "varInspector": {
   "cols": {
    "lenName": 16,
    "lenType": 16,
    "lenVar": 40
   },
   "kernels_config": {
    "python": {
     "delete_cmd_postfix": "",
     "delete_cmd_prefix": "del ",
     "library": "var_list.py",
     "varRefreshCmd": "print(var_dic_list())"
    },
    "r": {
     "delete_cmd_postfix": ") ",
     "delete_cmd_prefix": "rm(",
     "library": "var_list.r",
     "varRefreshCmd": "cat(var_dic_list()) "
    }
   },
   "types_to_exclude": [
    "module",
    "function",
    "builtin_function_or_method",
    "instance",
    "_Feature"
   ],
   "window_display": false
  }
 },
 "nbformat": 4,
 "nbformat_minor": 1
}
