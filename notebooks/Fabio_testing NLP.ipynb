{
 "cells": [
  {
   "cell_type": "code",
   "execution_count": 3,
   "id": "077043ab",
   "metadata": {},
   "outputs": [],
   "source": [
    "import pandas as pd\n",
    "import pickle\n",
    "from tensorflow.keras.preprocessing.sequence import pad_sequences\n",
    "from tensorflow.keras import models\n",
    "from tensorflow.keras import layers, Sequential\n",
    "from tensorflow.keras.callbacks import EarlyStopping\n",
    "from tensorflow.keras.layers import Bidirectional, LSTM\n",
    "import numpy as np"
   ]
  },
  {
   "cell_type": "code",
   "execution_count": 4,
   "id": "169dae6b",
   "metadata": {},
   "outputs": [],
   "source": [
    "pickle_in1 = open('../Twitter_bot_detection_713/data/pickled_data/X_train_embed_25.pickle', \"rb\")\n",
    "X_train_embed = pickle.load(pickle_in1)\n",
    "pickle_in2 = open(\"../Twitter_bot_detection_713/data/pickled_data/X_test_embed_25.pickle\", \"rb\")\n",
    "X_test_embed = pickle.load(pickle_in2)\n",
    "pickle_in3 = open(\"../Twitter_bot_detection_713/data/pickled_data/y_train.pickle\", \"rb\")\n",
    "y_train = pickle.load(pickle_in3)\n",
    "pickle_in4= open(\"../Twitter_bot_detection_713/data/pickled_data/y_test.pickle\", \"rb\")\n",
    "y_test = pickle.load(pickle_in4)"
   ]
  },
  {
   "cell_type": "code",
   "execution_count": 5,
   "id": "74126e66",
   "metadata": {},
   "outputs": [],
   "source": [
    "X_test_pad = pad_sequences(X_test_embed, dtype='float32',padding='post',maxlen=60)\n",
    "X_train_pad = pad_sequences(X_train_embed, dtype='float32',padding='post',maxlen=60)"
   ]
  },
  {
   "cell_type": "code",
   "execution_count": 6,
   "id": "4cc30a9e",
   "metadata": {},
   "outputs": [],
   "source": [
    "def initialize_model_rnn2():\n",
    "\n",
    "    model = Sequential()\n",
    "\n",
    "    model.add(layers.Masking(mask_value=0.0, input_shape=(60, 25)))\n",
    "\n",
    "    model.add(Bidirectional(LSTM(20, return_sequences=True)))\n",
    "    \n",
    "    model.add(Bidirectional(LSTM(20, return_sequences=True)))\n",
    "    \n",
    "    model.add(Bidirectional(LSTM(20, return_sequences=False)))\n",
    "\n",
    "    model.add(layers.Dense(1, activation='sigmoid'))\n",
    "\n",
    "    model.compile(loss='binary_crossentropy',\n",
    "                  optimizer='adam',\n",
    "                  metrics=['accuracy', 'Precision', 'Recall'])\n",
    "    return model"
   ]
  },
  {
   "cell_type": "code",
   "execution_count": 7,
   "id": "bca17be0",
   "metadata": {},
   "outputs": [
    {
     "name": "stderr",
     "output_type": "stream",
     "text": [
      "2021-11-30 10:01:33.680990: I tensorflow/core/platform/cpu_feature_guard.cc:142] This TensorFlow binary is optimized with oneAPI Deep Neural Network Library (oneDNN) to use the following CPU instructions in performance-critical operations:  SSE4.2\n",
      "To enable them in other operations, rebuild TensorFlow with the appropriate compiler flags.\n"
     ]
    }
   ],
   "source": [
    "text_model = initialize_model_rnn2()"
   ]
  },
  {
   "cell_type": "code",
   "execution_count": null,
   "id": "3d9bedd5",
   "metadata": {},
   "outputs": [
    {
     "name": "stderr",
     "output_type": "stream",
     "text": [
      "2021-11-30 10:01:52.633444: I tensorflow/compiler/mlir/mlir_graph_optimization_pass.cc:185] None of the MLIR Optimization Passes are enabled (registered 2)\n"
     ]
    },
    {
     "name": "stdout",
     "output_type": "stream",
     "text": [
      "Epoch 1/30\n",
      "7057/7057 [==============================] - 564s 79ms/step - loss: 0.3525 - accuracy: 0.8724 - precision: 0.6836 - recall: 0.1007 - val_loss: 0.3388 - val_accuracy: 0.8772 - val_precision: 0.7263 - val_recall: 0.1385\n",
      "Epoch 2/30\n",
      "7057/7057 [==============================] - 562s 80ms/step - loss: 0.3348 - accuracy: 0.8793 - precision: 0.7239 - recall: 0.1705 - val_loss: 0.3304 - val_accuracy: 0.8813 - val_precision: 0.6697 - val_recall: 0.2300\n",
      "Epoch 3/30\n",
      "5207/7057 [=====================>........] - ETA: 2:15 - loss: 0.3278 - accuracy: 0.8832 - precision: 0.7528 - recall: 0.2050"
     ]
    }
   ],
   "source": [
    "es = EarlyStopping(patience=5, restore_best_weights=True)\n",
    "history = text_model.fit(X_train_pad,\n",
    "                                    y_train,\n",
    "                                    epochs=30,\n",
    "                                    batch_size=128,\n",
    "                                    validation_split=0.3,\n",
    "                                    callbacks=[es])"
   ]
  },
  {
   "cell_type": "code",
   "execution_count": null,
   "id": "5aca0c5b",
   "metadata": {},
   "outputs": [],
   "source": []
  }
 ],
 "metadata": {
  "kernelspec": {
   "display_name": "Python 3 (ipykernel)",
   "language": "python",
   "name": "python3"
  },
  "language_info": {
   "codemirror_mode": {
    "name": "ipython",
    "version": 3
   },
   "file_extension": ".py",
   "mimetype": "text/x-python",
   "name": "python",
   "nbconvert_exporter": "python",
   "pygments_lexer": "ipython3",
   "version": "3.8.12"
  },
  "toc": {
   "base_numbering": 1,
   "nav_menu": {},
   "number_sections": true,
   "sideBar": true,
   "skip_h1_title": false,
   "title_cell": "Table of Contents",
   "title_sidebar": "Contents",
   "toc_cell": false,
   "toc_position": {},
   "toc_section_display": true,
   "toc_window_display": false
  },
  "varInspector": {
   "cols": {
    "lenName": 16,
    "lenType": 16,
    "lenVar": 40
   },
   "kernels_config": {
    "python": {
     "delete_cmd_postfix": "",
     "delete_cmd_prefix": "del ",
     "library": "var_list.py",
     "varRefreshCmd": "print(var_dic_list())"
    },
    "r": {
     "delete_cmd_postfix": ") ",
     "delete_cmd_prefix": "rm(",
     "library": "var_list.r",
     "varRefreshCmd": "cat(var_dic_list()) "
    }
   },
   "position": {
    "height": "370.844px",
    "left": "1065px",
    "right": "20px",
    "top": "119px",
    "width": "356px"
   },
   "types_to_exclude": [
    "module",
    "function",
    "builtin_function_or_method",
    "instance",
    "_Feature"
   ],
   "window_display": false
  }
 },
 "nbformat": 4,
 "nbformat_minor": 5
}
