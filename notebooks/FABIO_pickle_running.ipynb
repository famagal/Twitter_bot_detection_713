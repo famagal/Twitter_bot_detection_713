{
 "cells": [
  {
   "cell_type": "code",
   "execution_count": 15,
   "id": "6a2843e7",
   "metadata": {},
   "outputs": [
    {
     "name": "stdout",
     "output_type": "stream",
     "text": [
      "The autoreload extension is already loaded. To reload it, use:\n",
      "  %reload_ext autoreload\n"
     ]
    }
   ],
   "source": [
    "%load_ext autoreload\n",
    "%autoreload 2\n",
    "import pandas as pd\n",
    "import pickle\n",
    "from tensorflow.keras.preprocessing.sequence import pad_sequences"
   ]
  },
  {
   "cell_type": "code",
   "execution_count": 18,
   "id": "7b2ba18a",
   "metadata": {},
   "outputs": [],
   "source": [
    "def get_embeded_data(nrows='all'):\n",
    "\n",
    "    pickle_in1 = open('X_train_embed_first100.pickle.pickle\", \"rb\")\n",
    "    X_train_embed = pickle.load(pickle_in1)\n",
    "    pickle_in2 = open(\"X_test_embed_first100.pickle\", \"rb\")\n",
    "    X_test_embed = pickle.load(pickle_in2)\n",
    "    pickle_in3 = open(\"y_train.pickle_first100.pickle\", \"rb\")\n",
    "    y_train = pickle.load(pickle_in3)\n",
    "    pickle_in4 = open(\"y_test.pickle_first100.pickle\", \"rb\")\n",
    "    y_test = pickle.load(pickle_in4)\n",
    "    \n",
    "    if nrows == 'all':\n",
    "\n",
    "        X_test_pad = pad_sequences(X_test_embed,\n",
    "                               dtype='float32',\n",
    "                               padding='post',\n",
    "                               maxlen=60)\n",
    "        X_train_pad = pad_sequences(X_train_embed,\n",
    "                                dtype='float32',\n",
    "                                padding='post',\n",
    "                                maxlen=60)\n",
    "        return X_train_pad, X_test_pad, y_train, y_test\n",
    "\n",
    "    if nrows == int:\n",
    "        X_test_pad = pad_sequences(X_test_embed[0:round(nrows*0.3)],\n",
    "                                   dtype='float32',\n",
    "                                   padding='post',\n",
    "                                   maxlen=60)\n",
    "        X_train_pad = pad_sequences(X_train_embed[0:nrows],\n",
    "                                    dtype='float32',\n",
    "                                    padding='post',\n",
    "                                    maxlen=60)\n",
    "        \n",
    "        return X_train_pad, X_test_pad, y_train, y_test"
   ]
  },
  {
   "cell_type": "code",
   "execution_count": 10,
   "id": "9302f7a2",
   "metadata": {},
   "outputs": [],
   "source": [
    "pickle_in1 = open('X_train_embed_first100.pickle', \"rb\")\n",
    "X_train_embed = pickle.load(pickle_in1)\n",
    "pickle_in2 = open(\"X_test_embed_first100.pickle\", \"rb\")\n",
    "X_test_embed = pickle.load(pickle_in2)\n",
    "pickle_in3 = open(\"y_train_first100.pickle\", \"rb\")\n",
    "y_train = pickle.load(pickle_in3)"
   ]
  },
  {
   "cell_type": "code",
   "execution_count": null,
   "id": "7f2bb601",
   "metadata": {},
   "outputs": [],
   "source": [
    "X_train_pad, X_test_pad, y_train, y_test = get_embeded_data(nrows=100)"
   ]
  },
  {
   "cell_type": "code",
   "execution_count": 11,
   "id": "ed958400",
   "metadata": {},
   "outputs": [],
   "source": [
    "nrows=20"
   ]
  },
  {
   "cell_type": "code",
   "execution_count": null,
   "id": "eaa5cfa4",
   "metadata": {},
   "outputs": [],
   "source": [
    "if nrows == 'all':\n",
    "\n",
    "        X_test_pad = pad_sequences(X_test_embed,\n",
    "                               dtype='float32',\n",
    "                               padding='post',\n",
    "                               maxlen=60)\n",
    "        X_train_pad = pad_sequences(X_train_embed,\n",
    "                                dtype='float32',\n",
    "                                padding='post',\n",
    "                                maxlen=60)\n",
    "        return X_train_pad, X_test_pad, y_train, y_test"
   ]
  },
  {
   "cell_type": "code",
   "execution_count": 16,
   "id": "7ec82a09",
   "metadata": {},
   "outputs": [],
   "source": [
    "if type(nrows) == int:\n",
    "    X_test_pad = pad_sequences(X_test_embed[0:nrows],\n",
    "                                   dtype='float32',\n",
    "                                   padding='post',\n",
    "                                   maxlen=60)\n",
    "    X_train_pad = pad_sequences(X_train_embed[0:round(nrows*0.2)],\n",
    "                                    dtype='float32',\n",
    "                                    padding='post',\n",
    "                                    maxlen=60)\n",
    "        \n",
    "        ###return  X_train_pad, X_test_pad, y_train, y_test"
   ]
  },
  {
   "cell_type": "code",
   "execution_count": 18,
   "id": "6e815406",
   "metadata": {},
   "outputs": [
    {
     "data": {
      "text/plain": [
       "array([[[ 0.31553  ,  0.53765  ,  0.10177  , ..., -0.45664  ,\n",
       "         -0.4654   ,  0.52066  ],\n",
       "        [-0.45054  , -0.17639  ,  0.18853  , ..., -0.092699 ,\n",
       "         -0.025687 , -0.37395  ],\n",
       "        [-0.070757 ,  0.36194  , -0.72613  , ...,  0.041219 ,\n",
       "          0.42729  ,  0.23864  ],\n",
       "        ...,\n",
       "        [ 0.       ,  0.       ,  0.       , ...,  0.       ,\n",
       "          0.       ,  0.       ],\n",
       "        [ 0.       ,  0.       ,  0.       , ...,  0.       ,\n",
       "          0.       ,  0.       ],\n",
       "        [ 0.       ,  0.       ,  0.       , ...,  0.       ,\n",
       "          0.       ,  0.       ]],\n",
       "\n",
       "       [[-0.17478  , -0.10639  , -0.086791 , ...,  0.38153  ,\n",
       "         -0.65168  , -0.57458  ],\n",
       "        [ 0.53022  , -0.12616  , -0.0048044, ..., -0.0982   ,\n",
       "          0.50803  , -0.55739  ],\n",
       "        [-0.19585  , -0.060821 , -0.34565  , ...,  0.0025372,\n",
       "         -0.56305  , -0.20635  ],\n",
       "        ...,\n",
       "        [ 0.       ,  0.       ,  0.       , ...,  0.       ,\n",
       "          0.       ,  0.       ],\n",
       "        [ 0.       ,  0.       ,  0.       , ...,  0.       ,\n",
       "          0.       ,  0.       ],\n",
       "        [ 0.       ,  0.       ,  0.       , ...,  0.       ,\n",
       "          0.       ,  0.       ]],\n",
       "\n",
       "       [[ 0.31553  ,  0.53765  ,  0.10177  , ..., -0.45664  ,\n",
       "         -0.4654   ,  0.52066  ],\n",
       "        [ 0.56364  ,  0.29667  , -0.36824  , ...,  0.53188  ,\n",
       "         -0.75906  ,  0.44281  ],\n",
       "        [ 0.       ,  0.       ,  0.       , ...,  0.       ,\n",
       "          0.       ,  0.       ],\n",
       "        ...,\n",
       "        [ 0.       ,  0.       ,  0.       , ...,  0.       ,\n",
       "          0.       ,  0.       ],\n",
       "        [ 0.       ,  0.       ,  0.       , ...,  0.       ,\n",
       "          0.       ,  0.       ],\n",
       "        [ 0.       ,  0.       ,  0.       , ...,  0.       ,\n",
       "          0.       ,  0.       ]],\n",
       "\n",
       "       ...,\n",
       "\n",
       "       [[-0.35995  , -0.07563  , -0.29665  , ..., -0.49804  ,\n",
       "          0.37163  , -0.33298  ],\n",
       "        [ 0.31705  ,  0.51477  , -0.26564  , ...,  0.071046 ,\n",
       "          0.32593  , -0.070306 ],\n",
       "        [ 0.15106  ,  0.55837  , -0.4017   , ..., -0.14305  ,\n",
       "         -0.13349  ,  0.21249  ],\n",
       "        ...,\n",
       "        [ 0.       ,  0.       ,  0.       , ...,  0.       ,\n",
       "          0.       ,  0.       ],\n",
       "        [ 0.       ,  0.       ,  0.       , ...,  0.       ,\n",
       "          0.       ,  0.       ],\n",
       "        [ 0.       ,  0.       ,  0.       , ...,  0.       ,\n",
       "          0.       ,  0.       ]],\n",
       "\n",
       "       [[ 0.31553  ,  0.53765  ,  0.10177  , ..., -0.45664  ,\n",
       "         -0.4654   ,  0.52066  ],\n",
       "        [-0.067814 ,  0.74038  , -0.37344  , ...,  0.34662  ,\n",
       "         -0.047644 ,  0.18982  ],\n",
       "        [ 0.12089  , -0.21725  , -0.69055  , ...,  0.10758  ,\n",
       "          0.16713  , -0.31571  ],\n",
       "        ...,\n",
       "        [ 0.       ,  0.       ,  0.       , ...,  0.       ,\n",
       "          0.       ,  0.       ],\n",
       "        [ 0.       ,  0.       ,  0.       , ...,  0.       ,\n",
       "          0.       ,  0.       ],\n",
       "        [ 0.       ,  0.       ,  0.       , ...,  0.       ,\n",
       "          0.       ,  0.       ]],\n",
       "\n",
       "       [[ 0.31553  ,  0.53765  ,  0.10177  , ..., -0.45664  ,\n",
       "         -0.4654   ,  0.52066  ],\n",
       "        [-0.10309  ,  0.25947  ,  0.20669  , ..., -0.22408  ,\n",
       "          0.12855  ,  0.30811  ],\n",
       "        [-0.35995  , -0.07563  , -0.29665  , ..., -0.49804  ,\n",
       "          0.37163  , -0.33298  ],\n",
       "        ...,\n",
       "        [ 0.       ,  0.       ,  0.       , ...,  0.       ,\n",
       "          0.       ,  0.       ],\n",
       "        [ 0.       ,  0.       ,  0.       , ...,  0.       ,\n",
       "          0.       ,  0.       ],\n",
       "        [ 0.       ,  0.       ,  0.       , ...,  0.       ,\n",
       "          0.       ,  0.       ]]], dtype=float32)"
      ]
     },
     "execution_count": 18,
     "metadata": {},
     "output_type": "execute_result"
    }
   ],
   "source": [
    "X_train_pad"
   ]
  },
  {
   "cell_type": "code",
   "execution_count": 20,
   "id": "075f6bec",
   "metadata": {},
   "outputs": [],
   "source": [
    "pickle_in1 = open(\"../Twitter_bot_detection_713/data/X_train_embed.pickle\", \"rb\")\n",
    "X_train_embed = pickle.load(pickle_in1)\n",
    "pickle_in2 = open(\"../Twitter_bot_detection_713/data/X_test_embed.pickle\", \"rb\")\n",
    "X_test_embed = pickle.load(pickle_in2)\n",
    "pickle_in3 = open(\"../Twitter_bot_detection_713/data/y_train.pickle\", \"rb\")\n",
    "y_train = pickle.load(pickle_in3)\n",
    "pickle_in4 = open(\"../Twitter_bot_detection_713/data/y_test.pickle\", \"rb\")\n",
    "y_test = pickle.load(pickle_in4)"
   ]
  },
  {
   "cell_type": "code",
   "execution_count": 25,
   "id": "e2d1625c",
   "metadata": {},
   "outputs": [],
   "source": [
    "pickle_out = open(\"X_train_embed_first100.pickle\",\"wb\")\n",
    "pickle.dump(X_train_embed[0:100], pickle_out)"
   ]
  },
  {
   "cell_type": "code",
   "execution_count": 26,
   "id": "c3ad1520",
   "metadata": {},
   "outputs": [],
   "source": [
    "pickle_out = open(\"X_test_embed_first100.pickle\",\"wb\")\n",
    "pickle.dump(X_test_embed[0:20], pickle_out)"
   ]
  },
  {
   "cell_type": "code",
   "execution_count": 32,
   "id": "0edef781",
   "metadata": {},
   "outputs": [],
   "source": [
    "pickle_out = open(\"y_train_first100.pickle\",\"wb\")\n",
    "pickle.dump(y_train[0:100], pickle_out)"
   ]
  },
  {
   "cell_type": "code",
   "execution_count": 33,
   "id": "c23a7e15",
   "metadata": {},
   "outputs": [],
   "source": [
    "pickle_out = open(\"y_test_first100.pickle\",\"wb\")\n",
    "pickle.dump(y_test[0:20], pickle_out)"
   ]
  }
 ],
 "metadata": {
  "kernelspec": {
   "display_name": "Python 3 (ipykernel)",
   "language": "python",
   "name": "python3"
  },
  "language_info": {
   "codemirror_mode": {
    "name": "ipython",
    "version": 3
   },
   "file_extension": ".py",
   "mimetype": "text/x-python",
   "name": "python",
   "nbconvert_exporter": "python",
   "pygments_lexer": "ipython3",
   "version": "3.8.12"
  },
  "toc": {
   "base_numbering": 1,
   "nav_menu": {},
   "number_sections": true,
   "sideBar": true,
   "skip_h1_title": false,
   "title_cell": "Table of Contents",
   "title_sidebar": "Contents",
   "toc_cell": false,
   "toc_position": {},
   "toc_section_display": true,
   "toc_window_display": false
  },
  "varInspector": {
   "cols": {
    "lenName": 16,
    "lenType": 16,
    "lenVar": 40
   },
   "kernels_config": {
    "python": {
     "delete_cmd_postfix": "",
     "delete_cmd_prefix": "del ",
     "library": "var_list.py",
     "varRefreshCmd": "print(var_dic_list())"
    },
    "r": {
     "delete_cmd_postfix": ") ",
     "delete_cmd_prefix": "rm(",
     "library": "var_list.r",
     "varRefreshCmd": "cat(var_dic_list()) "
    }
   },
   "types_to_exclude": [
    "module",
    "function",
    "builtin_function_or_method",
    "instance",
    "_Feature"
   ],
   "window_display": false
  }
 },
 "nbformat": 4,
 "nbformat_minor": 5
}
