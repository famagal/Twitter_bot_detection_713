{
 "cells": [
  {
   "cell_type": "code",
   "execution_count": 2,
   "id": "2706562c",
   "metadata": {},
   "outputs": [],
   "source": [
    "%load_ext autoreload\n",
    "%autoreload 2\n",
    "import pandas as pd\n",
    "import numpy as np\n",
    "from Twitter_bot_detection_713.data_prep import tweet_df_cleaner, user_df_cleaner, get_final_tweet_data"
   ]
  },
  {
   "cell_type": "code",
   "execution_count": 3,
   "id": "0cf25085",
   "metadata": {},
   "outputs": [
    {
     "data": {
      "text/html": [
       "<div>\n",
       "<style scoped>\n",
       "    .dataframe tbody tr th:only-of-type {\n",
       "        vertical-align: middle;\n",
       "    }\n",
       "\n",
       "    .dataframe tbody tr th {\n",
       "        vertical-align: top;\n",
       "    }\n",
       "\n",
       "    .dataframe thead th {\n",
       "        text-align: right;\n",
       "    }\n",
       "</style>\n",
       "<table border=\"1\" class=\"dataframe\">\n",
       "  <thead>\n",
       "    <tr style=\"text-align: right;\">\n",
       "      <th></th>\n",
       "      <th>author_id</th>\n",
       "      <th>id</th>\n",
       "      <th>lang</th>\n",
       "      <th>text</th>\n",
       "      <th>created_at</th>\n",
       "      <th>lag</th>\n",
       "      <th>possibly_sensitive</th>\n",
       "      <th>referenced_tweets</th>\n",
       "      <th>reply_category</th>\n",
       "      <th>like_count</th>\n",
       "      <th>quote_count</th>\n",
       "      <th>reply_count</th>\n",
       "      <th>retweet_count</th>\n",
       "      <th>n_mentions</th>\n",
       "      <th>target</th>\n",
       "    </tr>\n",
       "  </thead>\n",
       "  <tbody>\n",
       "    <tr>\n",
       "      <th>13</th>\n",
       "      <td>1000197919</td>\n",
       "      <td>1261733558474829824</td>\n",
       "      <td>en</td>\n",
       "      <td>@trekonomics Same here. Best pate ever....have...</td>\n",
       "      <td>2020-05-16 19:01:36+00:00</td>\n",
       "      <td>33 days 14:13:11</td>\n",
       "      <td>False</td>\n",
       "      <td>True</td>\n",
       "      <td>Reply_to_other</td>\n",
       "      <td>0</td>\n",
       "      <td>0</td>\n",
       "      <td>0</td>\n",
       "      <td>0</td>\n",
       "      <td>1</td>\n",
       "      <td>human</td>\n",
       "    </tr>\n",
       "    <tr>\n",
       "      <th>14</th>\n",
       "      <td>1000197919</td>\n",
       "      <td>1264695397588406272</td>\n",
       "      <td>en</td>\n",
       "      <td>PCC is a great example....reach out to your el...</td>\n",
       "      <td>2020-05-24 23:10:54+00:00</td>\n",
       "      <td>8 days 04:09:18</td>\n",
       "      <td>False</td>\n",
       "      <td>True</td>\n",
       "      <td>No_reply</td>\n",
       "      <td>0</td>\n",
       "      <td>0</td>\n",
       "      <td>0</td>\n",
       "      <td>0</td>\n",
       "      <td>0</td>\n",
       "      <td>human</td>\n",
       "    </tr>\n",
       "    <tr>\n",
       "      <th>15</th>\n",
       "      <td>1000197919</td>\n",
       "      <td>1271119064941752320</td>\n",
       "      <td>en</td>\n",
       "      <td>both the theorem - and the conclusion. https:/...</td>\n",
       "      <td>2020-06-11 16:36:15+00:00</td>\n",
       "      <td>17 days 17:25:21</td>\n",
       "      <td>False</td>\n",
       "      <td>True</td>\n",
       "      <td>No_reply</td>\n",
       "      <td>0</td>\n",
       "      <td>0</td>\n",
       "      <td>0</td>\n",
       "      <td>0</td>\n",
       "      <td>0</td>\n",
       "      <td>human</td>\n",
       "    </tr>\n",
       "    <tr>\n",
       "      <th>16</th>\n",
       "      <td>1000197919</td>\n",
       "      <td>1273846820133695488</td>\n",
       "      <td>en</td>\n",
       "      <td>@GeneralCattis they're learning from the best!</td>\n",
       "      <td>2020-06-19 05:15:23+00:00</td>\n",
       "      <td>7 days 12:39:08</td>\n",
       "      <td>False</td>\n",
       "      <td>True</td>\n",
       "      <td>Reply_to_other</td>\n",
       "      <td>0</td>\n",
       "      <td>0</td>\n",
       "      <td>0</td>\n",
       "      <td>0</td>\n",
       "      <td>1</td>\n",
       "      <td>human</td>\n",
       "    </tr>\n",
       "    <tr>\n",
       "      <th>17</th>\n",
       "      <td>1000197919</td>\n",
       "      <td>1275472007769976832</td>\n",
       "      <td>en</td>\n",
       "      <td>this thread... https://t.co/OSveBlPctt</td>\n",
       "      <td>2020-06-23 16:53:18+00:00</td>\n",
       "      <td>4 days 11:37:55</td>\n",
       "      <td>False</td>\n",
       "      <td>True</td>\n",
       "      <td>No_reply</td>\n",
       "      <td>0</td>\n",
       "      <td>0</td>\n",
       "      <td>0</td>\n",
       "      <td>0</td>\n",
       "      <td>0</td>\n",
       "      <td>human</td>\n",
       "    </tr>\n",
       "    <tr>\n",
       "      <th>...</th>\n",
       "      <td>...</td>\n",
       "      <td>...</td>\n",
       "      <td>...</td>\n",
       "      <td>...</td>\n",
       "      <td>...</td>\n",
       "      <td>...</td>\n",
       "      <td>...</td>\n",
       "      <td>...</td>\n",
       "      <td>...</td>\n",
       "      <td>...</td>\n",
       "      <td>...</td>\n",
       "      <td>...</td>\n",
       "      <td>...</td>\n",
       "      <td>...</td>\n",
       "      <td>...</td>\n",
       "    </tr>\n",
       "    <tr>\n",
       "      <th>2353366</th>\n",
       "      <td>999977095106367488</td>\n",
       "      <td>1426676881638793216</td>\n",
       "      <td>en</td>\n",
       "      <td>you ruined everything good\\nalways said you we...</td>\n",
       "      <td>2021-08-14 22:47:29+00:00</td>\n",
       "      <td>0 days 13:31:13</td>\n",
       "      <td>False</td>\n",
       "      <td>False</td>\n",
       "      <td>No_reply</td>\n",
       "      <td>0</td>\n",
       "      <td>0</td>\n",
       "      <td>0</td>\n",
       "      <td>0</td>\n",
       "      <td>0</td>\n",
       "      <td>human</td>\n",
       "    </tr>\n",
       "    <tr>\n",
       "      <th>2353367</th>\n",
       "      <td>999977095106367488</td>\n",
       "      <td>1427777414088777728</td>\n",
       "      <td>en</td>\n",
       "      <td>for every question why \\nyou were my because</td>\n",
       "      <td>2021-08-17 23:40:36+00:00</td>\n",
       "      <td>3 days 00:53:07</td>\n",
       "      <td>False</td>\n",
       "      <td>False</td>\n",
       "      <td>No_reply</td>\n",
       "      <td>0</td>\n",
       "      <td>0</td>\n",
       "      <td>0</td>\n",
       "      <td>0</td>\n",
       "      <td>0</td>\n",
       "      <td>human</td>\n",
       "    </tr>\n",
       "    <tr>\n",
       "      <th>2353369</th>\n",
       "      <td>999977095106367488</td>\n",
       "      <td>1431950553173659648</td>\n",
       "      <td>en</td>\n",
       "      <td>song i wish someone wrote for me pt1: https://...</td>\n",
       "      <td>2021-08-29 12:03:10+00:00</td>\n",
       "      <td>8 days 15:31:58</td>\n",
       "      <td>False</td>\n",
       "      <td>False</td>\n",
       "      <td>No_reply</td>\n",
       "      <td>0</td>\n",
       "      <td>0</td>\n",
       "      <td>0</td>\n",
       "      <td>0</td>\n",
       "      <td>0</td>\n",
       "      <td>human</td>\n",
       "    </tr>\n",
       "    <tr>\n",
       "      <th>2353371</th>\n",
       "      <td>999977095106367488</td>\n",
       "      <td>1435588625811611648</td>\n",
       "      <td>en</td>\n",
       "      <td>song i wish someone wrote for me pt2: https://...</td>\n",
       "      <td>2021-09-08 12:59:34+00:00</td>\n",
       "      <td>5 days 03:18:45</td>\n",
       "      <td>False</td>\n",
       "      <td>False</td>\n",
       "      <td>No_reply</td>\n",
       "      <td>0</td>\n",
       "      <td>0</td>\n",
       "      <td>0</td>\n",
       "      <td>0</td>\n",
       "      <td>0</td>\n",
       "      <td>human</td>\n",
       "    </tr>\n",
       "    <tr>\n",
       "      <th>2353372</th>\n",
       "      <td>999977095106367488</td>\n",
       "      <td>1436375696033697835</td>\n",
       "      <td>en</td>\n",
       "      <td>Behavioral research is built into every journe...</td>\n",
       "      <td>2021-09-10 17:07:07+00:00</td>\n",
       "      <td>2 days 04:07:33</td>\n",
       "      <td>False</td>\n",
       "      <td>False</td>\n",
       "      <td>No_reply</td>\n",
       "      <td>0</td>\n",
       "      <td>0</td>\n",
       "      <td>0</td>\n",
       "      <td>0</td>\n",
       "      <td>0</td>\n",
       "      <td>human</td>\n",
       "    </tr>\n",
       "  </tbody>\n",
       "</table>\n",
       "<p>1612980 rows × 15 columns</p>\n",
       "</div>"
      ],
      "text/plain": [
       "                  author_id                   id lang  \\\n",
       "13               1000197919  1261733558474829824   en   \n",
       "14               1000197919  1264695397588406272   en   \n",
       "15               1000197919  1271119064941752320   en   \n",
       "16               1000197919  1273846820133695488   en   \n",
       "17               1000197919  1275472007769976832   en   \n",
       "...                     ...                  ...  ...   \n",
       "2353366  999977095106367488  1426676881638793216   en   \n",
       "2353367  999977095106367488  1427777414088777728   en   \n",
       "2353369  999977095106367488  1431950553173659648   en   \n",
       "2353371  999977095106367488  1435588625811611648   en   \n",
       "2353372  999977095106367488  1436375696033697835   en   \n",
       "\n",
       "                                                      text  \\\n",
       "13       @trekonomics Same here. Best pate ever....have...   \n",
       "14       PCC is a great example....reach out to your el...   \n",
       "15       both the theorem - and the conclusion. https:/...   \n",
       "16          @GeneralCattis they're learning from the best!   \n",
       "17                  this thread... https://t.co/OSveBlPctt   \n",
       "...                                                    ...   \n",
       "2353366  you ruined everything good\\nalways said you we...   \n",
       "2353367       for every question why \\nyou were my because   \n",
       "2353369  song i wish someone wrote for me pt1: https://...   \n",
       "2353371  song i wish someone wrote for me pt2: https://...   \n",
       "2353372  Behavioral research is built into every journe...   \n",
       "\n",
       "                       created_at              lag  possibly_sensitive  \\\n",
       "13      2020-05-16 19:01:36+00:00 33 days 14:13:11               False   \n",
       "14      2020-05-24 23:10:54+00:00  8 days 04:09:18               False   \n",
       "15      2020-06-11 16:36:15+00:00 17 days 17:25:21               False   \n",
       "16      2020-06-19 05:15:23+00:00  7 days 12:39:08               False   \n",
       "17      2020-06-23 16:53:18+00:00  4 days 11:37:55               False   \n",
       "...                           ...              ...                 ...   \n",
       "2353366 2021-08-14 22:47:29+00:00  0 days 13:31:13               False   \n",
       "2353367 2021-08-17 23:40:36+00:00  3 days 00:53:07               False   \n",
       "2353369 2021-08-29 12:03:10+00:00  8 days 15:31:58               False   \n",
       "2353371 2021-09-08 12:59:34+00:00  5 days 03:18:45               False   \n",
       "2353372 2021-09-10 17:07:07+00:00  2 days 04:07:33               False   \n",
       "\n",
       "         referenced_tweets  reply_category  like_count  quote_count  \\\n",
       "13                    True  Reply_to_other           0            0   \n",
       "14                    True        No_reply           0            0   \n",
       "15                    True        No_reply           0            0   \n",
       "16                    True  Reply_to_other           0            0   \n",
       "17                    True        No_reply           0            0   \n",
       "...                    ...             ...         ...          ...   \n",
       "2353366              False        No_reply           0            0   \n",
       "2353367              False        No_reply           0            0   \n",
       "2353369              False        No_reply           0            0   \n",
       "2353371              False        No_reply           0            0   \n",
       "2353372              False        No_reply           0            0   \n",
       "\n",
       "         reply_count  retweet_count  n_mentions target  \n",
       "13                 0              0           1  human  \n",
       "14                 0              0           0  human  \n",
       "15                 0              0           0  human  \n",
       "16                 0              0           1  human  \n",
       "17                 0              0           0  human  \n",
       "...              ...            ...         ...    ...  \n",
       "2353366            0              0           0  human  \n",
       "2353367            0              0           0  human  \n",
       "2353369            0              0           0  human  \n",
       "2353371            0              0           0  human  \n",
       "2353372            0              0           0  human  \n",
       "\n",
       "[1612980 rows x 15 columns]"
      ]
     },
     "execution_count": 3,
     "metadata": {},
     "output_type": "execute_result"
    }
   ],
   "source": [
    "df = get_final_tweet_data(en=True)\n",
    "df"
   ]
  },
  {
   "cell_type": "code",
   "execution_count": 4,
   "id": "4cf4ed0a",
   "metadata": {},
   "outputs": [],
   "source": [
    "import matplotlib.pyplot as plt\n",
    "import seaborn as sns"
   ]
  },
  {
   "cell_type": "code",
   "execution_count": 5,
   "id": "c1434527",
   "metadata": {},
   "outputs": [
    {
     "data": {
      "text/plain": [
       "No_reply          1043778\n",
       "Reply_to_other     517530\n",
       "Self_reply          51672\n",
       "Name: reply_category, dtype: int64"
      ]
     },
     "execution_count": 5,
     "metadata": {},
     "output_type": "execute_result"
    }
   ],
   "source": [
    "df['reply_category'].value_counts()"
   ]
  },
  {
   "cell_type": "markdown",
   "id": "3b60b3e3",
   "metadata": {},
   "source": [
    "## Looking for Duplicates"
   ]
  },
  {
   "cell_type": "code",
   "execution_count": 6,
   "id": "520730c8",
   "metadata": {},
   "outputs": [
    {
     "data": {
      "text/plain": [
       "0"
      ]
     },
     "execution_count": 6,
     "metadata": {},
     "output_type": "execute_result"
    }
   ],
   "source": [
    "df.duplicated().sum()"
   ]
  },
  {
   "cell_type": "markdown",
   "id": "3283d4b1",
   "metadata": {},
   "source": [
    "## Missing Data"
   ]
  },
  {
   "cell_type": "code",
   "execution_count": 7,
   "id": "945e35c4",
   "metadata": {},
   "outputs": [
    {
     "data": {
      "text/plain": [
       "author_id                 0\n",
       "id                        0\n",
       "lang                      0\n",
       "text                      0\n",
       "created_at                0\n",
       "lag                   20005\n",
       "possibly_sensitive        0\n",
       "referenced_tweets         0\n",
       "reply_category            0\n",
       "like_count                0\n",
       "quote_count               0\n",
       "reply_count               0\n",
       "retweet_count             0\n",
       "n_mentions                0\n",
       "target                    0\n",
       "dtype: int64"
      ]
     },
     "execution_count": 7,
     "metadata": {},
     "output_type": "execute_result"
    }
   ],
   "source": [
    "df.isnull().sum()"
   ]
  },
  {
   "cell_type": "code",
   "execution_count": 8,
   "id": "a2164cda",
   "metadata": {},
   "outputs": [
    {
     "data": {
      "text/plain": [
       "author_id             0.000000\n",
       "id                    0.000000\n",
       "lang                  0.000000\n",
       "text                  0.000000\n",
       "created_at            0.000000\n",
       "lag                   0.012403\n",
       "possibly_sensitive    0.000000\n",
       "referenced_tweets     0.000000\n",
       "reply_category        0.000000\n",
       "like_count            0.000000\n",
       "quote_count           0.000000\n",
       "reply_count           0.000000\n",
       "retweet_count         0.000000\n",
       "n_mentions            0.000000\n",
       "target                0.000000\n",
       "dtype: float64"
      ]
     },
     "execution_count": 8,
     "metadata": {},
     "output_type": "execute_result"
    }
   ],
   "source": [
    "df.isnull().sum()/len(df)"
   ]
  },
  {
   "cell_type": "markdown",
   "id": "5dae3410",
   "metadata": {},
   "source": [
    "For 'lag' maybe a SimpleImputer with 0?"
   ]
  },
  {
   "cell_type": "markdown",
   "id": "2b4e3acb",
   "metadata": {},
   "source": [
    "## Outliers and Looking at Graphs"
   ]
  },
  {
   "cell_type": "code",
   "execution_count": 9,
   "id": "209002d8",
   "metadata": {},
   "outputs": [
    {
     "data": {
      "text/html": [
       "<div>\n",
       "<style scoped>\n",
       "    .dataframe tbody tr th:only-of-type {\n",
       "        vertical-align: middle;\n",
       "    }\n",
       "\n",
       "    .dataframe tbody tr th {\n",
       "        vertical-align: top;\n",
       "    }\n",
       "\n",
       "    .dataframe thead th {\n",
       "        text-align: right;\n",
       "    }\n",
       "</style>\n",
       "<table border=\"1\" class=\"dataframe\">\n",
       "  <thead>\n",
       "    <tr style=\"text-align: right;\">\n",
       "      <th></th>\n",
       "      <th>like_count</th>\n",
       "      <th>quote_count</th>\n",
       "      <th>reply_count</th>\n",
       "      <th>retweet_count</th>\n",
       "      <th>n_mentions</th>\n",
       "    </tr>\n",
       "  </thead>\n",
       "  <tbody>\n",
       "    <tr>\n",
       "      <th>count</th>\n",
       "      <td>1.612980e+06</td>\n",
       "      <td>1.612980e+06</td>\n",
       "      <td>1.612980e+06</td>\n",
       "      <td>1.612980e+06</td>\n",
       "      <td>1.612980e+06</td>\n",
       "    </tr>\n",
       "    <tr>\n",
       "      <th>mean</th>\n",
       "      <td>6.903973e+02</td>\n",
       "      <td>1.221628e+01</td>\n",
       "      <td>2.206117e+01</td>\n",
       "      <td>9.143618e+01</td>\n",
       "      <td>7.615587e-01</td>\n",
       "    </tr>\n",
       "    <tr>\n",
       "      <th>std</th>\n",
       "      <td>1.023481e+04</td>\n",
       "      <td>4.498436e+02</td>\n",
       "      <td>6.113220e+02</td>\n",
       "      <td>1.973959e+03</td>\n",
       "      <td>1.502106e+00</td>\n",
       "    </tr>\n",
       "    <tr>\n",
       "      <th>min</th>\n",
       "      <td>0.000000e+00</td>\n",
       "      <td>0.000000e+00</td>\n",
       "      <td>0.000000e+00</td>\n",
       "      <td>0.000000e+00</td>\n",
       "      <td>0.000000e+00</td>\n",
       "    </tr>\n",
       "    <tr>\n",
       "      <th>25%</th>\n",
       "      <td>0.000000e+00</td>\n",
       "      <td>0.000000e+00</td>\n",
       "      <td>0.000000e+00</td>\n",
       "      <td>0.000000e+00</td>\n",
       "      <td>0.000000e+00</td>\n",
       "    </tr>\n",
       "    <tr>\n",
       "      <th>50%</th>\n",
       "      <td>1.000000e+00</td>\n",
       "      <td>0.000000e+00</td>\n",
       "      <td>0.000000e+00</td>\n",
       "      <td>0.000000e+00</td>\n",
       "      <td>0.000000e+00</td>\n",
       "    </tr>\n",
       "    <tr>\n",
       "      <th>75%</th>\n",
       "      <td>7.000000e+00</td>\n",
       "      <td>0.000000e+00</td>\n",
       "      <td>1.000000e+00</td>\n",
       "      <td>1.000000e+00</td>\n",
       "      <td>1.000000e+00</td>\n",
       "    </tr>\n",
       "    <tr>\n",
       "      <th>max</th>\n",
       "      <td>2.656066e+06</td>\n",
       "      <td>2.112120e+05</td>\n",
       "      <td>2.013780e+05</td>\n",
       "      <td>7.445780e+05</td>\n",
       "      <td>5.000000e+01</td>\n",
       "    </tr>\n",
       "  </tbody>\n",
       "</table>\n",
       "</div>"
      ],
      "text/plain": [
       "         like_count   quote_count   reply_count  retweet_count    n_mentions\n",
       "count  1.612980e+06  1.612980e+06  1.612980e+06   1.612980e+06  1.612980e+06\n",
       "mean   6.903973e+02  1.221628e+01  2.206117e+01   9.143618e+01  7.615587e-01\n",
       "std    1.023481e+04  4.498436e+02  6.113220e+02   1.973959e+03  1.502106e+00\n",
       "min    0.000000e+00  0.000000e+00  0.000000e+00   0.000000e+00  0.000000e+00\n",
       "25%    0.000000e+00  0.000000e+00  0.000000e+00   0.000000e+00  0.000000e+00\n",
       "50%    1.000000e+00  0.000000e+00  0.000000e+00   0.000000e+00  0.000000e+00\n",
       "75%    7.000000e+00  0.000000e+00  1.000000e+00   1.000000e+00  1.000000e+00\n",
       "max    2.656066e+06  2.112120e+05  2.013780e+05   7.445780e+05  5.000000e+01"
      ]
     },
     "execution_count": 9,
     "metadata": {},
     "output_type": "execute_result"
    }
   ],
   "source": [
    "df[['like_count', 'quote_count', 'reply_count', 'retweet_count', 'n_mentions']].describe()"
   ]
  },
  {
   "cell_type": "code",
   "execution_count": 10,
   "id": "67ca125b",
   "metadata": {},
   "outputs": [
    {
     "data": {
      "text/html": [
       "<div>\n",
       "<style scoped>\n",
       "    .dataframe tbody tr th:only-of-type {\n",
       "        vertical-align: middle;\n",
       "    }\n",
       "\n",
       "    .dataframe tbody tr th {\n",
       "        vertical-align: top;\n",
       "    }\n",
       "\n",
       "    .dataframe thead th {\n",
       "        text-align: right;\n",
       "    }\n",
       "</style>\n",
       "<table border=\"1\" class=\"dataframe\">\n",
       "  <thead>\n",
       "    <tr style=\"text-align: right;\">\n",
       "      <th></th>\n",
       "      <th>author_id</th>\n",
       "      <th>possibly_sensitive</th>\n",
       "      <th>referenced_tweets</th>\n",
       "      <th>like_count</th>\n",
       "      <th>quote_count</th>\n",
       "      <th>reply_count</th>\n",
       "      <th>retweet_count</th>\n",
       "      <th>n_mentions</th>\n",
       "    </tr>\n",
       "  </thead>\n",
       "  <tbody>\n",
       "    <tr>\n",
       "      <th>author_id</th>\n",
       "      <td>1.000000</td>\n",
       "      <td>-0.007272</td>\n",
       "      <td>-0.019425</td>\n",
       "      <td>-0.019090</td>\n",
       "      <td>-0.008625</td>\n",
       "      <td>-0.011415</td>\n",
       "      <td>-0.013648</td>\n",
       "      <td>-0.019233</td>\n",
       "    </tr>\n",
       "    <tr>\n",
       "      <th>possibly_sensitive</th>\n",
       "      <td>-0.007272</td>\n",
       "      <td>1.000000</td>\n",
       "      <td>-0.060048</td>\n",
       "      <td>-0.000223</td>\n",
       "      <td>0.000291</td>\n",
       "      <td>0.000083</td>\n",
       "      <td>0.000005</td>\n",
       "      <td>-0.011946</td>\n",
       "    </tr>\n",
       "    <tr>\n",
       "      <th>referenced_tweets</th>\n",
       "      <td>-0.019425</td>\n",
       "      <td>-0.060048</td>\n",
       "      <td>1.000000</td>\n",
       "      <td>-0.038007</td>\n",
       "      <td>-0.017314</td>\n",
       "      <td>-0.021420</td>\n",
       "      <td>-0.025439</td>\n",
       "      <td>0.266079</td>\n",
       "    </tr>\n",
       "    <tr>\n",
       "      <th>like_count</th>\n",
       "      <td>-0.019090</td>\n",
       "      <td>-0.000223</td>\n",
       "      <td>-0.038007</td>\n",
       "      <td>1.000000</td>\n",
       "      <td>0.696719</td>\n",
       "      <td>0.632435</td>\n",
       "      <td>0.829364</td>\n",
       "      <td>-0.015856</td>\n",
       "    </tr>\n",
       "    <tr>\n",
       "      <th>quote_count</th>\n",
       "      <td>-0.008625</td>\n",
       "      <td>0.000291</td>\n",
       "      <td>-0.017314</td>\n",
       "      <td>0.696719</td>\n",
       "      <td>1.000000</td>\n",
       "      <td>0.653810</td>\n",
       "      <td>0.714089</td>\n",
       "      <td>-0.007163</td>\n",
       "    </tr>\n",
       "    <tr>\n",
       "      <th>reply_count</th>\n",
       "      <td>-0.011415</td>\n",
       "      <td>0.000083</td>\n",
       "      <td>-0.021420</td>\n",
       "      <td>0.632435</td>\n",
       "      <td>0.653810</td>\n",
       "      <td>1.000000</td>\n",
       "      <td>0.602159</td>\n",
       "      <td>-0.007416</td>\n",
       "    </tr>\n",
       "    <tr>\n",
       "      <th>retweet_count</th>\n",
       "      <td>-0.013648</td>\n",
       "      <td>0.000005</td>\n",
       "      <td>-0.025439</td>\n",
       "      <td>0.829364</td>\n",
       "      <td>0.714089</td>\n",
       "      <td>0.602159</td>\n",
       "      <td>1.000000</td>\n",
       "      <td>-0.010154</td>\n",
       "    </tr>\n",
       "    <tr>\n",
       "      <th>n_mentions</th>\n",
       "      <td>-0.019233</td>\n",
       "      <td>-0.011946</td>\n",
       "      <td>0.266079</td>\n",
       "      <td>-0.015856</td>\n",
       "      <td>-0.007163</td>\n",
       "      <td>-0.007416</td>\n",
       "      <td>-0.010154</td>\n",
       "      <td>1.000000</td>\n",
       "    </tr>\n",
       "  </tbody>\n",
       "</table>\n",
       "</div>"
      ],
      "text/plain": [
       "                    author_id  possibly_sensitive  referenced_tweets  \\\n",
       "author_id            1.000000           -0.007272          -0.019425   \n",
       "possibly_sensitive  -0.007272            1.000000          -0.060048   \n",
       "referenced_tweets   -0.019425           -0.060048           1.000000   \n",
       "like_count          -0.019090           -0.000223          -0.038007   \n",
       "quote_count         -0.008625            0.000291          -0.017314   \n",
       "reply_count         -0.011415            0.000083          -0.021420   \n",
       "retweet_count       -0.013648            0.000005          -0.025439   \n",
       "n_mentions          -0.019233           -0.011946           0.266079   \n",
       "\n",
       "                    like_count  quote_count  reply_count  retweet_count  \\\n",
       "author_id            -0.019090    -0.008625    -0.011415      -0.013648   \n",
       "possibly_sensitive   -0.000223     0.000291     0.000083       0.000005   \n",
       "referenced_tweets    -0.038007    -0.017314    -0.021420      -0.025439   \n",
       "like_count            1.000000     0.696719     0.632435       0.829364   \n",
       "quote_count           0.696719     1.000000     0.653810       0.714089   \n",
       "reply_count           0.632435     0.653810     1.000000       0.602159   \n",
       "retweet_count         0.829364     0.714089     0.602159       1.000000   \n",
       "n_mentions           -0.015856    -0.007163    -0.007416      -0.010154   \n",
       "\n",
       "                    n_mentions  \n",
       "author_id            -0.019233  \n",
       "possibly_sensitive   -0.011946  \n",
       "referenced_tweets     0.266079  \n",
       "like_count           -0.015856  \n",
       "quote_count          -0.007163  \n",
       "reply_count          -0.007416  \n",
       "retweet_count        -0.010154  \n",
       "n_mentions            1.000000  "
      ]
     },
     "execution_count": 10,
     "metadata": {},
     "output_type": "execute_result"
    }
   ],
   "source": [
    "df.corr()"
   ]
  },
  {
   "cell_type": "markdown",
   "id": "bb26951f",
   "metadata": {},
   "source": [
    "### N_mentions"
   ]
  },
  {
   "cell_type": "code",
   "execution_count": 11,
   "id": "58075b7f",
   "metadata": {},
   "outputs": [
    {
     "data": {
      "text/plain": [
       "<AxesSubplot:xlabel='n_mentions'>"
      ]
     },
     "execution_count": 11,
     "metadata": {},
     "output_type": "execute_result"
    },
    {
     "data": {
      "image/png": "[encoded data removed]",
      "text/plain": [
       "<Figure size 432x288 with 1 Axes>"
      ]
     },
     "metadata": {
      "needs_background": "light"
     },
     "output_type": "display_data"
    }
   ],
   "source": [
    "sns.boxplot(data=df, x='n_mentions')"
   ]
  },
  {
   "cell_type": "code",
   "execution_count": 12,
   "id": "90596b1c",
   "metadata": {},
   "outputs": [
    {
     "data": {
      "text/plain": [
       "(1519146, 15)"
      ]
     },
     "execution_count": 12,
     "metadata": {},
     "output_type": "execute_result"
    }
   ],
   "source": [
    "df[df['n_mentions'] < 3].shape"
   ]
  },
  {
   "cell_type": "markdown",
   "id": "ae0798a8",
   "metadata": {},
   "source": [
    "### like_count"
   ]
  },
  {
   "cell_type": "code",
   "execution_count": 13,
   "id": "ade4659c",
   "metadata": {},
   "outputs": [
    {
     "data": {
      "text/plain": [
       "<AxesSubplot:xlabel='like_count'>"
      ]
     },
     "execution_count": 13,
     "metadata": {},
     "output_type": "execute_result"
    },
    {
     "data": {
      "image/png": "[encoded data removed]",
      "text/plain": [
       "<Figure size 432x288 with 1 Axes>"
      ]
     },
     "metadata": {
      "needs_background": "light"
     },
     "output_type": "display_data"
    }
   ],
   "source": [
    "sns.boxplot(data=df, x='like_count')"
   ]
  },
  {
   "cell_type": "code",
   "execution_count": 14,
   "id": "0bc39f28",
   "metadata": {},
   "outputs": [
    {
     "data": {
      "text/plain": [
       "[<matplotlib.lines.Line2D at 0x7f619d0cb940>]"
      ]
     },
     "execution_count": 14,
     "metadata": {},
     "output_type": "execute_result"
    },
    {
     "data": {
      "image/png": "[encoded data removed]",
      "text/plain": [
       "<Figure size 432x288 with 1 Axes>"
      ]
     },
     "metadata": {
      "needs_background": "light"
     },
     "output_type": "display_data"
    }
   ],
   "source": [
    "plt.plot(df['like_count'])"
   ]
  },
  {
   "cell_type": "markdown",
   "id": "a1952cf8",
   "metadata": {},
   "source": [
    "### quote_count"
   ]
  },
  {
   "cell_type": "code",
   "execution_count": 15,
   "id": "26acbc62",
   "metadata": {},
   "outputs": [
    {
     "data": {
      "text/plain": [
       "<AxesSubplot:xlabel='quote_count'>"
      ]
     },
     "execution_count": 15,
     "metadata": {},
     "output_type": "execute_result"
    },
    {
     "data": {
      "image/png": "[encoded data removed]",
      "text/plain": [
       "<Figure size 432x288 with 1 Axes>"
      ]
     },
     "metadata": {
      "needs_background": "light"
     },
     "output_type": "display_data"
    }
   ],
   "source": [
    "sns.boxplot(data=df, x='quote_count')"
   ]
  },
  {
   "cell_type": "code",
   "execution_count": 16,
   "id": "2a1057cc",
   "metadata": {},
   "outputs": [
    {
     "data": {
      "text/plain": [
       "2964"
      ]
     },
     "execution_count": 16,
     "metadata": {},
     "output_type": "execute_result"
    }
   ],
   "source": [
    "df['quote_count'].nunique()"
   ]
  },
  {
   "cell_type": "markdown",
   "id": "c1ef14c7",
   "metadata": {},
   "source": [
    "### reply_count"
   ]
  },
  {
   "cell_type": "code",
   "execution_count": 17,
   "id": "f151a0ce",
   "metadata": {},
   "outputs": [
    {
     "data": {
      "text/plain": [
       "<AxesSubplot:xlabel='reply_count'>"
      ]
     },
     "execution_count": 17,
     "metadata": {},
     "output_type": "execute_result"
    },
    {
     "data": {
      "image/png": "[encoded data removed]",
      "text/plain": [
       "<Figure size 432x288 with 1 Axes>"
      ]
     },
     "metadata": {
      "needs_background": "light"
     },
     "output_type": "display_data"
    }
   ],
   "source": [
    "sns.boxplot(data=df, x='reply_count')"
   ]
  },
  {
   "cell_type": "markdown",
   "id": "2b1651dc",
   "metadata": {},
   "source": [
    "### retweet_count"
   ]
  },
  {
   "cell_type": "code",
   "execution_count": 18,
   "id": "add2c6c8",
   "metadata": {},
   "outputs": [
    {
     "data": {
      "text/plain": [
       "<AxesSubplot:xlabel='retweet_count'>"
      ]
     },
     "execution_count": 18,
     "metadata": {},
     "output_type": "execute_result"
    },
    {
     "data": {
      "image/png": "[encoded data removed]",
      "text/plain": [
       "<Figure size 432x288 with 1 Axes>"
      ]
     },
     "metadata": {
      "needs_background": "light"
     },
     "output_type": "display_data"
    }
   ],
   "source": [
    "sns.boxplot(data=df, x='retweet_count')"
   ]
  },
  {
   "cell_type": "code",
   "execution_count": 19,
   "id": "e85c88cd",
   "metadata": {},
   "outputs": [
    {
     "data": {
      "text/plain": [
       "<AxesSubplot:xlabel='reply_category', ylabel='reply_count'>"
      ]
     },
     "execution_count": 19,
     "metadata": {},
     "output_type": "execute_result"
    },
    {
     "data": {
      "image/png": "[encoded data removed]",
      "text/plain": [
       "<Figure size 432x288 with 4 Axes>"
      ]
     },
     "metadata": {
      "needs_background": "light"
     },
     "output_type": "display_data"
    }
   ],
   "source": [
    "plt.subplot(2,2,1)\n",
    "sns.boxplot(data=df, x='reply_category', y='like_count')\n",
    "plt.subplot(2,2,2)\n",
    "sns.boxplot(data=df, x='reply_category', y='quote_count')\n",
    "plt.subplot(2,2,3)\n",
    "sns.boxplot(data=df, x='reply_category', y='retweet_count')\n",
    "plt.subplot(2,2,4)\n",
    "sns.boxplot(data=df, x='reply_category', y='reply_count')"
   ]
  },
  {
   "cell_type": "markdown",
   "id": "fcc8e2a6",
   "metadata": {},
   "source": [
    "## Robust scaler"
   ]
  },
  {
   "cell_type": "code",
   "execution_count": 20,
   "id": "da5868bd",
   "metadata": {},
   "outputs": [],
   "source": [
    "from sklearn.preprocessing import RobustScaler"
   ]
  },
  {
   "cell_type": "code",
   "execution_count": 21,
   "id": "e27c2723",
   "metadata": {},
   "outputs": [],
   "source": [
    "r_scaler = RobustScaler()"
   ]
  },
  {
   "cell_type": "code",
   "execution_count": 22,
   "id": "a6e55204",
   "metadata": {},
   "outputs": [],
   "source": [
    "num_features = df[['like_count', 'quote_count', 'reply_count', 'retweet_count', 'n_mentions']]\n",
    "r_scaler.fit(num_features)\n",
    "df[['like_count', 'quote_count', 'reply_count', 'retweet_count', 'n_mentions']] = r_scaler.transform(num_features)"
   ]
  },
  {
   "cell_type": "code",
   "execution_count": 23,
   "id": "e471160f",
   "metadata": {},
   "outputs": [
    {
     "data": {
      "text/html": [
       "<div>\n",
       "<style scoped>\n",
       "    .dataframe tbody tr th:only-of-type {\n",
       "        vertical-align: middle;\n",
       "    }\n",
       "\n",
       "    .dataframe tbody tr th {\n",
       "        vertical-align: top;\n",
       "    }\n",
       "\n",
       "    .dataframe thead th {\n",
       "        text-align: right;\n",
       "    }\n",
       "</style>\n",
       "<table border=\"1\" class=\"dataframe\">\n",
       "  <thead>\n",
       "    <tr style=\"text-align: right;\">\n",
       "      <th></th>\n",
       "      <th>author_id</th>\n",
       "      <th>id</th>\n",
       "      <th>lang</th>\n",
       "      <th>text</th>\n",
       "      <th>created_at</th>\n",
       "      <th>lag</th>\n",
       "      <th>possibly_sensitive</th>\n",
       "      <th>referenced_tweets</th>\n",
       "      <th>reply_category</th>\n",
       "      <th>like_count</th>\n",
       "      <th>quote_count</th>\n",
       "      <th>reply_count</th>\n",
       "      <th>retweet_count</th>\n",
       "      <th>n_mentions</th>\n",
       "      <th>target</th>\n",
       "    </tr>\n",
       "  </thead>\n",
       "  <tbody>\n",
       "    <tr>\n",
       "      <th>13</th>\n",
       "      <td>1000197919</td>\n",
       "      <td>1261733558474829824</td>\n",
       "      <td>en</td>\n",
       "      <td>@trekonomics Same here. Best pate ever....have...</td>\n",
       "      <td>2020-05-16 19:01:36+00:00</td>\n",
       "      <td>33 days 14:13:11</td>\n",
       "      <td>False</td>\n",
       "      <td>True</td>\n",
       "      <td>Reply_to_other</td>\n",
       "      <td>-0.142857</td>\n",
       "      <td>0.0</td>\n",
       "      <td>0.0</td>\n",
       "      <td>0.0</td>\n",
       "      <td>1.0</td>\n",
       "      <td>human</td>\n",
       "    </tr>\n",
       "    <tr>\n",
       "      <th>14</th>\n",
       "      <td>1000197919</td>\n",
       "      <td>1264695397588406272</td>\n",
       "      <td>en</td>\n",
       "      <td>PCC is a great example....reach out to your el...</td>\n",
       "      <td>2020-05-24 23:10:54+00:00</td>\n",
       "      <td>8 days 04:09:18</td>\n",
       "      <td>False</td>\n",
       "      <td>True</td>\n",
       "      <td>No_reply</td>\n",
       "      <td>-0.142857</td>\n",
       "      <td>0.0</td>\n",
       "      <td>0.0</td>\n",
       "      <td>0.0</td>\n",
       "      <td>0.0</td>\n",
       "      <td>human</td>\n",
       "    </tr>\n",
       "    <tr>\n",
       "      <th>15</th>\n",
       "      <td>1000197919</td>\n",
       "      <td>1271119064941752320</td>\n",
       "      <td>en</td>\n",
       "      <td>both the theorem - and the conclusion. https:/...</td>\n",
       "      <td>2020-06-11 16:36:15+00:00</td>\n",
       "      <td>17 days 17:25:21</td>\n",
       "      <td>False</td>\n",
       "      <td>True</td>\n",
       "      <td>No_reply</td>\n",
       "      <td>-0.142857</td>\n",
       "      <td>0.0</td>\n",
       "      <td>0.0</td>\n",
       "      <td>0.0</td>\n",
       "      <td>0.0</td>\n",
       "      <td>human</td>\n",
       "    </tr>\n",
       "    <tr>\n",
       "      <th>16</th>\n",
       "      <td>1000197919</td>\n",
       "      <td>1273846820133695488</td>\n",
       "      <td>en</td>\n",
       "      <td>@GeneralCattis they're learning from the best!</td>\n",
       "      <td>2020-06-19 05:15:23+00:00</td>\n",
       "      <td>7 days 12:39:08</td>\n",
       "      <td>False</td>\n",
       "      <td>True</td>\n",
       "      <td>Reply_to_other</td>\n",
       "      <td>-0.142857</td>\n",
       "      <td>0.0</td>\n",
       "      <td>0.0</td>\n",
       "      <td>0.0</td>\n",
       "      <td>1.0</td>\n",
       "      <td>human</td>\n",
       "    </tr>\n",
       "    <tr>\n",
       "      <th>17</th>\n",
       "      <td>1000197919</td>\n",
       "      <td>1275472007769976832</td>\n",
       "      <td>en</td>\n",
       "      <td>this thread... https://t.co/OSveBlPctt</td>\n",
       "      <td>2020-06-23 16:53:18+00:00</td>\n",
       "      <td>4 days 11:37:55</td>\n",
       "      <td>False</td>\n",
       "      <td>True</td>\n",
       "      <td>No_reply</td>\n",
       "      <td>-0.142857</td>\n",
       "      <td>0.0</td>\n",
       "      <td>0.0</td>\n",
       "      <td>0.0</td>\n",
       "      <td>0.0</td>\n",
       "      <td>human</td>\n",
       "    </tr>\n",
       "  </tbody>\n",
       "</table>\n",
       "</div>"
      ],
      "text/plain": [
       "     author_id                   id lang  \\\n",
       "13  1000197919  1261733558474829824   en   \n",
       "14  1000197919  1264695397588406272   en   \n",
       "15  1000197919  1271119064941752320   en   \n",
       "16  1000197919  1273846820133695488   en   \n",
       "17  1000197919  1275472007769976832   en   \n",
       "\n",
       "                                                 text  \\\n",
       "13  @trekonomics Same here. Best pate ever....have...   \n",
       "14  PCC is a great example....reach out to your el...   \n",
       "15  both the theorem - and the conclusion. https:/...   \n",
       "16     @GeneralCattis they're learning from the best!   \n",
       "17             this thread... https://t.co/OSveBlPctt   \n",
       "\n",
       "                  created_at              lag  possibly_sensitive  \\\n",
       "13 2020-05-16 19:01:36+00:00 33 days 14:13:11               False   \n",
       "14 2020-05-24 23:10:54+00:00  8 days 04:09:18               False   \n",
       "15 2020-06-11 16:36:15+00:00 17 days 17:25:21               False   \n",
       "16 2020-06-19 05:15:23+00:00  7 days 12:39:08               False   \n",
       "17 2020-06-23 16:53:18+00:00  4 days 11:37:55               False   \n",
       "\n",
       "    referenced_tweets  reply_category  like_count  quote_count  reply_count  \\\n",
       "13               True  Reply_to_other   -0.142857          0.0          0.0   \n",
       "14               True        No_reply   -0.142857          0.0          0.0   \n",
       "15               True        No_reply   -0.142857          0.0          0.0   \n",
       "16               True  Reply_to_other   -0.142857          0.0          0.0   \n",
       "17               True        No_reply   -0.142857          0.0          0.0   \n",
       "\n",
       "    retweet_count  n_mentions target  \n",
       "13            0.0         1.0  human  \n",
       "14            0.0         0.0  human  \n",
       "15            0.0         0.0  human  \n",
       "16            0.0         1.0  human  \n",
       "17            0.0         0.0  human  "
      ]
     },
     "execution_count": 23,
     "metadata": {},
     "output_type": "execute_result"
    }
   ],
   "source": [
    "df.head()"
   ]
  },
  {
   "cell_type": "markdown",
   "id": "504c23a7",
   "metadata": {},
   "source": []
  },
  {
   "cell_type": "code",
   "execution_count": 24,
   "id": "185e58ec",
   "metadata": {},
   "outputs": [],
   "source": [
    "from sklearn.preprocessing import OneHotEncoder"
   ]
  },
  {
   "cell_type": "code",
   "execution_count": 25,
   "id": "03d30ab6",
   "metadata": {},
   "outputs": [
    {
     "data": {
      "text/plain": [
       "False    1601716\n",
       "True       11264\n",
       "Name: possibly_sensitive, dtype: int64"
      ]
     },
     "execution_count": 25,
     "metadata": {},
     "output_type": "execute_result"
    }
   ],
   "source": [
    "df.possibly_sensitive.value_counts()"
   ]
  },
  {
   "cell_type": "code",
   "execution_count": 26,
   "id": "40e1d4f6",
   "metadata": {},
   "outputs": [
    {
     "data": {
      "text/plain": [
       "False    912802\n",
       "True     700178\n",
       "Name: referenced_tweets, dtype: int64"
      ]
     },
     "execution_count": 26,
     "metadata": {},
     "output_type": "execute_result"
    }
   ],
   "source": [
    "df.referenced_tweets.value_counts()"
   ]
  },
  {
   "cell_type": "markdown",
   "id": "2e2e6ae9",
   "metadata": {},
   "source": [
    "## Relabeling bool and target (1 & 0 )"
   ]
  },
  {
   "cell_type": "code",
   "execution_count": 27,
   "id": "6072428b",
   "metadata": {},
   "outputs": [],
   "source": [
    "df['possibly_sensitive'] = df['possibly_sensitive'].map(lambda x: 1 if x == True else 0)"
   ]
  },
  {
   "cell_type": "code",
   "execution_count": 28,
   "id": "8ab452e3",
   "metadata": {},
   "outputs": [],
   "source": [
    "df['referenced_tweets'] = df['referenced_tweets'].map(lambda x: 1 if x == True else 0)"
   ]
  },
  {
   "cell_type": "code",
   "execution_count": 29,
   "id": "12212a4d",
   "metadata": {},
   "outputs": [],
   "source": [
    "df['target'] = df['target'].map(lambda x: 1 if x == 'bot' else 0)"
   ]
  },
  {
   "cell_type": "markdown",
   "id": "f28e5b51",
   "metadata": {},
   "source": [
    "## One Hot Encoder"
   ]
  },
  {
   "cell_type": "code",
   "execution_count": 30,
   "id": "64f7ebb1",
   "metadata": {},
   "outputs": [
    {
     "data": {
      "text/plain": [
       "No_reply          1043778\n",
       "Reply_to_other     517530\n",
       "Self_reply          51672\n",
       "Name: reply_category, dtype: int64"
      ]
     },
     "execution_count": 30,
     "metadata": {},
     "output_type": "execute_result"
    }
   ],
   "source": [
    "df.reply_category.value_counts()"
   ]
  },
  {
   "cell_type": "code",
   "execution_count": 31,
   "id": "260311ea",
   "metadata": {},
   "outputs": [],
   "source": [
    "ohe = OneHotEncoder(sparse=False)\n",
    "\n",
    "ohe.fit(df[['reply_category']])\n",
    "\n",
    "reply_encoded = ohe.transform(df[['reply_category']])\n",
    "\n",
    "df['No_reply'], df['Reply_to_other'], df['Self_reply'] = reply_encoded.T"
   ]
  },
  {
   "cell_type": "code",
   "execution_count": 32,
   "id": "368231dc",
   "metadata": {},
   "outputs": [
    {
     "data": {
      "text/html": [
       "<div>\n",
       "<style scoped>\n",
       "    .dataframe tbody tr th:only-of-type {\n",
       "        vertical-align: middle;\n",
       "    }\n",
       "\n",
       "    .dataframe tbody tr th {\n",
       "        vertical-align: top;\n",
       "    }\n",
       "\n",
       "    .dataframe thead th {\n",
       "        text-align: right;\n",
       "    }\n",
       "</style>\n",
       "<table border=\"1\" class=\"dataframe\">\n",
       "  <thead>\n",
       "    <tr style=\"text-align: right;\">\n",
       "      <th></th>\n",
       "      <th>author_id</th>\n",
       "      <th>id</th>\n",
       "      <th>lang</th>\n",
       "      <th>text</th>\n",
       "      <th>created_at</th>\n",
       "      <th>lag</th>\n",
       "      <th>possibly_sensitive</th>\n",
       "      <th>referenced_tweets</th>\n",
       "      <th>reply_category</th>\n",
       "      <th>like_count</th>\n",
       "      <th>quote_count</th>\n",
       "      <th>reply_count</th>\n",
       "      <th>retweet_count</th>\n",
       "      <th>n_mentions</th>\n",
       "      <th>target</th>\n",
       "      <th>No_reply</th>\n",
       "      <th>Reply_to_other</th>\n",
       "      <th>Self_reply</th>\n",
       "    </tr>\n",
       "  </thead>\n",
       "  <tbody>\n",
       "    <tr>\n",
       "      <th>13</th>\n",
       "      <td>1000197919</td>\n",
       "      <td>1261733558474829824</td>\n",
       "      <td>en</td>\n",
       "      <td>@trekonomics Same here. Best pate ever....have...</td>\n",
       "      <td>2020-05-16 19:01:36+00:00</td>\n",
       "      <td>33 days 14:13:11</td>\n",
       "      <td>0</td>\n",
       "      <td>1</td>\n",
       "      <td>Reply_to_other</td>\n",
       "      <td>-0.142857</td>\n",
       "      <td>0.0</td>\n",
       "      <td>0.0</td>\n",
       "      <td>0.0</td>\n",
       "      <td>1.0</td>\n",
       "      <td>0</td>\n",
       "      <td>0.0</td>\n",
       "      <td>1.0</td>\n",
       "      <td>0.0</td>\n",
       "    </tr>\n",
       "    <tr>\n",
       "      <th>14</th>\n",
       "      <td>1000197919</td>\n",
       "      <td>1264695397588406272</td>\n",
       "      <td>en</td>\n",
       "      <td>PCC is a great example....reach out to your el...</td>\n",
       "      <td>2020-05-24 23:10:54+00:00</td>\n",
       "      <td>8 days 04:09:18</td>\n",
       "      <td>0</td>\n",
       "      <td>1</td>\n",
       "      <td>No_reply</td>\n",
       "      <td>-0.142857</td>\n",
       "      <td>0.0</td>\n",
       "      <td>0.0</td>\n",
       "      <td>0.0</td>\n",
       "      <td>0.0</td>\n",
       "      <td>0</td>\n",
       "      <td>1.0</td>\n",
       "      <td>0.0</td>\n",
       "      <td>0.0</td>\n",
       "    </tr>\n",
       "    <tr>\n",
       "      <th>15</th>\n",
       "      <td>1000197919</td>\n",
       "      <td>1271119064941752320</td>\n",
       "      <td>en</td>\n",
       "      <td>both the theorem - and the conclusion. https:/...</td>\n",
       "      <td>2020-06-11 16:36:15+00:00</td>\n",
       "      <td>17 days 17:25:21</td>\n",
       "      <td>0</td>\n",
       "      <td>1</td>\n",
       "      <td>No_reply</td>\n",
       "      <td>-0.142857</td>\n",
       "      <td>0.0</td>\n",
       "      <td>0.0</td>\n",
       "      <td>0.0</td>\n",
       "      <td>0.0</td>\n",
       "      <td>0</td>\n",
       "      <td>1.0</td>\n",
       "      <td>0.0</td>\n",
       "      <td>0.0</td>\n",
       "    </tr>\n",
       "    <tr>\n",
       "      <th>16</th>\n",
       "      <td>1000197919</td>\n",
       "      <td>1273846820133695488</td>\n",
       "      <td>en</td>\n",
       "      <td>@GeneralCattis they're learning from the best!</td>\n",
       "      <td>2020-06-19 05:15:23+00:00</td>\n",
       "      <td>7 days 12:39:08</td>\n",
       "      <td>0</td>\n",
       "      <td>1</td>\n",
       "      <td>Reply_to_other</td>\n",
       "      <td>-0.142857</td>\n",
       "      <td>0.0</td>\n",
       "      <td>0.0</td>\n",
       "      <td>0.0</td>\n",
       "      <td>1.0</td>\n",
       "      <td>0</td>\n",
       "      <td>0.0</td>\n",
       "      <td>1.0</td>\n",
       "      <td>0.0</td>\n",
       "    </tr>\n",
       "    <tr>\n",
       "      <th>17</th>\n",
       "      <td>1000197919</td>\n",
       "      <td>1275472007769976832</td>\n",
       "      <td>en</td>\n",
       "      <td>this thread... https://t.co/OSveBlPctt</td>\n",
       "      <td>2020-06-23 16:53:18+00:00</td>\n",
       "      <td>4 days 11:37:55</td>\n",
       "      <td>0</td>\n",
       "      <td>1</td>\n",
       "      <td>No_reply</td>\n",
       "      <td>-0.142857</td>\n",
       "      <td>0.0</td>\n",
       "      <td>0.0</td>\n",
       "      <td>0.0</td>\n",
       "      <td>0.0</td>\n",
       "      <td>0</td>\n",
       "      <td>1.0</td>\n",
       "      <td>0.0</td>\n",
       "      <td>0.0</td>\n",
       "    </tr>\n",
       "  </tbody>\n",
       "</table>\n",
       "</div>"
      ],
      "text/plain": [
       "     author_id                   id lang  \\\n",
       "13  1000197919  1261733558474829824   en   \n",
       "14  1000197919  1264695397588406272   en   \n",
       "15  1000197919  1271119064941752320   en   \n",
       "16  1000197919  1273846820133695488   en   \n",
       "17  1000197919  1275472007769976832   en   \n",
       "\n",
       "                                                 text  \\\n",
       "13  @trekonomics Same here. Best pate ever....have...   \n",
       "14  PCC is a great example....reach out to your el...   \n",
       "15  both the theorem - and the conclusion. https:/...   \n",
       "16     @GeneralCattis they're learning from the best!   \n",
       "17             this thread... https://t.co/OSveBlPctt   \n",
       "\n",
       "                  created_at              lag  possibly_sensitive  \\\n",
       "13 2020-05-16 19:01:36+00:00 33 days 14:13:11                   0   \n",
       "14 2020-05-24 23:10:54+00:00  8 days 04:09:18                   0   \n",
       "15 2020-06-11 16:36:15+00:00 17 days 17:25:21                   0   \n",
       "16 2020-06-19 05:15:23+00:00  7 days 12:39:08                   0   \n",
       "17 2020-06-23 16:53:18+00:00  4 days 11:37:55                   0   \n",
       "\n",
       "    referenced_tweets  reply_category  like_count  quote_count  reply_count  \\\n",
       "13                  1  Reply_to_other   -0.142857          0.0          0.0   \n",
       "14                  1        No_reply   -0.142857          0.0          0.0   \n",
       "15                  1        No_reply   -0.142857          0.0          0.0   \n",
       "16                  1  Reply_to_other   -0.142857          0.0          0.0   \n",
       "17                  1        No_reply   -0.142857          0.0          0.0   \n",
       "\n",
       "    retweet_count  n_mentions  target  No_reply  Reply_to_other  Self_reply  \n",
       "13            0.0         1.0       0       0.0             1.0         0.0  \n",
       "14            0.0         0.0       0       1.0             0.0         0.0  \n",
       "15            0.0         0.0       0       1.0             0.0         0.0  \n",
       "16            0.0         1.0       0       0.0             1.0         0.0  \n",
       "17            0.0         0.0       0       1.0             0.0         0.0  "
      ]
     },
     "execution_count": 32,
     "metadata": {},
     "output_type": "execute_result"
    }
   ],
   "source": [
    "df.head()"
   ]
  },
  {
   "cell_type": "markdown",
   "id": "f1eacab9",
   "metadata": {},
   "source": [
    "## Correlation"
   ]
  },
  {
   "cell_type": "code",
   "execution_count": 34,
   "id": "df0d3a68",
   "metadata": {},
   "outputs": [
    {
     "data": {
      "text/html": [
       "<div>\n",
       "<style scoped>\n",
       "    .dataframe tbody tr th:only-of-type {\n",
       "        vertical-align: middle;\n",
       "    }\n",
       "\n",
       "    .dataframe tbody tr th {\n",
       "        vertical-align: top;\n",
       "    }\n",
       "\n",
       "    .dataframe thead th {\n",
       "        text-align: right;\n",
       "    }\n",
       "</style>\n",
       "<table border=\"1\" class=\"dataframe\">\n",
       "  <thead>\n",
       "    <tr style=\"text-align: right;\">\n",
       "      <th></th>\n",
       "      <th>author_id</th>\n",
       "      <th>possibly_sensitive</th>\n",
       "      <th>referenced_tweets</th>\n",
       "      <th>like_count</th>\n",
       "      <th>quote_count</th>\n",
       "      <th>reply_count</th>\n",
       "      <th>retweet_count</th>\n",
       "      <th>n_mentions</th>\n",
       "      <th>target</th>\n",
       "      <th>No_reply</th>\n",
       "      <th>Reply_to_other</th>\n",
       "      <th>Self_reply</th>\n",
       "    </tr>\n",
       "  </thead>\n",
       "  <tbody>\n",
       "    <tr>\n",
       "      <th>author_id</th>\n",
       "      <td>1.000000</td>\n",
       "      <td>-0.007272</td>\n",
       "      <td>-0.019425</td>\n",
       "      <td>-0.019090</td>\n",
       "      <td>-0.008625</td>\n",
       "      <td>-0.011415</td>\n",
       "      <td>-0.013648</td>\n",
       "      <td>-0.019233</td>\n",
       "      <td>0.150894</td>\n",
       "      <td>0.002206</td>\n",
       "      <td>-0.001228</td>\n",
       "      <td>-0.002730</td>\n",
       "    </tr>\n",
       "    <tr>\n",
       "      <th>possibly_sensitive</th>\n",
       "      <td>-0.007272</td>\n",
       "      <td>1.000000</td>\n",
       "      <td>-0.060048</td>\n",
       "      <td>-0.000223</td>\n",
       "      <td>0.000291</td>\n",
       "      <td>0.000083</td>\n",
       "      <td>0.000005</td>\n",
       "      <td>-0.011946</td>\n",
       "      <td>0.015395</td>\n",
       "      <td>0.046660</td>\n",
       "      <td>-0.044977</td>\n",
       "      <td>-0.007392</td>\n",
       "    </tr>\n",
       "    <tr>\n",
       "      <th>referenced_tweets</th>\n",
       "      <td>-0.019425</td>\n",
       "      <td>-0.060048</td>\n",
       "      <td>1.000000</td>\n",
       "      <td>-0.038007</td>\n",
       "      <td>-0.017314</td>\n",
       "      <td>-0.021420</td>\n",
       "      <td>-0.025439</td>\n",
       "      <td>0.266079</td>\n",
       "      <td>-0.153496</td>\n",
       "      <td>-0.752504</td>\n",
       "      <td>0.692377</td>\n",
       "      <td>0.206671</td>\n",
       "    </tr>\n",
       "    <tr>\n",
       "      <th>like_count</th>\n",
       "      <td>-0.019090</td>\n",
       "      <td>-0.000223</td>\n",
       "      <td>-0.038007</td>\n",
       "      <td>1.000000</td>\n",
       "      <td>0.696719</td>\n",
       "      <td>0.632435</td>\n",
       "      <td>0.829364</td>\n",
       "      <td>-0.015856</td>\n",
       "      <td>-0.024831</td>\n",
       "      <td>0.043778</td>\n",
       "      <td>-0.043122</td>\n",
       "      <td>-0.004492</td>\n",
       "    </tr>\n",
       "    <tr>\n",
       "      <th>quote_count</th>\n",
       "      <td>-0.008625</td>\n",
       "      <td>0.000291</td>\n",
       "      <td>-0.017314</td>\n",
       "      <td>0.696719</td>\n",
       "      <td>1.000000</td>\n",
       "      <td>0.653810</td>\n",
       "      <td>0.714089</td>\n",
       "      <td>-0.007163</td>\n",
       "      <td>-0.009754</td>\n",
       "      <td>0.017013</td>\n",
       "      <td>-0.016521</td>\n",
       "      <td>-0.002374</td>\n",
       "    </tr>\n",
       "    <tr>\n",
       "      <th>reply_count</th>\n",
       "      <td>-0.011415</td>\n",
       "      <td>0.000083</td>\n",
       "      <td>-0.021420</td>\n",
       "      <td>0.632435</td>\n",
       "      <td>0.653810</td>\n",
       "      <td>1.000000</td>\n",
       "      <td>0.602159</td>\n",
       "      <td>-0.007416</td>\n",
       "      <td>-0.013374</td>\n",
       "      <td>0.022996</td>\n",
       "      <td>-0.022198</td>\n",
       "      <td>-0.003561</td>\n",
       "    </tr>\n",
       "    <tr>\n",
       "      <th>retweet_count</th>\n",
       "      <td>-0.013648</td>\n",
       "      <td>0.000005</td>\n",
       "      <td>-0.025439</td>\n",
       "      <td>0.829364</td>\n",
       "      <td>0.714089</td>\n",
       "      <td>0.602159</td>\n",
       "      <td>1.000000</td>\n",
       "      <td>-0.010154</td>\n",
       "      <td>-0.015669</td>\n",
       "      <td>0.030384</td>\n",
       "      <td>-0.029854</td>\n",
       "      <td>-0.003314</td>\n",
       "    </tr>\n",
       "    <tr>\n",
       "      <th>n_mentions</th>\n",
       "      <td>-0.019233</td>\n",
       "      <td>-0.011946</td>\n",
       "      <td>0.266079</td>\n",
       "      <td>-0.015856</td>\n",
       "      <td>-0.007163</td>\n",
       "      <td>-0.007416</td>\n",
       "      <td>-0.010154</td>\n",
       "      <td>1.000000</td>\n",
       "      <td>-0.063365</td>\n",
       "      <td>-0.361849</td>\n",
       "      <td>0.376642</td>\n",
       "      <td>-0.016480</td>\n",
       "    </tr>\n",
       "    <tr>\n",
       "      <th>target</th>\n",
       "      <td>0.150894</td>\n",
       "      <td>0.015395</td>\n",
       "      <td>-0.153496</td>\n",
       "      <td>-0.024831</td>\n",
       "      <td>-0.009754</td>\n",
       "      <td>-0.013374</td>\n",
       "      <td>-0.015669</td>\n",
       "      <td>-0.063365</td>\n",
       "      <td>1.000000</td>\n",
       "      <td>0.092192</td>\n",
       "      <td>-0.079810</td>\n",
       "      <td>-0.038616</td>\n",
       "    </tr>\n",
       "    <tr>\n",
       "      <th>No_reply</th>\n",
       "      <td>0.002206</td>\n",
       "      <td>0.046660</td>\n",
       "      <td>-0.752504</td>\n",
       "      <td>0.043778</td>\n",
       "      <td>0.017013</td>\n",
       "      <td>0.022996</td>\n",
       "      <td>0.030384</td>\n",
       "      <td>-0.361849</td>\n",
       "      <td>0.092192</td>\n",
       "      <td>1.000000</td>\n",
       "      <td>-0.930770</td>\n",
       "      <td>-0.246351</td>\n",
       "    </tr>\n",
       "    <tr>\n",
       "      <th>Reply_to_other</th>\n",
       "      <td>-0.001228</td>\n",
       "      <td>-0.044977</td>\n",
       "      <td>0.692377</td>\n",
       "      <td>-0.043122</td>\n",
       "      <td>-0.016521</td>\n",
       "      <td>-0.022198</td>\n",
       "      <td>-0.029854</td>\n",
       "      <td>0.376642</td>\n",
       "      <td>-0.079810</td>\n",
       "      <td>-0.930770</td>\n",
       "      <td>1.000000</td>\n",
       "      <td>-0.125042</td>\n",
       "    </tr>\n",
       "    <tr>\n",
       "      <th>Self_reply</th>\n",
       "      <td>-0.002730</td>\n",
       "      <td>-0.007392</td>\n",
       "      <td>0.206671</td>\n",
       "      <td>-0.004492</td>\n",
       "      <td>-0.002374</td>\n",
       "      <td>-0.003561</td>\n",
       "      <td>-0.003314</td>\n",
       "      <td>-0.016480</td>\n",
       "      <td>-0.038616</td>\n",
       "      <td>-0.246351</td>\n",
       "      <td>-0.125042</td>\n",
       "      <td>1.000000</td>\n",
       "    </tr>\n",
       "  </tbody>\n",
       "</table>\n",
       "</div>"
      ],
      "text/plain": [
       "                    author_id  possibly_sensitive  referenced_tweets  \\\n",
       "author_id            1.000000           -0.007272          -0.019425   \n",
       "possibly_sensitive  -0.007272            1.000000          -0.060048   \n",
       "referenced_tweets   -0.019425           -0.060048           1.000000   \n",
       "like_count          -0.019090           -0.000223          -0.038007   \n",
       "quote_count         -0.008625            0.000291          -0.017314   \n",
       "reply_count         -0.011415            0.000083          -0.021420   \n",
       "retweet_count       -0.013648            0.000005          -0.025439   \n",
       "n_mentions          -0.019233           -0.011946           0.266079   \n",
       "target               0.150894            0.015395          -0.153496   \n",
       "No_reply             0.002206            0.046660          -0.752504   \n",
       "Reply_to_other      -0.001228           -0.044977           0.692377   \n",
       "Self_reply          -0.002730           -0.007392           0.206671   \n",
       "\n",
       "                    like_count  quote_count  reply_count  retweet_count  \\\n",
       "author_id            -0.019090    -0.008625    -0.011415      -0.013648   \n",
       "possibly_sensitive   -0.000223     0.000291     0.000083       0.000005   \n",
       "referenced_tweets    -0.038007    -0.017314    -0.021420      -0.025439   \n",
       "like_count            1.000000     0.696719     0.632435       0.829364   \n",
       "quote_count           0.696719     1.000000     0.653810       0.714089   \n",
       "reply_count           0.632435     0.653810     1.000000       0.602159   \n",
       "retweet_count         0.829364     0.714089     0.602159       1.000000   \n",
       "n_mentions           -0.015856    -0.007163    -0.007416      -0.010154   \n",
       "target               -0.024831    -0.009754    -0.013374      -0.015669   \n",
       "No_reply              0.043778     0.017013     0.022996       0.030384   \n",
       "Reply_to_other       -0.043122    -0.016521    -0.022198      -0.029854   \n",
       "Self_reply           -0.004492    -0.002374    -0.003561      -0.003314   \n",
       "\n",
       "                    n_mentions    target  No_reply  Reply_to_other  Self_reply  \n",
       "author_id            -0.019233  0.150894  0.002206       -0.001228   -0.002730  \n",
       "possibly_sensitive   -0.011946  0.015395  0.046660       -0.044977   -0.007392  \n",
       "referenced_tweets     0.266079 -0.153496 -0.752504        0.692377    0.206671  \n",
       "like_count           -0.015856 -0.024831  0.043778       -0.043122   -0.004492  \n",
       "quote_count          -0.007163 -0.009754  0.017013       -0.016521   -0.002374  \n",
       "reply_count          -0.007416 -0.013374  0.022996       -0.022198   -0.003561  \n",
       "retweet_count        -0.010154 -0.015669  0.030384       -0.029854   -0.003314  \n",
       "n_mentions            1.000000 -0.063365 -0.361849        0.376642   -0.016480  \n",
       "target               -0.063365  1.000000  0.092192       -0.079810   -0.038616  \n",
       "No_reply             -0.361849  0.092192  1.000000       -0.930770   -0.246351  \n",
       "Reply_to_other        0.376642 -0.079810 -0.930770        1.000000   -0.125042  \n",
       "Self_reply           -0.016480 -0.038616 -0.246351       -0.125042    1.000000  "
      ]
     },
     "execution_count": 34,
     "metadata": {},
     "output_type": "execute_result"
    }
   ],
   "source": [
    "df.corr()"
   ]
  },
  {
   "cell_type": "code",
   "execution_count": 37,
   "id": "63edfbf8",
   "metadata": {},
   "outputs": [
    {
     "data": {
      "text/plain": [
       "<AxesSubplot:>"
      ]
     },
     "execution_count": 37,
     "metadata": {},
     "output_type": "execute_result"
    },
    {
     "data": {
      "image/png": "[encoded data removed]",
      "text/plain": [
       "<Figure size 432x288 with 2 Axes>"
      ]
     },
     "metadata": {
      "needs_background": "light"
     },
     "output_type": "display_data"
    }
   ],
   "source": [
    "corr = df.corr()\n",
    "sns.heatmap(corr)"
   ]
  },
  {
   "cell_type": "code",
   "execution_count": null,
   "id": "6cdf3f20",
   "metadata": {},
   "outputs": [],
   "source": []
  }
 ],
 "metadata": {
  "kernelspec": {
   "display_name": "Python 3 (ipykernel)",
   "language": "python",
   "name": "python3"
  },
  "language_info": {
   "codemirror_mode": {
    "name": "ipython",
    "version": 3
   },
   "file_extension": ".py",
   "mimetype": "text/x-python",
   "name": "python",
   "nbconvert_exporter": "python",
   "pygments_lexer": "ipython3",
   "version": "3.8.12"
  },
  "toc": {
   "base_numbering": 1,
   "nav_menu": {},
   "number_sections": true,
   "sideBar": true,
   "skip_h1_title": false,
   "title_cell": "Table of Contents",
   "title_sidebar": "Contents",
   "toc_cell": false,
   "toc_position": {},
   "toc_section_display": true,
   "toc_window_display": false
  }
 },
 "nbformat": 4,
 "nbformat_minor": 5
}
