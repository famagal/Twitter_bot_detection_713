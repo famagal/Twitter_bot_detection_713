{
 "cells": [
  {
   "cell_type": "code",
   "execution_count": 1,
   "id": "a66687b1",
   "metadata": {},
   "outputs": [
    {
     "name": "stderr",
     "output_type": "stream",
     "text": [
      "2021-11-29 21:45:58.646152: W tensorflow/stream_executor/platform/default/dso_loader.cc:64] Could not load dynamic library 'libcudart.so.11.0'; dlerror: libcudart.so.11.0: cannot open shared object file: No such file or directory\n",
      "2021-11-29 21:45:58.646238: I tensorflow/stream_executor/cuda/cudart_stub.cc:29] Ignore above cudart dlerror if you do not have a GPU set up on your machine.\n"
     ]
    }
   ],
   "source": [
    "%load_ext autoreload\n",
    "%autoreload 2\n",
    "import pandas as pd\n",
    "import numpy as np\n",
    "from Twitter_bot_detection_713.data_prep import tweet_df_cleaner, user_df_cleaner, get_final_tweet_data"
   ]
  },
  {
   "cell_type": "code",
   "execution_count": 2,
   "id": "0d04575f",
   "metadata": {},
   "outputs": [],
   "source": [
    "user_df = pd.read_csv('../raw_data/users_data.csv',\n",
    "                          sep='\\t',\n",
    "                          lineterminator='\\n')"
   ]
  },
  {
   "cell_type": "code",
   "execution_count": 3,
   "id": "36acd958",
   "metadata": {},
   "outputs": [],
   "source": [
    "df = user_df_cleaner(user_df)"
   ]
  },
  {
   "cell_type": "code",
   "execution_count": 4,
   "id": "4d26bdcd",
   "metadata": {},
   "outputs": [
    {
     "data": {
      "text/html": [
       "<div>\n",
       "<style scoped>\n",
       "    .dataframe tbody tr th:only-of-type {\n",
       "        vertical-align: middle;\n",
       "    }\n",
       "\n",
       "    .dataframe tbody tr th {\n",
       "        vertical-align: top;\n",
       "    }\n",
       "\n",
       "    .dataframe thead th {\n",
       "        text-align: right;\n",
       "    }\n",
       "</style>\n",
       "<table border=\"1\" class=\"dataframe\">\n",
       "  <thead>\n",
       "    <tr style=\"text-align: right;\">\n",
       "      <th></th>\n",
       "      <th>author_id</th>\n",
       "      <th>username</th>\n",
       "      <th>user_display_name</th>\n",
       "      <th>user_desc</th>\n",
       "      <th>user_created_at</th>\n",
       "      <th>user_verified</th>\n",
       "      <th>user_private</th>\n",
       "      <th>user_followers_cnt</th>\n",
       "      <th>user_following_cnt</th>\n",
       "      <th>user_tweet_count</th>\n",
       "      <th>user_list_count</th>\n",
       "      <th>target</th>\n",
       "    </tr>\n",
       "  </thead>\n",
       "  <tbody>\n",
       "    <tr>\n",
       "      <th>0</th>\n",
       "      <td>787405734442958848</td>\n",
       "      <td>best_in_dumbest</td>\n",
       "      <td>The Best In Dumbest</td>\n",
       "      <td>Blame @xaiax, Inspired by @MakingInvisible, us...</td>\n",
       "      <td>2016-10-15 21:32:11+00:00</td>\n",
       "      <td>False</td>\n",
       "      <td>False</td>\n",
       "      <td>1848</td>\n",
       "      <td>5</td>\n",
       "      <td>14542</td>\n",
       "      <td>0</td>\n",
       "      <td>bot</td>\n",
       "    </tr>\n",
       "    <tr>\n",
       "      <th>1</th>\n",
       "      <td>796216118331310080</td>\n",
       "      <td>CJRubinPhoto</td>\n",
       "      <td>CJ Rubin</td>\n",
       "      <td>Photographing the American West since 1980. I ...</td>\n",
       "      <td>2016-11-09 05:01:30+00:00</td>\n",
       "      <td>False</td>\n",
       "      <td>False</td>\n",
       "      <td>812</td>\n",
       "      <td>845</td>\n",
       "      <td>251</td>\n",
       "      <td>5</td>\n",
       "      <td>human</td>\n",
       "    </tr>\n",
       "    <tr>\n",
       "      <th>2</th>\n",
       "      <td>875949740503859204</td>\n",
       "      <td>SVGEGENT</td>\n",
       "      <td>🔥𝖙𝖍𝖊 𝖘𝖆𝖛𝖆𝖌𝖊 𝖌𝖊𝖓𝖙𝖑𝖊𝖒𝖆𝖓🔥</td>\n",
       "      <td>Part savage all gentleman                     ...</td>\n",
       "      <td>2017-06-17 05:34:27+00:00</td>\n",
       "      <td>False</td>\n",
       "      <td>False</td>\n",
       "      <td>182</td>\n",
       "      <td>885</td>\n",
       "      <td>1288</td>\n",
       "      <td>2</td>\n",
       "      <td>human</td>\n",
       "    </tr>\n",
       "    <tr>\n",
       "      <th>3</th>\n",
       "      <td>756119643622735875</td>\n",
       "      <td>TinkerVHECHK5</td>\n",
       "      <td>Danielle Tinker</td>\n",
       "      <td>Wife.Godmother.Friend.Feline Fanatic! Principa...</td>\n",
       "      <td>2016-07-21 13:32:25+00:00</td>\n",
       "      <td>False</td>\n",
       "      <td>False</td>\n",
       "      <td>657</td>\n",
       "      <td>747</td>\n",
       "      <td>1920</td>\n",
       "      <td>2</td>\n",
       "      <td>human</td>\n",
       "    </tr>\n",
       "    <tr>\n",
       "      <th>4</th>\n",
       "      <td>464781334</td>\n",
       "      <td>JoleonLescott</td>\n",
       "      <td>Joleon Lescott</td>\n",
       "      <td>England U21 Assistant Coach | @pumafootball Am...</td>\n",
       "      <td>2012-01-15 16:32:35+00:00</td>\n",
       "      <td>True</td>\n",
       "      <td>False</td>\n",
       "      <td>739915</td>\n",
       "      <td>120</td>\n",
       "      <td>4459</td>\n",
       "      <td>1800</td>\n",
       "      <td>human</td>\n",
       "    </tr>\n",
       "    <tr>\n",
       "      <th>...</th>\n",
       "      <td>...</td>\n",
       "      <td>...</td>\n",
       "      <td>...</td>\n",
       "      <td>...</td>\n",
       "      <td>...</td>\n",
       "      <td>...</td>\n",
       "      <td>...</td>\n",
       "      <td>...</td>\n",
       "      <td>...</td>\n",
       "      <td>...</td>\n",
       "      <td>...</td>\n",
       "      <td>...</td>\n",
       "    </tr>\n",
       "    <tr>\n",
       "      <th>36229</th>\n",
       "      <td>63963107</td>\n",
       "      <td>butchsekab</td>\n",
       "      <td>Rosemary Pearman nee Bakes</td>\n",
       "      <td>Unemployed! Retail Assistant, Stocktaker, Dry ...</td>\n",
       "      <td>2009-08-08 13:11:15+00:00</td>\n",
       "      <td>False</td>\n",
       "      <td>False</td>\n",
       "      <td>152</td>\n",
       "      <td>1219</td>\n",
       "      <td>487</td>\n",
       "      <td>3</td>\n",
       "      <td>human</td>\n",
       "    </tr>\n",
       "    <tr>\n",
       "      <th>36230</th>\n",
       "      <td>1064042478</td>\n",
       "      <td>Mathieu_Era</td>\n",
       "      <td>Tyrann Mathieu</td>\n",
       "      <td>FOLLOW ME ON IG.</td>\n",
       "      <td>2013-01-05 21:35:37+00:00</td>\n",
       "      <td>True</td>\n",
       "      <td>False</td>\n",
       "      <td>1237990</td>\n",
       "      <td>799</td>\n",
       "      <td>27326</td>\n",
       "      <td>1475</td>\n",
       "      <td>human</td>\n",
       "    </tr>\n",
       "    <tr>\n",
       "      <th>36231</th>\n",
       "      <td>1089732602</td>\n",
       "      <td>SDalmaoficial</td>\n",
       "      <td>Sergio Dalma</td>\n",
       "      <td>Bienvenid@s al Twitter Oficial de Sergio Dalma...</td>\n",
       "      <td>2013-01-14 18:05:54+00:00</td>\n",
       "      <td>True</td>\n",
       "      <td>False</td>\n",
       "      <td>85615</td>\n",
       "      <td>189</td>\n",
       "      <td>6640</td>\n",
       "      <td>270</td>\n",
       "      <td>human</td>\n",
       "    </tr>\n",
       "    <tr>\n",
       "      <th>36232</th>\n",
       "      <td>815529979</td>\n",
       "      <td>VinceYearly</td>\n",
       "      <td>Mr. Vance</td>\n",
       "      <td>Just a good guy wrapped up in a bad system.\\nA...</td>\n",
       "      <td>2012-09-10 16:12:02+00:00</td>\n",
       "      <td>False</td>\n",
       "      <td>False</td>\n",
       "      <td>137</td>\n",
       "      <td>166</td>\n",
       "      <td>1040</td>\n",
       "      <td>3</td>\n",
       "      <td>human</td>\n",
       "    </tr>\n",
       "    <tr>\n",
       "      <th>36233</th>\n",
       "      <td>434896892</td>\n",
       "      <td>zhemcom</td>\n",
       "      <td>zhemcom</td>\n",
       "      <td>你好！中国</td>\n",
       "      <td>2011-12-12 12:59:28+00:00</td>\n",
       "      <td>False</td>\n",
       "      <td>False</td>\n",
       "      <td>3</td>\n",
       "      <td>0</td>\n",
       "      <td>1521</td>\n",
       "      <td>0</td>\n",
       "      <td>bot</td>\n",
       "    </tr>\n",
       "  </tbody>\n",
       "</table>\n",
       "<p>36234 rows × 12 columns</p>\n",
       "</div>"
      ],
      "text/plain": [
       "                author_id         username           user_display_name  \\\n",
       "0      787405734442958848  best_in_dumbest         The Best In Dumbest   \n",
       "1      796216118331310080     CJRubinPhoto                    CJ Rubin   \n",
       "2      875949740503859204         SVGEGENT      🔥𝖙𝖍𝖊 𝖘𝖆𝖛𝖆𝖌𝖊 𝖌𝖊𝖓𝖙𝖑𝖊𝖒𝖆𝖓🔥   \n",
       "3      756119643622735875    TinkerVHECHK5             Danielle Tinker   \n",
       "4               464781334    JoleonLescott              Joleon Lescott   \n",
       "...                   ...              ...                         ...   \n",
       "36229            63963107       butchsekab  Rosemary Pearman nee Bakes   \n",
       "36230          1064042478      Mathieu_Era              Tyrann Mathieu   \n",
       "36231          1089732602    SDalmaoficial                Sergio Dalma   \n",
       "36232           815529979      VinceYearly                   Mr. Vance   \n",
       "36233           434896892          zhemcom                     zhemcom   \n",
       "\n",
       "                                               user_desc  \\\n",
       "0      Blame @xaiax, Inspired by @MakingInvisible, us...   \n",
       "1      Photographing the American West since 1980. I ...   \n",
       "2      Part savage all gentleman                     ...   \n",
       "3      Wife.Godmother.Friend.Feline Fanatic! Principa...   \n",
       "4      England U21 Assistant Coach | @pumafootball Am...   \n",
       "...                                                  ...   \n",
       "36229  Unemployed! Retail Assistant, Stocktaker, Dry ...   \n",
       "36230                                   FOLLOW ME ON IG.   \n",
       "36231  Bienvenid@s al Twitter Oficial de Sergio Dalma...   \n",
       "36232  Just a good guy wrapped up in a bad system.\\nA...   \n",
       "36233                                              你好！中国   \n",
       "\n",
       "                user_created_at  user_verified  user_private  \\\n",
       "0     2016-10-15 21:32:11+00:00          False         False   \n",
       "1     2016-11-09 05:01:30+00:00          False         False   \n",
       "2     2017-06-17 05:34:27+00:00          False         False   \n",
       "3     2016-07-21 13:32:25+00:00          False         False   \n",
       "4     2012-01-15 16:32:35+00:00           True         False   \n",
       "...                         ...            ...           ...   \n",
       "36229 2009-08-08 13:11:15+00:00          False         False   \n",
       "36230 2013-01-05 21:35:37+00:00           True         False   \n",
       "36231 2013-01-14 18:05:54+00:00           True         False   \n",
       "36232 2012-09-10 16:12:02+00:00          False         False   \n",
       "36233 2011-12-12 12:59:28+00:00          False         False   \n",
       "\n",
       "       user_followers_cnt  user_following_cnt  user_tweet_count  \\\n",
       "0                    1848                   5             14542   \n",
       "1                     812                 845               251   \n",
       "2                     182                 885              1288   \n",
       "3                     657                 747              1920   \n",
       "4                  739915                 120              4459   \n",
       "...                   ...                 ...               ...   \n",
       "36229                 152                1219               487   \n",
       "36230             1237990                 799             27326   \n",
       "36231               85615                 189              6640   \n",
       "36232                 137                 166              1040   \n",
       "36233                   3                   0              1521   \n",
       "\n",
       "       user_list_count target  \n",
       "0                    0    bot  \n",
       "1                    5  human  \n",
       "2                    2  human  \n",
       "3                    2  human  \n",
       "4                 1800  human  \n",
       "...                ...    ...  \n",
       "36229                3  human  \n",
       "36230             1475  human  \n",
       "36231              270  human  \n",
       "36232                3  human  \n",
       "36233                0    bot  \n",
       "\n",
       "[36234 rows x 12 columns]"
      ]
     },
     "execution_count": 4,
     "metadata": {},
     "output_type": "execute_result"
    }
   ],
   "source": [
    "df"
   ]
  },
  {
   "cell_type": "code",
   "execution_count": 11,
   "id": "997a34ae",
   "metadata": {},
   "outputs": [],
   "source": [
    "X = df[['user_verified', 'user_private', 'user_followers_cnt', 'user_following_cnt', 'user_tweet_count', 'user_list_count']]\n",
    "y = df['target'].apply(lambda x: 1 if x == 'bot' else 0)"
   ]
  },
  {
   "cell_type": "code",
   "execution_count": 12,
   "id": "af869b69",
   "metadata": {},
   "outputs": [],
   "source": [
    "from sklearn.model_selection import train_test_split\n",
    "\n",
    "X_train, x_test, y_train, y_test = train_test_split(X, y, test_size=0.2, random_state=0)"
   ]
  },
  {
   "cell_type": "code",
   "execution_count": null,
   "id": "564f44bd",
   "metadata": {},
   "outputs": [],
   "source": [
    "df[['user_followers_cnt', 'user_following_cnt', 'user_tweet_count', 'user_list_count']].describe()"
   ]
  },
  {
   "cell_type": "code",
   "execution_count": null,
   "id": "ffa2f6f4",
   "metadata": {},
   "outputs": [],
   "source": [
    "df.corr()"
   ]
  },
  {
   "cell_type": "markdown",
   "id": "6552240e",
   "metadata": {},
   "source": [
    "## Duplicates & Missing Values"
   ]
  },
  {
   "cell_type": "code",
   "execution_count": null,
   "id": "b5876b2c",
   "metadata": {},
   "outputs": [],
   "source": [
    "df.duplicated().sum()"
   ]
  },
  {
   "cell_type": "markdown",
   "id": "0a0144e6",
   "metadata": {},
   "source": [
    "NO DUPLICATES"
   ]
  },
  {
   "cell_type": "code",
   "execution_count": null,
   "id": "c3bd71a7",
   "metadata": {},
   "outputs": [],
   "source": [
    "(df.isnull().sum() / len(df)) "
   ]
  },
  {
   "cell_type": "markdown",
   "id": "dec50c82",
   "metadata": {},
   "source": [
    "### Imputing missing values"
   ]
  },
  {
   "cell_type": "code",
   "execution_count": 7,
   "id": "349128a6",
   "metadata": {},
   "outputs": [],
   "source": [
    "from sklearn.impute import SimpleImputer"
   ]
  },
  {
   "cell_type": "code",
   "execution_count": null,
   "id": "ef7abc1a",
   "metadata": {},
   "outputs": [],
   "source": [
    "imputer = SimpleImputer(strategy='constant', fill_value='no user_desc')\n",
    "\n",
    "imputer.fit(df[['user_desc']])\n",
    "\n",
    "df['user_desc'] = imputer.transform(df[['user_desc']])"
   ]
  },
  {
   "cell_type": "code",
   "execution_count": null,
   "id": "0f7c4705",
   "metadata": {},
   "outputs": [],
   "source": [
    "(df.isnull().sum() / len(df)) * 100"
   ]
  },
  {
   "cell_type": "markdown",
   "id": "f9a3b849",
   "metadata": {},
   "source": [
    "## Outliers - Plotting"
   ]
  },
  {
   "cell_type": "code",
   "execution_count": null,
   "id": "ef6ad9c1",
   "metadata": {},
   "outputs": [],
   "source": [
    "import seaborn as sns\n",
    "import matplotlib.pyplot as plt"
   ]
  },
  {
   "cell_type": "code",
   "execution_count": null,
   "id": "0651e181",
   "metadata": {},
   "outputs": [],
   "source": [
    "sns.boxplot(data=df, x='user_followers_cnt')"
   ]
  },
  {
   "cell_type": "code",
   "execution_count": null,
   "id": "c7006280",
   "metadata": {},
   "outputs": [],
   "source": [
    "sns.histplot(data=df, x='user_tweet_count')\n",
    "plt.xlim(0,2)\n",
    "plt.ylim(0,10000)"
   ]
  },
  {
   "cell_type": "markdown",
   "id": "84122622",
   "metadata": {},
   "source": [
    "## Robust-Scaler for num_vars"
   ]
  },
  {
   "cell_type": "code",
   "execution_count": null,
   "id": "b71c15e5",
   "metadata": {},
   "outputs": [],
   "source": [
    "\n",
    "r_scaler = RobustScaler()\n",
    "\n",
    "num_features = df[['user_followers_cnt', 'user_following_cnt', 'user_tweet_count', 'user_list_count']]\n",
    "\n",
    "r_scaler.fit(num_features)\n",
    "df[['user_followers_cnt', 'user_following_cnt', 'user_tweet_count', 'user_list_count']] = r_scaler.transform(num_features)"
   ]
  },
  {
   "cell_type": "code",
   "execution_count": null,
   "id": "fe1a05ec",
   "metadata": {},
   "outputs": [],
   "source": [
    "df.head()"
   ]
  },
  {
   "cell_type": "markdown",
   "id": "1fc08b5d",
   "metadata": {},
   "source": [
    "## Labeling 'bool' and target "
   ]
  },
  {
   "cell_type": "code",
   "execution_count": null,
   "id": "07c3d043",
   "metadata": {},
   "outputs": [],
   "source": [
    "df['user_private'].value_counts()"
   ]
  },
  {
   "cell_type": "code",
   "execution_count": 8,
   "id": "097dbcea",
   "metadata": {},
   "outputs": [],
   "source": [
    "from sklearn.preprocessing import LabelEncoder\n",
    "from sklearn.preprocessing import RobustScaler"
   ]
  },
  {
   "cell_type": "code",
   "execution_count": null,
   "id": "8968c68d",
   "metadata": {},
   "outputs": [],
   "source": [
    "label.fit(df['target'])\n",
    "\n",
    "df['target'] = label.transform(df['target'])"
   ]
  },
  {
   "cell_type": "code",
   "execution_count": null,
   "id": "e2f8c813",
   "metadata": {},
   "outputs": [],
   "source": [
    "df.head()"
   ]
  },
  {
   "cell_type": "code",
   "execution_count": null,
   "id": "5e75bc18",
   "metadata": {},
   "outputs": [],
   "source": [
    "df['user_verified'] = df['user_verified'].map(lambda x: 1 if x == True else 0)"
   ]
  },
  {
   "cell_type": "code",
   "execution_count": null,
   "id": "cefd7784",
   "metadata": {},
   "outputs": [],
   "source": [
    "df['user_private'] = df['user_private'].map(lambda x: 1 if x == True else 0)"
   ]
  },
  {
   "cell_type": "code",
   "execution_count": null,
   "id": "894cb35c",
   "metadata": {},
   "outputs": [],
   "source": [
    "df['target'] = df['target'].map(lambda x: 1 if x == 'bot' else 0)"
   ]
  },
  {
   "cell_type": "code",
   "execution_count": null,
   "id": "9df3a074",
   "metadata": {},
   "outputs": [],
   "source": [
    "df['user_private'].value_counts()"
   ]
  },
  {
   "cell_type": "code",
   "execution_count": null,
   "id": "78946507",
   "metadata": {},
   "outputs": [],
   "source": [
    "df.head()"
   ]
  },
  {
   "cell_type": "markdown",
   "id": "5ee1e313",
   "metadata": {},
   "source": [
    "## Correlation & Heatmap"
   ]
  },
  {
   "cell_type": "code",
   "execution_count": null,
   "id": "80eaa2a7",
   "metadata": {},
   "outputs": [],
   "source": [
    "df[['user_verified', 'user_private', 'user_followers_cnt', 'user_following_cnt', 'user_tweet_count', 'user_list_count']].corr()"
   ]
  },
  {
   "cell_type": "code",
   "execution_count": null,
   "id": "a3abdbb9",
   "metadata": {},
   "outputs": [],
   "source": [
    "corr = df[['user_verified', 'user_private', 'user_followers_cnt', 'user_following_cnt', 'user_tweet_count', 'user_list_count']].corr()\n",
    "sns.heatmap(corr, cmap=\"YlGnBu\")"
   ]
  },
  {
   "cell_type": "markdown",
   "id": "02740e1f",
   "metadata": {},
   "source": [
    "## Pipeline"
   ]
  },
  {
   "cell_type": "code",
   "execution_count": 9,
   "id": "c2e9d68f",
   "metadata": {},
   "outputs": [],
   "source": [
    "from sklearn.pipeline import Pipeline\n",
    "from sklearn.compose import ColumnTransformer\n",
    "from sklearn.linear_model import LogisticRegression"
   ]
  },
  {
   "cell_type": "code",
   "execution_count": 13,
   "id": "293dd0a2",
   "metadata": {},
   "outputs": [],
   "source": [
    "\n",
    "\n",
    "preprocessor = ColumnTransformer([\n",
    "    ('num_tr', RobustScaler(), ['user_followers_cnt', 'user_following_cnt', 'user_tweet_count', 'user_list_count'])    \n",
    "])\n",
    "\n",
    "pipe = Pipeline([\n",
    "                ('preprocessor', preprocessor),\n",
    "                ('log_reg', LogisticRegression())     \n",
    "])\n",
    "\n",
    "df_transformed = pipe.fit(X_train, y_train)\n",
    "\n"
   ]
  },
  {
   "cell_type": "code",
   "execution_count": null,
   "id": "9637e9b6",
   "metadata": {},
   "outputs": [],
   "source": [
    "preprocessor = ColumnTransformer([\n",
    "    #('imputer', SimpleImputer(strategy='constant', fill_value='no user_desc'), ['user_desc']),\n",
    "    ('num_tr', RobustScaler(), ['user_followers_cnt', 'user_following_cnt', 'user_tweet_count', 'user_list_count'])\n",
    "    #('cat_tr', LabelEncoder(), ['user_verified', 'user_private'])\n",
    "])"
   ]
  },
  {
   "cell_type": "code",
   "execution_count": null,
   "id": "9530db31",
   "metadata": {},
   "outputs": [],
   "source": [
    "X_train.dtypes"
   ]
  },
  {
   "cell_type": "code",
   "execution_count": null,
   "id": "8d0525e9",
   "metadata": {},
   "outputs": [],
   "source": [
    "x_preproc = preprocessor.fit_transform(X_train)"
   ]
  },
  {
   "cell_type": "code",
   "execution_count": null,
   "id": "19232c14",
   "metadata": {},
   "outputs": [],
   "source": [
    "x_preproc"
   ]
  },
  {
   "cell_type": "code",
   "execution_count": null,
   "id": "fc3fbe16",
   "metadata": {},
   "outputs": [],
   "source": []
  }
 ],
 "metadata": {
  "kernelspec": {
   "display_name": "Python 3 (ipykernel)",
   "language": "python",
   "name": "python3"
  },
  "language_info": {
   "codemirror_mode": {
    "name": "ipython",
    "version": 3
   },
   "file_extension": ".py",
   "mimetype": "text/x-python",
   "name": "python",
   "nbconvert_exporter": "python",
   "pygments_lexer": "ipython3",
   "version": "3.8.12"
  },
  "toc": {
   "base_numbering": 1,
   "nav_menu": {},
   "number_sections": true,
   "sideBar": true,
   "skip_h1_title": false,
   "title_cell": "Table of Contents",
   "title_sidebar": "Contents",
   "toc_cell": false,
   "toc_position": {},
   "toc_section_display": true,
   "toc_window_display": false
  }
 },
 "nbformat": 4,
 "nbformat_minor": 5
}
