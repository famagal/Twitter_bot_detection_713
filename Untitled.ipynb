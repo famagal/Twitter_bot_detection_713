{
 "cells": [
  {
   "cell_type": "code",
   "execution_count": 4,
   "id": "bb3f5797",
   "metadata": {},
   "outputs": [],
   "source": [
    "import pandas as pd\n",
    "import requests"
   ]
  },
  {
   "cell_type": "code",
   "execution_count": 13,
   "id": "13c01b18",
   "metadata": {},
   "outputs": [],
   "source": [
    "##API Authentication\n",
    "headers = {'Authorization':\n",
    "        'Bearer AAAAAAAAAAAAAAAAAAAAAItHWAEAAAAAzLnE3%2BmKEvFM6YBkCWg0uIUKx4E%3D4rsDk0JgTYQSPIYb0kqeC7ep0W4hvMtb2vJtQ1F9eaZ1xdI9Zq'\n",
    "}"
   ]
  },
  {
   "cell_type": "code",
   "execution_count": 16,
   "id": "e7d53e00",
   "metadata": {},
   "outputs": [],
   "source": [
    "response = requests.get('https://api.twitter.com/2/tweets/1050118621198921728?tweet.fields=attachments,author_id,created_at,entities,geo,id,in_reply_to_user_id,lang,possibly_sensitive,referenced_tweets,source,text,withheld&expansions', headers=headers).json()"
   ]
  },
  {
   "cell_type": "code",
   "execution_count": 23,
   "id": "fef01f8a",
   "metadata": {},
   "outputs": [
    {
     "data": {
      "text/plain": [
       "{'annotations': [{'start': 168,\n",
       "   'end': 174,\n",
       "   'probability': 0.6123,\n",
       "   'type': 'Product',\n",
       "   'normalized_text': 'Twitter'},\n",
       "  {'start': 215,\n",
       "   'end': 221,\n",
       "   'probability': 0.6981,\n",
       "   'type': 'Product',\n",
       "   'normalized_text': 'Twitter'}],\n",
       " 'urls': [{'start': 254,\n",
       "   'end': 277,\n",
       "   'url': 'https://t.co/Nx1XZmRCXA',\n",
       "   'expanded_url': 'https://twittercommunity.com/t/new-update-to-the-twitter-text-library-emoji-character-count/114607',\n",
       "   'display_url': 'twittercommunity.com/t/new-update-t…',\n",
       "   'images': [{'url': 'https://pbs.twimg.com/news_img/1450063065299492867/cNKC_0xV?format=jpg&name=orig',\n",
       "     'width': 1200,\n",
       "     'height': 630},\n",
       "    {'url': 'https://pbs.twimg.com/news_img/1450063065299492867/cNKC_0xV?format=jpg&name=150x150',\n",
       "     'width': 150,\n",
       "     'height': 150}],\n",
       "   'status': 200,\n",
       "   'title': 'New update to the Twitter-Text library: Emoji character count',\n",
       "   'description': 'Over the years, we have made several updates to the way that people can communicate on Twitter. One of the more notable changes made last year was to increase the number of characters per Tweet from 140 to 280 characters. Today, we continue to expand people’s ability to express themselves by announcing a change to the way that we count emojis. Due to the differences in the way written text and emojis are encoded, many emojis (including emojis where you can apply gender and skin tone) have count...',\n",
       "   'unwound_url': 'https://twittercommunity.com/t/new-update-to-the-twitter-text-library-emoji-character-count/114607'}]}"
      ]
     },
     "execution_count": 23,
     "metadata": {},
     "output_type": "execute_result"
    }
   ],
   "source": [
    "response['data']['entities']"
   ]
  },
  {
   "cell_type": "code",
   "execution_count": null,
   "id": "e6c2a730",
   "metadata": {},
   "outputs": [],
   "source": []
  }
 ],
 "metadata": {
  "kernelspec": {
   "display_name": "Python 3 (ipykernel)",
   "language": "python",
   "name": "python3"
  },
  "language_info": {
   "codemirror_mode": {
    "name": "ipython",
    "version": 3
   },
   "file_extension": ".py",
   "mimetype": "text/x-python",
   "name": "python",
   "nbconvert_exporter": "python",
   "pygments_lexer": "ipython3",
   "version": "3.8.12"
  }
 },
 "nbformat": 4,
 "nbformat_minor": 5
}
